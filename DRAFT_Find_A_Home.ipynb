{
  "nbformat": 4,
  "nbformat_minor": 0,
  "metadata": {
    "colab": {
      "provenance": [],
      "collapsed_sections": [
        "yaZZeDP9bd2Q",
        "wdZmjng4doZL",
        "QCV86-iqiC4l",
        "1JT8_73X3BQB",
        "aLeuh_4C1vkf"
      ]
    },
    "kernelspec": {
      "name": "python3",
      "display_name": "Python 3"
    },
    "language_info": {
      "name": "python"
    }
  },
  "cells": [
    {
      "cell_type": "markdown",
      "source": [
        "# Finding a home in the North East United States"
      ],
      "metadata": {
        "id": "yaZZeDP9bd2Q"
      }
    },
    {
      "cell_type": "code",
      "source": [
        "from google.colab import drive\n",
        "import pandas as pd\n",
        "import numpy as np\n",
        "import matplotlib.pyplot as plt\n",
        "import re"
      ],
      "metadata": {
        "id": "zgmaEjl8iQFO"
      },
      "execution_count": 85,
      "outputs": []
    },
    {
      "cell_type": "code",
      "source": [
        "# load data in from google drive\n",
        "drive.mount(\"/content/drive\")\n",
        "path = \"/content/drive/MyDrive/realtor-data.csv\"\n",
        "real_estate_rawdata = pd.read_csv(path)\n",
        "real_estate_rawdata.head()"
      ],
      "metadata": {
        "colab": {
          "base_uri": "https://localhost:8080/",
          "height": 224
        },
        "id": "eT4WsNBeioim",
        "outputId": "6de576d5-d1dc-47f7-9ab7-b55b72bd42f4"
      },
      "execution_count": 86,
      "outputs": [
        {
          "output_type": "stream",
          "name": "stdout",
          "text": [
            "Drive already mounted at /content/drive; to attempt to forcibly remount, call drive.mount(\"/content/drive\", force_remount=True).\n"
          ]
        },
        {
          "output_type": "execute_result",
          "data": {
            "text/plain": [
              "     status     price  bed  bath  acre_lot  \\\n",
              "0  for_sale  105000.0  3.0   2.0      0.12   \n",
              "1  for_sale   80000.0  4.0   2.0      0.08   \n",
              "2  for_sale   67000.0  2.0   1.0      0.15   \n",
              "3  for_sale  145000.0  4.0   2.0      0.10   \n",
              "4  for_sale   65000.0  6.0   2.0      0.05   \n",
              "\n",
              "                                        full_address  \\\n",
              "0  Sector Yahuecas Titulo # V84, Adjuntas, PR, 00601   \n",
              "1            Km 78 9 Carr # 135, Adjuntas, PR, 00601   \n",
              "2            556G 556-G 16 St, Juana Diaz, PR, 00795   \n",
              "3  R5 Comunidad El Paraso Calle De Oro R-5 Ponce,...   \n",
              "4                    14 Navarro, Mayaguez, PR, 00680   \n",
              "\n",
              "                                          street        city        state  \\\n",
              "0                   Sector Yahuecas Titulo # V84    Adjuntas  Puerto Rico   \n",
              "1                             Km 78 9 Carr # 135    Adjuntas  Puerto Rico   \n",
              "2                               556G 556-G 16 St  Juana Diaz  Puerto Rico   \n",
              "3  R5 Comunidad El Paraso Calle De Oro R-5 Ponce       Ponce  Puerto Rico   \n",
              "4                                     14 Navarro    Mayaguez  Puerto Rico   \n",
              "\n",
              "   zip_code  house_size sold_date  \n",
              "0     601.0       920.0       NaN  \n",
              "1     601.0      1527.0       NaN  \n",
              "2     795.0       748.0       NaN  \n",
              "3     731.0      1800.0       NaN  \n",
              "4     680.0         NaN       NaN  "
            ],
            "text/html": [
              "\n",
              "  <div id=\"df-58535c0b-3b6c-401a-bf4c-f267cbd2e861\">\n",
              "    <div class=\"colab-df-container\">\n",
              "      <div>\n",
              "<style scoped>\n",
              "    .dataframe tbody tr th:only-of-type {\n",
              "        vertical-align: middle;\n",
              "    }\n",
              "\n",
              "    .dataframe tbody tr th {\n",
              "        vertical-align: top;\n",
              "    }\n",
              "\n",
              "    .dataframe thead th {\n",
              "        text-align: right;\n",
              "    }\n",
              "</style>\n",
              "<table border=\"1\" class=\"dataframe\">\n",
              "  <thead>\n",
              "    <tr style=\"text-align: right;\">\n",
              "      <th></th>\n",
              "      <th>status</th>\n",
              "      <th>price</th>\n",
              "      <th>bed</th>\n",
              "      <th>bath</th>\n",
              "      <th>acre_lot</th>\n",
              "      <th>full_address</th>\n",
              "      <th>street</th>\n",
              "      <th>city</th>\n",
              "      <th>state</th>\n",
              "      <th>zip_code</th>\n",
              "      <th>house_size</th>\n",
              "      <th>sold_date</th>\n",
              "    </tr>\n",
              "  </thead>\n",
              "  <tbody>\n",
              "    <tr>\n",
              "      <th>0</th>\n",
              "      <td>for_sale</td>\n",
              "      <td>105000.0</td>\n",
              "      <td>3.0</td>\n",
              "      <td>2.0</td>\n",
              "      <td>0.12</td>\n",
              "      <td>Sector Yahuecas Titulo # V84, Adjuntas, PR, 00601</td>\n",
              "      <td>Sector Yahuecas Titulo # V84</td>\n",
              "      <td>Adjuntas</td>\n",
              "      <td>Puerto Rico</td>\n",
              "      <td>601.0</td>\n",
              "      <td>920.0</td>\n",
              "      <td>NaN</td>\n",
              "    </tr>\n",
              "    <tr>\n",
              "      <th>1</th>\n",
              "      <td>for_sale</td>\n",
              "      <td>80000.0</td>\n",
              "      <td>4.0</td>\n",
              "      <td>2.0</td>\n",
              "      <td>0.08</td>\n",
              "      <td>Km 78 9 Carr # 135, Adjuntas, PR, 00601</td>\n",
              "      <td>Km 78 9 Carr # 135</td>\n",
              "      <td>Adjuntas</td>\n",
              "      <td>Puerto Rico</td>\n",
              "      <td>601.0</td>\n",
              "      <td>1527.0</td>\n",
              "      <td>NaN</td>\n",
              "    </tr>\n",
              "    <tr>\n",
              "      <th>2</th>\n",
              "      <td>for_sale</td>\n",
              "      <td>67000.0</td>\n",
              "      <td>2.0</td>\n",
              "      <td>1.0</td>\n",
              "      <td>0.15</td>\n",
              "      <td>556G 556-G 16 St, Juana Diaz, PR, 00795</td>\n",
              "      <td>556G 556-G 16 St</td>\n",
              "      <td>Juana Diaz</td>\n",
              "      <td>Puerto Rico</td>\n",
              "      <td>795.0</td>\n",
              "      <td>748.0</td>\n",
              "      <td>NaN</td>\n",
              "    </tr>\n",
              "    <tr>\n",
              "      <th>3</th>\n",
              "      <td>for_sale</td>\n",
              "      <td>145000.0</td>\n",
              "      <td>4.0</td>\n",
              "      <td>2.0</td>\n",
              "      <td>0.10</td>\n",
              "      <td>R5 Comunidad El Paraso Calle De Oro R-5 Ponce,...</td>\n",
              "      <td>R5 Comunidad El Paraso Calle De Oro R-5 Ponce</td>\n",
              "      <td>Ponce</td>\n",
              "      <td>Puerto Rico</td>\n",
              "      <td>731.0</td>\n",
              "      <td>1800.0</td>\n",
              "      <td>NaN</td>\n",
              "    </tr>\n",
              "    <tr>\n",
              "      <th>4</th>\n",
              "      <td>for_sale</td>\n",
              "      <td>65000.0</td>\n",
              "      <td>6.0</td>\n",
              "      <td>2.0</td>\n",
              "      <td>0.05</td>\n",
              "      <td>14 Navarro, Mayaguez, PR, 00680</td>\n",
              "      <td>14 Navarro</td>\n",
              "      <td>Mayaguez</td>\n",
              "      <td>Puerto Rico</td>\n",
              "      <td>680.0</td>\n",
              "      <td>NaN</td>\n",
              "      <td>NaN</td>\n",
              "    </tr>\n",
              "  </tbody>\n",
              "</table>\n",
              "</div>\n",
              "      <button class=\"colab-df-convert\" onclick=\"convertToInteractive('df-58535c0b-3b6c-401a-bf4c-f267cbd2e861')\"\n",
              "              title=\"Convert this dataframe to an interactive table.\"\n",
              "              style=\"display:none;\">\n",
              "        \n",
              "  <svg xmlns=\"http://www.w3.org/2000/svg\" height=\"24px\"viewBox=\"0 0 24 24\"\n",
              "       width=\"24px\">\n",
              "    <path d=\"M0 0h24v24H0V0z\" fill=\"none\"/>\n",
              "    <path d=\"M18.56 5.44l.94 2.06.94-2.06 2.06-.94-2.06-.94-.94-2.06-.94 2.06-2.06.94zm-11 1L8.5 8.5l.94-2.06 2.06-.94-2.06-.94L8.5 2.5l-.94 2.06-2.06.94zm10 10l.94 2.06.94-2.06 2.06-.94-2.06-.94-.94-2.06-.94 2.06-2.06.94z\"/><path d=\"M17.41 7.96l-1.37-1.37c-.4-.4-.92-.59-1.43-.59-.52 0-1.04.2-1.43.59L10.3 9.45l-7.72 7.72c-.78.78-.78 2.05 0 2.83L4 21.41c.39.39.9.59 1.41.59.51 0 1.02-.2 1.41-.59l7.78-7.78 2.81-2.81c.8-.78.8-2.07 0-2.86zM5.41 20L4 18.59l7.72-7.72 1.47 1.35L5.41 20z\"/>\n",
              "  </svg>\n",
              "      </button>\n",
              "      \n",
              "  <style>\n",
              "    .colab-df-container {\n",
              "      display:flex;\n",
              "      flex-wrap:wrap;\n",
              "      gap: 12px;\n",
              "    }\n",
              "\n",
              "    .colab-df-convert {\n",
              "      background-color: #E8F0FE;\n",
              "      border: none;\n",
              "      border-radius: 50%;\n",
              "      cursor: pointer;\n",
              "      display: none;\n",
              "      fill: #1967D2;\n",
              "      height: 32px;\n",
              "      padding: 0 0 0 0;\n",
              "      width: 32px;\n",
              "    }\n",
              "\n",
              "    .colab-df-convert:hover {\n",
              "      background-color: #E2EBFA;\n",
              "      box-shadow: 0px 1px 2px rgba(60, 64, 67, 0.3), 0px 1px 3px 1px rgba(60, 64, 67, 0.15);\n",
              "      fill: #174EA6;\n",
              "    }\n",
              "\n",
              "    [theme=dark] .colab-df-convert {\n",
              "      background-color: #3B4455;\n",
              "      fill: #D2E3FC;\n",
              "    }\n",
              "\n",
              "    [theme=dark] .colab-df-convert:hover {\n",
              "      background-color: #434B5C;\n",
              "      box-shadow: 0px 1px 3px 1px rgba(0, 0, 0, 0.15);\n",
              "      filter: drop-shadow(0px 1px 2px rgba(0, 0, 0, 0.3));\n",
              "      fill: #FFFFFF;\n",
              "    }\n",
              "  </style>\n",
              "\n",
              "      <script>\n",
              "        const buttonEl =\n",
              "          document.querySelector('#df-58535c0b-3b6c-401a-bf4c-f267cbd2e861 button.colab-df-convert');\n",
              "        buttonEl.style.display =\n",
              "          google.colab.kernel.accessAllowed ? 'block' : 'none';\n",
              "\n",
              "        async function convertToInteractive(key) {\n",
              "          const element = document.querySelector('#df-58535c0b-3b6c-401a-bf4c-f267cbd2e861');\n",
              "          const dataTable =\n",
              "            await google.colab.kernel.invokeFunction('convertToInteractive',\n",
              "                                                     [key], {});\n",
              "          if (!dataTable) return;\n",
              "\n",
              "          const docLinkHtml = 'Like what you see? Visit the ' +\n",
              "            '<a target=\"_blank\" href=https://colab.research.google.com/notebooks/data_table.ipynb>data table notebook</a>'\n",
              "            + ' to learn more about interactive tables.';\n",
              "          element.innerHTML = '';\n",
              "          dataTable['output_type'] = 'display_data';\n",
              "          await google.colab.output.renderOutput(dataTable, element);\n",
              "          const docLink = document.createElement('div');\n",
              "          docLink.innerHTML = docLinkHtml;\n",
              "          element.appendChild(docLink);\n",
              "        }\n",
              "      </script>\n",
              "    </div>\n",
              "  </div>\n",
              "  "
            ]
          },
          "metadata": {},
          "execution_count": 86
        }
      ]
    },
    {
      "cell_type": "markdown",
      "source": [
        "# SECTION 1: The Data"
      ],
      "metadata": {
        "id": "wdZmjng4doZL"
      }
    },
    {
      "cell_type": "markdown",
      "source": [
        "| Feature Name | Description | Data Types |\n",
        "| ------------ | ---------- | --- |\n",
        "| status | _For sale or not_ | string |\n",
        "| price | _Selling price in dollars_ | float |\n",
        "| bed | _Number of bedrooms_ | float | \n",
        "| bath | _Number of bathrooms_ | float |\n",
        "| acre_lot | _Acreage of property_ | float |\n",
        "| address | _Full address of property_ | string |\n",
        "| street | _Street of property_ | string |\n",
        "| city | _City of property_ | string |\n",
        "| state | _State of property_ | string |\n",
        "| zip_code | _Zipcode of property_ | float |\n",
        "| house_size | _Square footage of property_ | float | \n",
        "|sold_date | _Date of property sale_ | string |"
      ],
      "metadata": {
        "id": "ReVXoQkBd1dx"
      }
    },
    {
      "cell_type": "markdown",
      "source": [
        "Assumtions:\n",
        "*   We assume that 'house_size' is the square footage of the property.\n",
        "\n",
        "Changes to the data:\n",
        "*   Most the data types did not have to be changed\n",
        "*   We removed all duplicates by 'address'\n",
        "*   We replaced missing values with the series average in the following series:\n",
        "      *   'price'\n",
        "      *   'bed'\n",
        "      *   'bath'\n",
        "      *   'acre_lot'\n",
        "      *   'house_size'\n",
        "*   We removed the outliers using the IQR method\n",
        "      *    Meaning we calculated the lower and upper quantiles\n",
        "      *    Determined the IQR, Upper and Lower bounds\n",
        "      *    Then for the outliers that fell outside the upper bound, were replaced with the upper bound, and any outliers below the lower bound were replaced with the lower bound. \n",
        "\n",
        "\n"
      ],
      "metadata": {
        "id": "o5rSckVkfkjK"
      }
    },
    {
      "cell_type": "code",
      "source": [
        "# drop dataframe duplicates by full_address\n",
        "real_estate_data = real_estate_rawdata.drop_duplicates(subset= 'full_address', keep='first', ignore_index = True)"
      ],
      "metadata": {
        "id": "C7fgOPbxj42q"
      },
      "execution_count": 87,
      "outputs": []
    },
    {
      "cell_type": "code",
      "source": [
        "# checking data types\n",
        "real_estate_data.dtypes"
      ],
      "metadata": {
        "colab": {
          "base_uri": "https://localhost:8080/"
        },
        "id": "r7dmi3yjkFRd",
        "outputId": "726f759a-cebe-409d-c92e-f8211eb639ca"
      },
      "execution_count": 88,
      "outputs": [
        {
          "output_type": "execute_result",
          "data": {
            "text/plain": [
              "status           object\n",
              "price           float64\n",
              "bed             float64\n",
              "bath            float64\n",
              "acre_lot        float64\n",
              "full_address     object\n",
              "street           object\n",
              "city             object\n",
              "state            object\n",
              "zip_code        float64\n",
              "house_size      float64\n",
              "sold_date        object\n",
              "dtype: object"
            ]
          },
          "metadata": {},
          "execution_count": 88
        }
      ]
    },
    {
      "cell_type": "code",
      "source": [
        "# try to replace missing values with mean\n",
        "# creating copy of df\n",
        "real_estate_data_copy = real_estate_data.copy()\n",
        "# correct missing values \n",
        "real_estate_data_copy['price'] = real_estate_data_copy['price'].fillna(real_estate_data_copy['price'].mean())\n",
        "real_estate_data_copy['bed'] = real_estate_data_copy['bed'].fillna(real_estate_data_copy['bed'].mean())\n",
        "real_estate_data_copy['bath'] = real_estate_data_copy['bath'].fillna(real_estate_data_copy['bath'].mean())\n",
        "real_estate_data_copy['acre_lot'] = real_estate_data_copy['acre_lot'].fillna(real_estate_data_copy['acre_lot'].mean())\n",
        "real_estate_data_copy['house_size'] = real_estate_data_copy['house_size'].fillna(real_estate_data_copy['house_size'].mean())"
      ],
      "metadata": {
        "id": "gbsc1-5UkLrS"
      },
      "execution_count": 89,
      "outputs": []
    },
    {
      "cell_type": "code",
      "source": [
        "real_estate_data_copy['price'].astype(int)"
      ],
      "metadata": {
        "colab": {
          "base_uri": "https://localhost:8080/"
        },
        "id": "Gbd0dJrGmvX9",
        "outputId": "e30df0e6-34d5-41f6-df1d-368fe9a6c8c1"
      },
      "execution_count": 90,
      "outputs": [
        {
          "output_type": "execute_result",
          "data": {
            "text/plain": [
              "0          105000\n",
              "1           80000\n",
              "2           67000\n",
              "3          145000\n",
              "4           65000\n",
              "           ...   \n",
              "112227    1649000\n",
              "112228     779000\n",
              "112229    1595000\n",
              "112230    4595000\n",
              "112231    2995000\n",
              "Name: price, Length: 112232, dtype: int64"
            ]
          },
          "metadata": {},
          "execution_count": 90
        }
      ]
    },
    {
      "cell_type": "code",
      "source": [
        "# 'price' with outliers\n",
        "plt.boxplot(real_estate_data_copy['price'])"
      ],
      "metadata": {
        "colab": {
          "base_uri": "https://localhost:8080/",
          "height": 422
        },
        "id": "yhVRuGzLnBae",
        "outputId": "e176908c-1705-4409-8de9-ce1f9fe4b1a5"
      },
      "execution_count": 91,
      "outputs": [
        {
          "output_type": "execute_result",
          "data": {
            "text/plain": [
              "{'whiskers': [<matplotlib.lines.Line2D at 0x7f2a1a1ab0d0>,\n",
              "  <matplotlib.lines.Line2D at 0x7f2a1a1ab430>],\n",
              " 'caps': [<matplotlib.lines.Line2D at 0x7f2a1a1ab790>,\n",
              "  <matplotlib.lines.Line2D at 0x7f2a1a1abaf0>],\n",
              " 'boxes': [<matplotlib.lines.Line2D at 0x7f2a1a1b7d30>],\n",
              " 'medians': [<matplotlib.lines.Line2D at 0x7f2a1a1abe50>],\n",
              " 'fliers': [<matplotlib.lines.Line2D at 0x7f2a1a19f190>],\n",
              " 'means': []}"
            ]
          },
          "metadata": {},
          "execution_count": 91
        },
        {
          "output_type": "display_data",
          "data": {
            "text/plain": [
              "<Figure size 432x288 with 1 Axes>"
            ],
            "image/png": "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\n"
          },
          "metadata": {
            "needs_background": "light"
          }
        }
      ]
    },
    {
      "cell_type": "code",
      "source": [
        "# price  without outliers\n",
        "q1 =  np.quantile(real_estate_data_copy['price'], 0.25)\n",
        "q3 =  np.quantile(real_estate_data_copy['price'], 0.75)\n",
        "\n",
        "iqr = q3 - q1\n",
        "\n",
        "bound_low = q1 - 1.5 * iqr\n",
        "bound_up = q3 + 1.5 * iqr\n",
        "\n",
        "real_estate_data_copy['price'] =  np.where(real_estate_data_copy['price'] > bound_up, bound_up, real_estate_data_copy['price'])\n",
        "real_estate_data_copy['price'] =  np.where(real_estate_data_copy['price']< bound_low, bound_low, real_estate_data_copy['price'])\n",
        "\n",
        "plt.boxplot(real_estate_data_copy['price']);"
      ],
      "metadata": {
        "colab": {
          "base_uri": "https://localhost:8080/",
          "height": 276
        },
        "id": "jSFy1OrlleV5",
        "outputId": "bd198fdd-ecef-4342-88e9-1640a5d9924d"
      },
      "execution_count": 92,
      "outputs": [
        {
          "output_type": "display_data",
          "data": {
            "text/plain": [
              "<Figure size 432x288 with 1 Axes>"
            ],
            "image/png": "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\n"
          },
          "metadata": {
            "needs_background": "light"
          }
        }
      ]
    },
    {
      "cell_type": "code",
      "source": [
        "# square footage with outliers \n",
        "plt.boxplot(real_estate_data_copy['house_size']);"
      ],
      "metadata": {
        "colab": {
          "base_uri": "https://localhost:8080/",
          "height": 276
        },
        "id": "tPKu_xnNnTJh",
        "outputId": "11dff936-3bda-4ba9-f9f1-4550b439a239"
      },
      "execution_count": 93,
      "outputs": [
        {
          "output_type": "display_data",
          "data": {
            "text/plain": [
              "<Figure size 432x288 with 1 Axes>"
            ],
            "image/png": "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\n"
          },
          "metadata": {
            "needs_background": "light"
          }
        }
      ]
    },
    {
      "cell_type": "code",
      "source": [
        "# square footage wihtout outliers \n",
        "q1 =  np.quantile(real_estate_data_copy['house_size'], 0.25)\n",
        "q3 =  np.quantile(real_estate_data_copy['house_size'], 0.75)\n",
        "\n",
        "iqr = q3 - q1\n",
        "\n",
        "bound_low = q1 - 1.5 * iqr\n",
        "bound_up = q3 + 1.5 * iqr\n",
        "\n",
        "real_estate_data_copy['house_size'] =  np.where(real_estate_data_copy['house_size'] > bound_up, bound_up, real_estate_data_copy['house_size'])\n",
        "real_estate_data_copy['house_size'] =  np.where(real_estate_data_copy['house_size']< bound_low, bound_low, real_estate_data_copy['house_size'])\n",
        "\n",
        "plt.boxplot(real_estate_data_copy['house_size']);"
      ],
      "metadata": {
        "colab": {
          "base_uri": "https://localhost:8080/",
          "height": 265
        },
        "id": "KBfPLWPalo2-",
        "outputId": "33527a11-a6e0-422a-bfe0-6fd2ff474ac6"
      },
      "execution_count": 94,
      "outputs": [
        {
          "output_type": "display_data",
          "data": {
            "text/plain": [
              "<Figure size 432x288 with 1 Axes>"
            ],
            "image/png": "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\n"
          },
          "metadata": {
            "needs_background": "light"
          }
        }
      ]
    },
    {
      "cell_type": "markdown",
      "source": [
        "THE STATES\n",
        "\n",
        "\n",
        "*   Due to lack of significant data the following states were removed: Geroge, South Caroline, Tennessee, Virginia, West Virigina, Wyoming. \n",
        "*   Due to lack of relevence in our analysis the following states were removed: Puerto Rico and Virgin Islands\n",
        "\n",
        "\n",
        "\n",
        "| State Abbreviation | State | Removed | \n",
        "| ------------ | --------------- | ------------ | \n",
        "| Connecticut | CT | |\n",
        "| Delaware | DE | |\n",
        "| Georgia | GA | _Removed due to lack of data_ |\n",
        "| Maine | ME | |\n",
        "| Massachusetts | MA | |\n",
        "| New Hampshire | NH | |\n",
        "| New Jersey | NJ | |\n",
        "| New York | NY | |\n",
        "| Pennsylvania |PA | |\n",
        "| Puerto Rico | PR | _Removed due irrelevance_ |\n",
        "| Rhode Island |RI | |\n",
        "| South Carolina | SC | _Removed due to lack of data_ |\n",
        "| Tennessee | TN | _Removed due to lack of data_ |\n",
        "| Vermont | VT | |\n",
        "| Virgin Islands | VI | _Removed due irrelevance_ |\n",
        "| Virginia | VA | _Removed due to lack of data_ |\n",
        "| West Virginia | WV | _Removed due to lack of data_ |\n",
        "| Wyoming | WY | _Removed due to lack of data_ |\n",
        "\n",
        "\n"
      ],
      "metadata": {
        "id": "oK7BWaAveCjg"
      }
    },
    {
      "cell_type": "code",
      "source": [
        "# count of data in each state\n",
        "real_estate_data_copy['state'].value_counts()"
      ],
      "metadata": {
        "colab": {
          "base_uri": "https://localhost:8080/"
        },
        "id": "11K4HGqsoWnf",
        "outputId": "6a6a9114-38a3-4162-bab2-22b4468332b0"
      },
      "execution_count": 95,
      "outputs": [
        {
          "output_type": "execute_result",
          "data": {
            "text/plain": [
              "New Jersey        32299\n",
              "New York          27952\n",
              "Connecticut       13776\n",
              "Massachusetts     10110\n",
              "Pennsylvania       9001\n",
              "Maine              4986\n",
              "New Hampshire      3532\n",
              "Rhode Island       3409\n",
              "Puerto Rico        2632\n",
              "Vermont            2500\n",
              "Delaware           1277\n",
              "Virgin Islands      742\n",
              "Virginia              7\n",
              "Georgia               5\n",
              "Wyoming               1\n",
              "South Carolina        1\n",
              "West Virginia         1\n",
              "Tennessee             1\n",
              "Name: state, dtype: int64"
            ]
          },
          "metadata": {},
          "execution_count": 95
        }
      ]
    },
    {
      "cell_type": "code",
      "source": [
        "# removing states with lack of data\n",
        "real_estate_data_copy.drop(real_estate_data_copy.index[real_estate_data_copy['state'] == 'Georgia'], inplace = True)\n",
        "real_estate_data_copy.drop(real_estate_data_copy.index[real_estate_data_copy['state'] == 'South Carolina'], inplace = True)\n",
        "real_estate_data_copy.drop(real_estate_data_copy.index[real_estate_data_copy['state'] == 'Tennessee'], inplace = True)\n",
        "real_estate_data_copy.drop(real_estate_data_copy.index[real_estate_data_copy['state'] == 'Virginia'], inplace = True)\n",
        "real_estate_data_copy.drop(real_estate_data_copy.index[real_estate_data_copy['state'] == 'West Virginia'], inplace = True)\n",
        "real_estate_data_copy.drop(real_estate_data_copy.index[real_estate_data_copy['state'] == 'Wyoming'], inplace = True)\n",
        "# removing states with lack of relevance\n",
        "real_estate_data_copy.drop(real_estate_data_copy.index[real_estate_data_copy['state'] == 'Virgin Islands'], inplace = True)\n",
        "real_estate_data_copy.drop(real_estate_data_copy.index[real_estate_data_copy['state'] == 'Puerto Rico'], inplace = True)"
      ],
      "metadata": {
        "id": "0F45NB-tniel"
      },
      "execution_count": 96,
      "outputs": []
    },
    {
      "cell_type": "code",
      "source": [
        "# check \n",
        "real_estate_data_copy['state'].value_counts()"
      ],
      "metadata": {
        "colab": {
          "base_uri": "https://localhost:8080/"
        },
        "id": "s6gXwqEFo1xQ",
        "outputId": "a2c2032a-ff9e-4d7c-e4e4-53cfe5f7fd1c"
      },
      "execution_count": 97,
      "outputs": [
        {
          "output_type": "execute_result",
          "data": {
            "text/plain": [
              "New Jersey       32299\n",
              "New York         27952\n",
              "Connecticut      13776\n",
              "Massachusetts    10110\n",
              "Pennsylvania      9001\n",
              "Maine             4986\n",
              "New Hampshire     3532\n",
              "Rhode Island      3409\n",
              "Vermont           2500\n",
              "Delaware          1277\n",
              "Name: state, dtype: int64"
            ]
          },
          "metadata": {},
          "execution_count": 97
        }
      ]
    },
    {
      "cell_type": "markdown",
      "source": [
        "NEW FEATURES: We added two new features to the data.\n",
        "*   Price per square foot\n",
        "*   Bedroom to bathroom ratio\n",
        "*   State abbreviations \n",
        "\n"
      ],
      "metadata": {
        "id": "ie43Gylo0xuB"
      }
    },
    {
      "cell_type": "code",
      "source": [
        "#calculating the price/sqft by house size\n",
        "real_estate_data_copy['price_sqft'] = real_estate_data_copy['price']/real_estate_data_copy['house_size']\n",
        "#calculating the bed/bath count by house\n",
        "real_estate_data_copy['bed_bath_ratio'] = real_estate_data_copy['bed']/real_estate_data_copy['bath']"
      ],
      "metadata": {
        "id": "KMCsmd-E1C_Q"
      },
      "execution_count": 102,
      "outputs": []
    },
    {
      "cell_type": "code",
      "source": [
        "# change state names to state abbreviations\n",
        "states = {\n",
        "        'CT': 'Connecticut',\n",
        "        'DE': 'Delaware',\n",
        "        'MA': 'Massachusetts',\n",
        "        'ME': 'Maine',\n",
        "        'NH': 'New Hampshire',\n",
        "        'NJ': 'New Jersey',\n",
        "        'NY': 'New York',\n",
        "        'PA': 'Pennsylvania',\n",
        "        'RI': 'Rhode Island',\n",
        "        'VT': 'Vermont',}\n",
        "\n",
        "def best_match(x):\n",
        "    if len(x) == 2: # Try another way for 2-letter codes\n",
        "        for a,n in states.items():\n",
        "            if len(n.split()) == 2:\n",
        "                if \"\".join([c[0] for c in n.split()]).lower() == x.lower():\n",
        "                    return a.lower()\n",
        "    new_rx = re.compile(r\"\\w*\".join([ch for ch in x]), re.I)\n",
        "    for a,n in states.items():\n",
        "        if new_rx.match(n):\n",
        "            return a.lower()\n",
        "        \n",
        "real_estate_data_copy['state_abbrev'] = real_estate_data_copy['state'].apply(lambda x: best_match(x)).str.upper()"
      ],
      "metadata": {
        "id": "PFptwqFy1Cyx"
      },
      "execution_count": 100,
      "outputs": []
    },
    {
      "cell_type": "code",
      "source": [
        "real_estate_data_copy.describe().apply(lambda s: s.apply('{0:.5f}'.format))"
      ],
      "metadata": {
        "colab": {
          "base_uri": "https://localhost:8080/",
          "height": 300
        },
        "id": "t58KD0ly0l0r",
        "outputId": "c57a6587-7513-4043-fa36-c52788a2b0e7"
      },
      "execution_count": 101,
      "outputs": [
        {
          "output_type": "execute_result",
          "data": {
            "text/plain": [
              "               price           bed          bath      acre_lot      zip_code  \\\n",
              "count   108842.00000  108842.00000  108842.00000  108842.00000  108835.00000   \n",
              "mean    610842.63915       3.29932       2.51784      17.02448    8485.33975   \n",
              "std     476638.91608       1.71623       1.61009     799.86387    4448.83256   \n",
              "min          0.00000       1.00000       1.00000       0.00000     604.00000   \n",
              "25%     259888.00000       2.00000       2.00000       0.15000    6110.50000   \n",
              "50%     450000.00000       3.00000       2.00000       0.73000    8037.00000   \n",
              "75%     800000.00000       4.00000       3.00000      17.82638   10308.00000   \n",
              "max    1624750.00000     123.00000     198.00000  100000.00000   99999.00000   \n",
              "\n",
              "         house_size    price_sqft bed_bath_ratio  \n",
              "count  108842.00000  108842.00000   108842.00000  \n",
              "mean     1949.12984     338.70834        1.46766  \n",
              "std       720.29956     293.76902        0.67515  \n",
              "min       192.02293       0.00000        0.10000  \n",
              "25%      1376.00000     160.38726        1.00000  \n",
              "50%      2158.65138     251.12441        1.31226  \n",
              "75%      2158.65138     431.25883        1.66667  \n",
              "max      3338.62845    4663.33333       11.11215  "
            ],
            "text/html": [
              "\n",
              "  <div id=\"df-038dd7c4-ccf5-4ab2-8447-7c87227bbee2\">\n",
              "    <div class=\"colab-df-container\">\n",
              "      <div>\n",
              "<style scoped>\n",
              "    .dataframe tbody tr th:only-of-type {\n",
              "        vertical-align: middle;\n",
              "    }\n",
              "\n",
              "    .dataframe tbody tr th {\n",
              "        vertical-align: top;\n",
              "    }\n",
              "\n",
              "    .dataframe thead th {\n",
              "        text-align: right;\n",
              "    }\n",
              "</style>\n",
              "<table border=\"1\" class=\"dataframe\">\n",
              "  <thead>\n",
              "    <tr style=\"text-align: right;\">\n",
              "      <th></th>\n",
              "      <th>price</th>\n",
              "      <th>bed</th>\n",
              "      <th>bath</th>\n",
              "      <th>acre_lot</th>\n",
              "      <th>zip_code</th>\n",
              "      <th>house_size</th>\n",
              "      <th>price_sqft</th>\n",
              "      <th>bed_bath_ratio</th>\n",
              "    </tr>\n",
              "  </thead>\n",
              "  <tbody>\n",
              "    <tr>\n",
              "      <th>count</th>\n",
              "      <td>108842.00000</td>\n",
              "      <td>108842.00000</td>\n",
              "      <td>108842.00000</td>\n",
              "      <td>108842.00000</td>\n",
              "      <td>108835.00000</td>\n",
              "      <td>108842.00000</td>\n",
              "      <td>108842.00000</td>\n",
              "      <td>108842.00000</td>\n",
              "    </tr>\n",
              "    <tr>\n",
              "      <th>mean</th>\n",
              "      <td>610842.63915</td>\n",
              "      <td>3.29932</td>\n",
              "      <td>2.51784</td>\n",
              "      <td>17.02448</td>\n",
              "      <td>8485.33975</td>\n",
              "      <td>1949.12984</td>\n",
              "      <td>338.70834</td>\n",
              "      <td>1.46766</td>\n",
              "    </tr>\n",
              "    <tr>\n",
              "      <th>std</th>\n",
              "      <td>476638.91608</td>\n",
              "      <td>1.71623</td>\n",
              "      <td>1.61009</td>\n",
              "      <td>799.86387</td>\n",
              "      <td>4448.83256</td>\n",
              "      <td>720.29956</td>\n",
              "      <td>293.76902</td>\n",
              "      <td>0.67515</td>\n",
              "    </tr>\n",
              "    <tr>\n",
              "      <th>min</th>\n",
              "      <td>0.00000</td>\n",
              "      <td>1.00000</td>\n",
              "      <td>1.00000</td>\n",
              "      <td>0.00000</td>\n",
              "      <td>604.00000</td>\n",
              "      <td>192.02293</td>\n",
              "      <td>0.00000</td>\n",
              "      <td>0.10000</td>\n",
              "    </tr>\n",
              "    <tr>\n",
              "      <th>25%</th>\n",
              "      <td>259888.00000</td>\n",
              "      <td>2.00000</td>\n",
              "      <td>2.00000</td>\n",
              "      <td>0.15000</td>\n",
              "      <td>6110.50000</td>\n",
              "      <td>1376.00000</td>\n",
              "      <td>160.38726</td>\n",
              "      <td>1.00000</td>\n",
              "    </tr>\n",
              "    <tr>\n",
              "      <th>50%</th>\n",
              "      <td>450000.00000</td>\n",
              "      <td>3.00000</td>\n",
              "      <td>2.00000</td>\n",
              "      <td>0.73000</td>\n",
              "      <td>8037.00000</td>\n",
              "      <td>2158.65138</td>\n",
              "      <td>251.12441</td>\n",
              "      <td>1.31226</td>\n",
              "    </tr>\n",
              "    <tr>\n",
              "      <th>75%</th>\n",
              "      <td>800000.00000</td>\n",
              "      <td>4.00000</td>\n",
              "      <td>3.00000</td>\n",
              "      <td>17.82638</td>\n",
              "      <td>10308.00000</td>\n",
              "      <td>2158.65138</td>\n",
              "      <td>431.25883</td>\n",
              "      <td>1.66667</td>\n",
              "    </tr>\n",
              "    <tr>\n",
              "      <th>max</th>\n",
              "      <td>1624750.00000</td>\n",
              "      <td>123.00000</td>\n",
              "      <td>198.00000</td>\n",
              "      <td>100000.00000</td>\n",
              "      <td>99999.00000</td>\n",
              "      <td>3338.62845</td>\n",
              "      <td>4663.33333</td>\n",
              "      <td>11.11215</td>\n",
              "    </tr>\n",
              "  </tbody>\n",
              "</table>\n",
              "</div>\n",
              "      <button class=\"colab-df-convert\" onclick=\"convertToInteractive('df-038dd7c4-ccf5-4ab2-8447-7c87227bbee2')\"\n",
              "              title=\"Convert this dataframe to an interactive table.\"\n",
              "              style=\"display:none;\">\n",
              "        \n",
              "  <svg xmlns=\"http://www.w3.org/2000/svg\" height=\"24px\"viewBox=\"0 0 24 24\"\n",
              "       width=\"24px\">\n",
              "    <path d=\"M0 0h24v24H0V0z\" fill=\"none\"/>\n",
              "    <path d=\"M18.56 5.44l.94 2.06.94-2.06 2.06-.94-2.06-.94-.94-2.06-.94 2.06-2.06.94zm-11 1L8.5 8.5l.94-2.06 2.06-.94-2.06-.94L8.5 2.5l-.94 2.06-2.06.94zm10 10l.94 2.06.94-2.06 2.06-.94-2.06-.94-.94-2.06-.94 2.06-2.06.94z\"/><path d=\"M17.41 7.96l-1.37-1.37c-.4-.4-.92-.59-1.43-.59-.52 0-1.04.2-1.43.59L10.3 9.45l-7.72 7.72c-.78.78-.78 2.05 0 2.83L4 21.41c.39.39.9.59 1.41.59.51 0 1.02-.2 1.41-.59l7.78-7.78 2.81-2.81c.8-.78.8-2.07 0-2.86zM5.41 20L4 18.59l7.72-7.72 1.47 1.35L5.41 20z\"/>\n",
              "  </svg>\n",
              "      </button>\n",
              "      \n",
              "  <style>\n",
              "    .colab-df-container {\n",
              "      display:flex;\n",
              "      flex-wrap:wrap;\n",
              "      gap: 12px;\n",
              "    }\n",
              "\n",
              "    .colab-df-convert {\n",
              "      background-color: #E8F0FE;\n",
              "      border: none;\n",
              "      border-radius: 50%;\n",
              "      cursor: pointer;\n",
              "      display: none;\n",
              "      fill: #1967D2;\n",
              "      height: 32px;\n",
              "      padding: 0 0 0 0;\n",
              "      width: 32px;\n",
              "    }\n",
              "\n",
              "    .colab-df-convert:hover {\n",
              "      background-color: #E2EBFA;\n",
              "      box-shadow: 0px 1px 2px rgba(60, 64, 67, 0.3), 0px 1px 3px 1px rgba(60, 64, 67, 0.15);\n",
              "      fill: #174EA6;\n",
              "    }\n",
              "\n",
              "    [theme=dark] .colab-df-convert {\n",
              "      background-color: #3B4455;\n",
              "      fill: #D2E3FC;\n",
              "    }\n",
              "\n",
              "    [theme=dark] .colab-df-convert:hover {\n",
              "      background-color: #434B5C;\n",
              "      box-shadow: 0px 1px 3px 1px rgba(0, 0, 0, 0.15);\n",
              "      filter: drop-shadow(0px 1px 2px rgba(0, 0, 0, 0.3));\n",
              "      fill: #FFFFFF;\n",
              "    }\n",
              "  </style>\n",
              "\n",
              "      <script>\n",
              "        const buttonEl =\n",
              "          document.querySelector('#df-038dd7c4-ccf5-4ab2-8447-7c87227bbee2 button.colab-df-convert');\n",
              "        buttonEl.style.display =\n",
              "          google.colab.kernel.accessAllowed ? 'block' : 'none';\n",
              "\n",
              "        async function convertToInteractive(key) {\n",
              "          const element = document.querySelector('#df-038dd7c4-ccf5-4ab2-8447-7c87227bbee2');\n",
              "          const dataTable =\n",
              "            await google.colab.kernel.invokeFunction('convertToInteractive',\n",
              "                                                     [key], {});\n",
              "          if (!dataTable) return;\n",
              "\n",
              "          const docLinkHtml = 'Like what you see? Visit the ' +\n",
              "            '<a target=\"_blank\" href=https://colab.research.google.com/notebooks/data_table.ipynb>data table notebook</a>'\n",
              "            + ' to learn more about interactive tables.';\n",
              "          element.innerHTML = '';\n",
              "          dataTable['output_type'] = 'display_data';\n",
              "          await google.colab.output.renderOutput(dataTable, element);\n",
              "          const docLink = document.createElement('div');\n",
              "          docLink.innerHTML = docLinkHtml;\n",
              "          element.appendChild(docLink);\n",
              "        }\n",
              "      </script>\n",
              "    </div>\n",
              "  </div>\n",
              "  "
            ]
          },
          "metadata": {},
          "execution_count": 101
        }
      ]
    },
    {
      "cell_type": "markdown",
      "source": [
        "# SECTION 2: Analyze housing market of the Northeast"
      ],
      "metadata": {
        "id": "QCV86-iqiC4l"
      }
    },
    {
      "cell_type": "markdown",
      "source": [
        "Comparing states across different features \n",
        "\n",
        "*   Price per sqft\n",
        "*   Bedrooms\n",
        "*   Bathrooms\n",
        "\n"
      ],
      "metadata": {
        "id": "-8u-sZGp2OID"
      }
    },
    {
      "cell_type": "code",
      "source": [
        "# Comparing states by price per square foot\n",
        "real_estate_data_copy.groupby('state')['price_sqft'].agg(np.mean).round(2).sort_values().plot(kind='bar');"
      ],
      "metadata": {
        "colab": {
          "base_uri": "https://localhost:8080/",
          "height": 348
        },
        "id": "yHTDU1CRyt08",
        "outputId": "da3fa1bb-2a19-4d98-9546-2a708725b104"
      },
      "execution_count": 103,
      "outputs": [
        {
          "output_type": "display_data",
          "data": {
            "text/plain": [
              "<Figure size 432x288 with 1 Axes>"
            ],
            "image/png": "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\n"
          },
          "metadata": {
            "needs_background": "light"
          }
        }
      ]
    },
    {
      "cell_type": "code",
      "source": [
        "# Comparing states by bedrooms\n",
        "real_estate_data_copy.groupby('state')['bed'].agg(np.mean).round(2).sort_values().plot(kind='bar');"
      ],
      "metadata": {
        "colab": {
          "base_uri": "https://localhost:8080/",
          "height": 348
        },
        "id": "ECph1PdN2kOf",
        "outputId": "ecfdc5e0-6e81-4215-ecec-582d996fe8fd"
      },
      "execution_count": 104,
      "outputs": [
        {
          "output_type": "display_data",
          "data": {
            "text/plain": [
              "<Figure size 432x288 with 1 Axes>"
            ],
            "image/png": "iVBORw0KGgoAAAANSUhEUgAAAXQAAAFLCAYAAADGT3crAAAABHNCSVQICAgIfAhkiAAAAAlwSFlzAAALEgAACxIB0t1+/AAAADh0RVh0U29mdHdhcmUAbWF0cGxvdGxpYiB2ZXJzaW9uMy4yLjIsIGh0dHA6Ly9tYXRwbG90bGliLm9yZy+WH4yJAAAgAElEQVR4nO3deZykVXn28d/FMAjIpjJRZHEQcAFBwRHB5Q2iJLhBokhEXMAFNCIYlygaRdH3TVDRKBiQsAgGWdxHQRQRBRTQAYZlQBS3AJIwgKC4IAPX+8c5xdQ03dPdM1XPU/3M9f186tNVTz1d556e7rtOneec+8g2EREx863WdgARETEYSegRER2RhB4R0RFJ6BERHZGEHhHREau31fCGG27ouXPnttV8RMSMdNlll91me854z7WW0OfOncuCBQvaaj4iYkaS9OuJnsuQS0RERyShR0R0RBJ6RERHJKFHRHREEnpEREdMmtAlrSnpR5KulLRI0gfHOWc/SYslLay31w8n3IiImMhUpi3eA+xq+25Js4GLJH3T9iVjzjvD9kGDDzEiIqZi0oTuUl/37vpwdr2l5m5ExIiZ0hi6pFmSFgK3AufavnSc014q6SpJX5S06QSvc4CkBZIWLF68eCXCjoiIsTSdDS4kbQB8BXiL7Wv6jj8CuNv2PZIOBP7B9q7Le6158+Y5K0UjYhDmvvuslX6NX/3bC2dEHJIusz1vvOemNcvF9p3A+cDuY47fbvue+vB44KnTed2IiFh5k46hS5oD3Gv7TklrAbsBR4w5ZyPbt9SHewDXDTzSiFjGqtQrjamZyiyXjYCTJc2i9OjPtP0NSYcDC2zPBw6WtAewBLgD2G9YAUdExPimMsvlKmD7cY6/v+/+ocChgw0tYnSlVxqjKCtFIyI6Igk9IqIjktAjIjoiCT0ioiNa24IuYkXkYmTExNJDj4joiCT0iIiOSEKPiOiIjKHHlGX8OmK0pYceEdER6aHPECvbO07POKL70kOPiOiI9NAnkXHjiJgp0kOPiOiIJPSIiI5IQo+I6Igk9IiIjkhCj4joiCT0iIiOSEKPiOiIJPSIiI6YNKFLWlPSjyRdKWmRpA+Oc85DJJ0h6QZJl0qaO4xgIyJiYlPpod8D7Gr7ycBTgN0l7TTmnNcBv7W9JfAJ4IjBhhkREZOZNKG7uLs+nF1vHnPansDJ9f4XgedK0sCijIiISU1pDF3SLEkLgVuBc21fOuaUjYEbAWwvAe4CHjHO6xwgaYGkBYsXL165yCMiYhlTSui277P9FGATYEdJT1qRxmwfZ3ue7Xlz5sxZkZeIiIgJTKvaou07JZ0P7A5c0/fUzcCmwE2SVgfWB25f2eBSAzwiYuqmMstljqQN6v21gN2An4w5bT7wmnp/L+C7tseOs0dExBBNpYe+EXCypFmUN4AzbX9D0uHAAtvzgROAz0m6AbgDePnQIo6IiHFNmtBtXwVsP87x9/fd/zPwssGGFhER05GVohERHZGEHhHREUnoEREdkYQeEdERSegRER2RhB4R0RFJ6BERHZGEHhHREUnoEREdkYQeEdERSegRER2RhB4R0RFJ6BERHZGEHhHREUnoEREdkYQeEdERSegRER2RhB4R0RFJ6BERHZGEHhHREZMmdEmbSjpf0rWSFkk6ZJxzdpF0l6SF9fb+8V4rIiKGZ/UpnLMEeLvtyyWtC1wm6Vzb144570LbLxp8iBERMRWT9tBt32L78nr/98B1wMbDDiwiIqZnWmPokuYC2wOXjvP0zpKulPRNSdsMILaIiJiGqQy5ACBpHeBLwFtt/27M05cDj7F9t6QXAF8FthrnNQ4ADgDYbLPNVjjoiIh4sCn10CXNpiTzU21/eezztn9n++56/2xgtqQNxznvONvzbM+bM2fOSoYeERH9pjLLRcAJwHW2Pz7BOY+q5yFpx/q6tw8y0IiIWL6pDLk8E3gVcLWkhfXYe4DNAGwfC+wFvEnSEuBPwMttewjxRkTEBCZN6LYvAjTJOUcDRw8qqIiImL6sFI2I6Igk9IiIjkhCj4joiCT0iIiOSEKPiOiIJPSIiI5IQo+I6Igk9IiIjkhCj4joiCT0iIiOSEKPiOiIJPSIiI5IQo+I6Igk9IiIjkhCj4joiCT0iIiOSEKPiOiIJPSIiI5IQo+I6Igk9IiIjkhCj4joiEkTuqRNJZ0v6VpJiyQdMs45kvQpSTdIukrSDsMJNyIiJrL6FM5ZArzd9uWS1gUuk3Su7Wv7znk+sFW9PR04pn6NiIiGTNpDt32L7cvr/d8D1wEbjzltT+AUF5cAG0jaaODRRkTEhKY1hi5pLrA9cOmYpzYGbux7fBMPTvpIOkDSAkkLFi9ePL1IIyJiuaac0CWtA3wJeKvt361IY7aPsz3P9rw5c+asyEtERMQEppTQJc2mJPNTbX95nFNuBjbte7xJPRYREQ2ZyiwXAScA19n++ASnzQdeXWe77ATcZfuWAcYZERGTmMosl2cCrwKulrSwHnsPsBmA7WOBs4EXADcAfwT2H3yoERGxPJMmdNsXAZrkHANvHlRQERExfVkpGhHREUnoEREdkYQeEdERSegRER2RhB4R0RFJ6BERHZGEHhHREUnoEREdkYQeEdERSegRER2RhB4R0RFJ6BERHZGEHhHREUnoEREdkYQeEdERSegRER2RhB4R0RFJ6BERHZGEHhHREUnoEREdkYQeEdERkyZ0SSdKulXSNRM8v4ukuyQtrLf3Dz7MiIiYzOpTOOezwNHAKcs550LbLxpIRBERsUIm7aHbvgC4o4FYIiJiJQxqDH1nSVdK+qakbSY6SdIBkhZIWrB48eIBNR0RETCYhH458BjbTwaOAr460Ym2j7M9z/a8OXPmDKDpiIjoWemEbvt3tu+u988GZkvacKUji4iIaVnphC7pUZJU7+9YX/P2lX3diIiYnklnuUg6DdgF2FDSTcBhwGwA28cCewFvkrQE+BPwctseWsQRETGuSRO67X0mef5oyrTGiIhoUVaKRkR0RBJ6RERHJKFHRHREEnpEREckoUdEdEQSekRERyShR0R0RBJ6RERHJKFHRHREEnpEREckoUdEdEQSekRERyShR0R0RBJ6RERHJKFHRHREEnpEREckoUdEdEQSekRERyShR0R0RBJ6RERHTJrQJZ0o6VZJ10zwvCR9StINkq6StMPgw4yIiMlMpYf+WWD35Tz/fGCrejsAOGblw4qIiOmaNKHbvgC4Yzmn7Amc4uISYANJGw0qwIiImJpBjKFvDNzY9/imeiwiIhrU6EVRSQdIWiBpweLFi5tsOiKi8waR0G8GNu17vEk99iC2j7M9z/a8OXPmDKDpiIjoGURCnw+8us522Qm4y/YtA3jdiIiYhtUnO0HSacAuwIaSbgIOA2YD2D4WOBt4AXAD8Edg/2EFGxERE5s0odveZ5LnDbx5YBFFRMQKyUrRiIiOSEKPiOiIJPSIiI5IQo+I6Igk9IiIjkhCj4joiCT0iIiOSEKPiOiIJPSIiI5IQo+I6Igk9IiIjkhCj4joiCT0iIiOSEKPiOiIJPSIiI5IQo+I6Igk9IiIjkhCj4joiCT0iIiOSEKPiOiIJPSIiI6YUkKXtLuk6yXdIOnd4zy/n6TFkhbW2+sHH2pERCzP6pOdIGkW8GlgN+Am4MeS5tu+dsypZ9g+aAgxRkTEFEylh74jcIPtX9j+C3A6sOdww4qIiOmaSkLfGLix7/FN9dhYL5V0laQvStp0vBeSdICkBZIWLF68eAXCjYiIiQzqoujXgbm2twPOBU4e7yTbx9meZ3venDlzBtR0RETA1BL6zUB/j3uTeuwBtm+3fU99eDzw1MGEFxERUzWVhP5jYCtJm0taA3g5ML//BEkb9T3cA7hucCFGRMRUTDrLxfYSSQcB3wJmASfaXiTpcGCB7fnAwZL2AJYAdwD7DTHmiIgYx6QJHcD22cDZY469v+/+ocChgw0tIiKmIytFIyI6Igk9IqIjktAjIjoiCT0ioiOS0CMiOiIJPSKiI5LQIyI6Igk9IqIjktAjIjoiCT0ioiOS0CMiOiIJPSKiI5LQIyI6Igk9IqIjktAjIjoiCT0ioiOS0CMiOiIJPSKiI5LQIyI6Igk9IqIjktAjIjpiSgld0u6Srpd0g6R3j/P8QySdUZ+/VNLcQQcaERHLN2lClzQL+DTwfGBrYB9JW4857XXAb21vCXwCOGLQgUZExPJNpYe+I3CD7V/Y/gtwOrDnmHP2BE6u978IPFeSBhdmRERMRraXf4K0F7C77dfXx68Cnm77oL5zrqnn3FQf/7yec9uY1zoAOKA+fDxw/UrGvyFw26RnDdcoxACjEccoxACjEccoxACjEccoxACjEccgYniM7TnjPbH6Sr7wtNg+DjhuUK8naYHteYN6vZkaw6jEMQoxjEocoxDDqMQxCjGMShzDjmEqQy43A5v2Pd6kHhv3HEmrA+sDtw8iwIiImJqpJPQfA1tJ2lzSGsDLgfljzpkPvKbe3wv4ricby4mIiIGadMjF9hJJBwHfAmYBJ9peJOlwYIHt+cAJwOck3QDcQUn6TRjY8M1KGIUYYDTiGIUYYDTiGIUYYDTiGIUYYDTiGGoMk14UjYiImSErRSMiOiIJPSKiI2ZUQpf0kHGOPbyNWCIiRs2MSujAlyXN7j2QtBFwbtNBSHqMpOfV+2tJWrfpGCLGI+kySW+W9LCW4zhkKseG1PbVkq6a6NZEDG2ZaQn9q8CZkmbVAmDfAg5tMgBJb6CUN/hMPbRJjWuVpOKVkt5fH28macdVLQ5J503lWAP+AXg08GNJp0v625bKcLxmnGP7NdT2i4AXA+fU2771dna9NUrSFr3RBUm7SDpY0gZDaWumzXKR9GZgd2AucKDtHzbc/kJKfZtLbW9fj11te9sm46jt7gQcBTwRWIMyrfQPttdrMIZjgPuBXW0/sfYMv237aU3F0GYcktYE1gbOB3YBeslzPeAc208YZvvLiWs1SmI7BrgPOAn4pO07htzuPsArgGcBF/Y9tS5wv+3nDrP9MbFc0fsb7Tt2ue0dmoqhtrkQmEfJWWcDXwO2sf2CQbfV6NL/FSXpbf0Pgc2AhcBOknay/fEGw7nH9l96nZ66Mratd8WjKXP+v0D5hXk18LiGY3i67R0kXQFg+7d1AVrT2orjQOCtlF7xZSxN6L+j/P80TtJ2wP7AC4AvAadSEux3gacMufkfArdQapYc2Xf890DTwx2S9EzbP6gPnkE7oxL31/U8fw8cZfuo3u/poM2IhE55d+/35QmON+H7kt4DrCVpN+Afga+3EAcAtm+QNMv2fcBJ9RelyWGoe2uJZQNImkPpKTetlThsfxL4pKS32D5q2O1NRtJlwJ2UxX7vtn1PfepSSc8cdvu2fw38Gth52G1NweuAEyWtT3mj/S3w2hbiuLd+cnkNZSgIYPZyzl9hM2bIpf6xHmH7HS3HIeD1wN9Qfkm+BRzfRqkDSRcAzwOOB/6H0jPaz/aTG4xhX8q47Q6UEsp7Af9i+wtNxTAqcdQe4Fz6Okq2T2mq/RrDY23/osk2J4jj9yz95LoGJYE1OhzYF8v6ALbvarrt2v7WwBuBi22fJmlzYG/bA983Yqb00LF9XxM9jOWpbyqL6rjof7YZS/Uqyrj5QcA/UQqkvbSpxus47S+BfwaeS3mD+zvb1zUVQ4/tU2vvtJU4JH0O2IIyFHhfLyyg0YQO/EHSCcCjbT+/JpOdbZ/QZBC2H/j0XDtBewI7NRlDvRD5UuqbbG+Y1PbhTcYB7Gb74N4D27+U9OdhNDRjeujwwIWvjSljxn/oHbf95Qm/afAxfA14i+3/bqrNUTbehae21DfcR7JsD7mR/ydJ1wFbt12UTtI3KRdA32v7yfUazxVtXLQfq+nfFUnnAHdRrm303mSxfeSE3zScOB50IXZYP4sZ00Ov1qSU5d2175hZOqbehIcBiyT9iGXfVPZoKgBJZ9reW9LVjHNB1vZ2TcUCnCfppcCX20xmkt4CHAb8L+WPV5SfTVM/i2uAR1GGvdq0oe0zJR0KDxTXu2+ybxo0SS/pe7ga5aL9UHqly7GJ7d0bbvMBfTN+NpfUX6F2XUoRw4GbUQnd9v5txwC8r+0AgN4CjRe1GkVxIPA2YEn9GCnALYyVHgI83nZbdfg3BK6tb/S9C5GNvtFXf5D0CJZeHN6J0ktt2ov77i8BfsWDt64cth9K2tb21Q23+0D7NDzjZ6YNuWxCmXfdG0u/EDikt/VdrLoknU8Zq1zSUvt/Pd5x299vOI4dKH8jT6J8apgD7GW70yskxyPpWmBLynWee1ja2WjyEyySjrD9rsmODaStGZbQzwU+D3yuHnolsK/t3Rpo+yLbzxpz9R7a65H2PtYeAfxVjaOVWOoinq0oQ2JQgrig4RhOoOxTexbL9pAbW6Mg6ZFAbyHTj2zf2lTbY+JYnfKzEHC97XtbiOFkSmfrzvr4YcCRthubNijpMeMdr1MrGzPBGPpVw3hjmWlL/+fYPsn2knr7LKUHMnS2n1W/rmt7vb7bum0k8+ojwB62128rFkmvBy6gTN/8YP36gSZjqP6bUtdnDcoYZe/WCEl7Az8CXgbsTZn3vVdT7ffF8TJgLduLgL8Dzqi99qZt10vmUBZ6AY1ePLf965q8/0TphPVujZD0pnqd6wlatp7MLxnWIivbM+YGnEfplc+qt1cC57UQxyzKysDNereWfh4/GIH/k6spPfOF9fETKBdIW/99afjncCXwV32P5wBXthDHVfXrsyjlCF5IKVPRxs/jYX2PHw5c3XAMewA/o0xe+CVlodmiBttfnzJl8jTgMX23hw+rzRlxUbROV3wXZZXXUcAnKO+0P6QscW4ylv7ZFL2ViE3Opui3QNIZlOJg/cMMTc76+bPtP0tC0kNs/0TS45tqXNK/236rpK8z/oyfpi5KruZlh1hup51PwL0ZLS8E/tP2WZI+3EIcRwIXS/oCZehnL+D/NhzDhyhz379je3tJz6F0AhvhspDpLmAfSc8CtrJ9kqQNJW1u+5eDbnNGJHTgF5S5pIc1+Ac6kbZnU/RbD/gjZdVqT9PTOG9SqRz3VeBcSb+lLP1uSu96yscabHM850j6FqU3BmXV6jdbiONmSZ8BdgOOqItrGn9jsX2KpAUsnWL8EtvXNhzGvbZvl7SapNVsny/p3xuOAUmHUaZtPp6yRmAN4L9YOrljcG3VjwYjT9LGwMeBRwDH0leno8keaduzKUZZnemxPqXK4F/ajqdpdT7+AzOwbH+lhRjWplQjvdr2z1T2DNjW9rcban8927/TBBvPeMjVHsfE8h3KdYR/pUwdvBV4mu1nNBVDjWMh5frB5V5aoXUoF0VnTEIHkPRqyse279I33OEGrpxracXHbWh5NkVfTGtSChBtw7IzTJqcSfAhykXRH9r+w2TnDzGOrSh/uFuz7M/isQ3HsR7LrlRtMoH1l6ZohaRv2H5RvfA33mywxv4/JD2UsphJlHro6wOnNv3pWtKPbO/Ym+1S47p4GAl9Rgy5SNqGUtf5N8COtttYjdebMfHf9bZGvbXpc8BPgL8FDqf80jZdR+UXwD7Ap+qUzguBC2x/reE4TqJc2/gE8BzKtZXGhhokHUiZ5fNnSmejt1K1sQTmUu/oekmbuaXSFLZfVL9u3kb7Y2Lp72Cc3FogZVOezwAbqGyQ81qGVAtqRvTQa52MQ5r62DhVtTjVOrZ/11L7V9SLPVfZ3k5le74LbTdaBKnG8ijKdL13UGY3NFraWNJltp+qvs1Gescaav9nlCJYtzXR3nLiuIDy8b610hQ1jvM8ZjOL8Y4Nqe3eWpHem+oDT9HempHd6KvQansoW2fOiB468BQvrevcKkmfp5TCvA/4MbCepE/a/mgL4fQWjNwp6UmUErp/1WQAko6nDHP8L6V3vhdweZMxVPfUN9ifSToIuBlYp8H2f065QN22VktTaOkOThvWxUT9Ozht3EQMTXcmJlOHWL5r+9w6A+zxkmZ7CAu+ZkRCH5VkXm1dL/rsS5nF8G7KDJw2Evpx9Y/mfcB8SgJr+g/6EZR5+XdSCg7d1tIF40MoieRgynS1XRl/X8thOZRSO+RSlr22cvDE3zJ4tr9fV0huZfs79SLprAZDGJkdnCRtAdxk+x5Ju1CmFp/ivgVPDbkAeHb9Wz0HWECZBbXvoBuaEUMuo0TSIso2Xp8Hjq5/QFe6wU0l+mLp7VTUOklPpIzl/xMwy/YmLYfUKJWiXBdRFlr1z8BqdOy2jtEeQFm8skW9WHxsE0MdY+JofQcnNbiX5yRx9C6GvoWyivcjkhbaHvh2gDOih94j6bmU2RR/ajGMz1Aqx10JXFB7Q62MoQO/VKn5fAblI10buya9CHg28H+ADSgzkC5c7jcNtv35y3u+wbHj2bbfNvlpQ/dm6ibmAHXqYqPDcNX9kjbwsrVc9rH9H03G4Ib28pyEJO1M6ZG/rh4byqemGZXQKZsgHyPpDupsCuAilzoRjbD9KeBTfYd+XVegteEJlBK6b6bsnfh14HTbFzUYw+6U/4tP2v5Ng+327AzcSFnQcylLP+I37ZuSDqDsL9s/5NLYtMVqVDYxf4PtT/ceuGza/QagyYTe2F6ek3grZUjuK7YXSXospSzDwM3IIRdJj6ZcfHsHZautxt6YVGpNH0aplWHKx+zD2145WntAn6RUn2xyzLRVde71bpSpk9tR1gec5lKcqsk4xlvG3ei86xrHRyjXM14NvIWyifm1tt/bcBxXUwp09eqyz6LUmdmmwRga28tzVMyohC7plZSP99sCt1GS6YW2L24whnMpnwz+qx7aF9jF9vOaimFMPH9NucCyO+Viyxm2v9Rg+ztR6us8kTIvfxbtbQb8EEpi/yjwQduNXISrs2teZvuMJtqbQiyvo+VNzCV9lFKI6jP10IHAjbbf3mQco6CuLh+vztCu45y+cm3NsIR+G2V62LHA+bZ/1UIM19h+0phjD8x9bjiWXwFXAGcC89tYqalSr+PllH1e51F6ho+zfWiDMTyEUoxqH8oFsPnAibZvbjCGBbbnNdXeqKtvLAdSNu2GUtr4+CYu4muCrRl7hrFCc3kk9a+FWJOycfUS2/888LZmUkKHB1aN/h/KkMdWlAL+r2qw/Y9TFm2cWQ/tRVm9+o6mYuiLZb22FjX1xbDA9rz+2hRqcDNgSadQduc5m3L94Jom2h0njn+jfGo8g2UX9DQyhj5JEruH0hH6V9tXNhFPjWktSmnp65tqs7Y77sYWPW54g4vx9MoBDPx1Z1JCr3Uyngn8NWXoZUPgEtuNzTeuq9AeytKpaaux9A+4kVVoko5i+T2QxuY+15WJzwOOpyxsugXYr6lpnJLup+/n3/8UDa4KbHsMfZIktjrlTe8DDb7R7kEZ+lrD9uaSnkK51tR2tdTGadlCZasBTwU+ZXvgZaZn2iyXi/puR7uFvURHZBXagrYD6PMqyrj5QZQ56JtSPlI2wvZI7LrllmuXTKHX+XM1u3PRYZTpk98DsL2wXpRcFV3G0lIESyibbbxuud+xgmZUD71H0tq2W1tmLWk7ylhtf1W9JmuQ9+Joc0fz6FNXZL6NMsRwQF3Q83jb32g5tFZIusT2Tv3DbxpSydhYakb10Ovk/BMoS9w3k/Rk4EDb/9hgDCdSpsctYtkdixpP6MB/1AuCn6WUBb2rqYZH7cLTCDiJ0hPr1dq+mXKheJVM6MAiSa8AZtU3t4MpO4w1qq1x/HHieAYP7gSeMvB2ZlIPvdbJ2Isyo6P3rv+gWSdDjuFa21s31d5k6h/LaymbE/8I+KwbqEo5Ey48Nanv4nB/j7TxkhAjspq694nlvSw7ffJDtv/cYAwvpuxk1eo4vqTPAVsAC1m6RaCHca1rRvXQAWzf2FsFVzVdy+RiSVu7+e20xlWXdv8LZVz9U8D2Kj+g9wxzGKg/YWvZYlBrMQN/rwbgL/Xf3ltIswV9K0Yb1PpqaoA6JPreemvLBxiNcfx5lKJ+Q+89z7Q/vBvrRxer1P4+hOY3dDiFktT/h/IH25tN0fgQQx3L358yB/tc4MW2L68raS+mgWEg9RWDovRCNqGsE2i0GFRbJH2aUnbgA5RKeptKOpUyG2u/puPpzfjqW039aUrlw0b/1iU9jrKSey7LDjMMfDHNctxr+64xHcA2hiSuAR5FmQE2VDMtob+Rsrx9Y8oY5bcpdUyadAJlZscyVfVachRluuB7+j9i2/5N7bU3YVSKQbXlp5TpeRtR3lS/Q6kHf4hb2OxinNXUR9NgsbQ+X6C8sR9P85+ie1odx6+1lUzZ7exalYqc/XV+Bj70M6PG0EeBpItt79x2HGPVWi6b2r6q4XYvtf10Ld09aXXKZrir1EXROuz08npbi1Je+XTbP204jtZXU9c4GtstajkxtDqOX8tyTMj29wfe5kxI6JLev5ynbftDDcbyH5QysWOr6rUxbfF7wB6UT1qXUXY1/4EbLOM6KsWgRomk7YETKcWpGi+U1vZq6hrDByi/j1+h3eqTravj9rf03kjqtZZHDuPNdqYk9PEK+jyUMjn/EbYb22pM0knjHLbt1zYVQ18svV7x6ym988Oanus7KsWg2lY/mTyf0kN/LuVC3GlueLPsUVhNXeNobeVs31DHuFqY5bIAeIbtv9THa1A6Xk8bdFszYgzd9pG9+5LWpVwM3R84HThyou8bUiz7N9neJFaXtBFlc+ZWesS275f0VeCrthe3EUObVDb/3Qd4AWXa6OnAAW6hUFrV+mpqaH3l7Mfq15dQLkb2KqPuQ9n7tmmr95I5gEu9+jWG0tAwXnQYaj2Et1HK1Z4M7ND0VKwax5qUHuk2lMppALTRQwcOp/SIL7L9Y5XC+T9rouE6NfIwypL/1eqx+yg7wxzeRAwj4lDKePnb2/h9HMtLC6S1upq6xtDIYpqxemPTko70shUwv157y01bLGkP2/NrXHtSLlgP3EwZcvko5d32OODTtu9uMZYvAD8BXkFJqPsC19k+pK2Y2iDpbZQhhgNs/7IeeyxwDHCO7U+0Gd+qqn81te1WVlPXOBpbTLOcGK4DXmj7F/Xx5sDZtp/YVAy13S2AUynTR0XZYfsqQtQAAAixSURBVOvVtm8YeFszJKHfT7mwsoQWK+rVWHrj1lfZ3q7Oh7/Q9k5NxdAXyxzgDTy4FzT0TwsqezPuNnZqXo3p226oql8saxRWU9c2r6OhxTTLiWF3SifwF5Rc8RhKB2ToK6kniGcdgGF2SGfEkItHpKJedW/9eqekJ1FKxrY17/prlDnG36H5ub6zx5tnbXtxfZOLlozAampocDHNRGyfU+efP6Ee+ontNlbvIumF1GHa3v/NMIYmZ0RCHzHH1Tnf76PsjLMOsLxplcO0tu13tdT2X1bwuRiuUVhNDWV2TSOLaSZS//0HUqZwAnxP0mds37ucbxtGHMcCawPPoSy02otyAX3wbc2EIZcYn6QPUwoxnd1C2/fRtzNP/1PAmrbTS2+BpA0pq6mfR/m/+DZl1Wqjm5hPtKhmGItplhPD8cBsyiQKKCu877P9+qZiqHH0hmd7X9cBvmn72QNvKwl9aupFwAnZ/nhTsfRo6e5J91CGghq/phAxEUmPBHpzrX9k+9aG239QtcvxjjUQR2819SWUyR23A4tsbznotjLkMnX9OxUdyNLdzFvj0dg9KUbAKK2mBpC0N6XGzfcoHY2jJL3T9hcbDOM+SVvY/nmN6bG0cz3hG5I2oPw8LqdM7Dh+GA2lh74C1OAmyJORtDHl6n3/LJcL2oso2jBKq6lrPFdSZkHdWh/PAb7TZO9YpTb8SSw7y2V/2+c3FcM4MT2EMiQ5lM1o0kNfMSPxLijpCOAfgGvpm+tLqYEdq5BRWk1drTZmiOV26gK0ptg+r85y6W3GfH0bs1wkvYyyNuP3wDuBHSR9yPYVg24rCX1m+zvKvpWtTMWK0TIqq6mrcyR9i1IrHkrHo/GL98BTWbpO4ymSGlmtOsb7bH9B0rMoF6s/SqmG+fRBN5SEPkVadg/NLSX1ytS2tsEF5aPkbNrZGSdGyJjV1Nu2tZpa0paUSoLvlPQSSsVHKBuunNpwLOOuVqVsUtOkXtsvBI6zfVadoTZwGUOfIo3gHpqSvgQ8GTiPZef6Nra8OkbDqKymlvQN4FDbV485vi3w/2y/uIk4aputr1atcXyDsiHPbsAOwJ8os34Gfj0hPfQpaiNhT8H8eotV3Aitpn7k2GQOYPtqSXMbjqX11arV3sDuwMds31krpL5zGA0loc9gtk+uxfI3s3192/FEUDZ/mchaTQSgFrZ+m8RGwFm275G0C7AdQxr2SUKfwSS9mFL7eQ1gc0lPAQ5v4Rc2omeBpDfY/s/+g3UTlssaiuFjk5/SqC8B8+r1heMoNZg+T6mhP1AZQ5+mOrf1h+7blLnFWC4DdgW+12ZlvYieujr0K5R6Pr0EPo/S6fh72//TYmyrAfvYbvri7OW2d5D0z8CfbB81rLUs6aFP36uBYyTdQal0eAFlg4k2pofda/uuMZX17m8hjggAbP8v8AxJzwF6HYuzbH+3qRhUtuF7M7Ax5RrTufXxO4AraXi2DXCvpH0ouaN3UXgotY7SQ19Bkh5NqZr2DuDRtht/c5R0AmWGy7uBlwIHU8ravrHpWCJGhaSvAb+lTJV8LqW8tShFyha2EM/WwBuBi22fVjfa2Nv2EQNvKwl9eiS9krL57raUbaQuomxwcXELsaxN2Uv0b+qhbwEfdt1dPGJVJOlq29vW+7Mos1w2WxX+LjLkMn3/DvycstLrfNu/ajoAlX1N3whsCVwN7Gx7SdNxRIyoB+qd275P0k1tJvNafuBfga1Zdh/ixw68rfTQp0/SNpSi+c8CtqLUiHhVg+2fQfmlvZCyr+evbL+1qfYjRtmYWv2iTJf8Iy2Vl5Z0EWVD9U9QxtD3p9S6GfjGOOmhT1O94LIZpXLbXGB9mr8QuXXfR8oTGNLuJxEzke1Zbccwxlq1UJjqAsUP1BlqSegj4KK+29G2b2ohhv6PlEvGzHKJiNFyT50y+TNJB1HKAAylnHGGXFaQpLVt/7GltkfqI2VETEzS0yj7um4AfIjyqf4jti8ZeFtJ6NMjaWfgBGAd25tJejJwoO1/bDm0iFjFJaFPk6RLKfPP52d1ZkRMRNJyC+cNo0RHxtBXgO0bx4xbt7FPYUSMtp2BGymbfFxKGRIdqiT06btR0jMAS5pN2errupZjiojR8yhKDfR9gFcAZwGn2V40rAYz5DJNkjYEPknZSkrAtylLim9vNbCIGFl1c+h9KNvPfdD20UNpJwk9ImI4aiJ/ISWZz6UUCzvR9s1DaS8JfWokLW8RgG1/qLFgImLkSTqFUnHybOB029cMvc0k9KmR9PZxDj8UeB3wCNtDWSgQETNT3ee1t16kkX1ek9BXgKR1KRdDXwecCRxp+9Z2o4qIVV1muUyDpIcDbwP2BU4GdmhpY4uIiAdJQp8iSR8FXkLZE3Bb23e3HFJExDIy5DJFdTzsHmAJDY2HRURMRxJ6RERHrNZ2ABERMRhJ6BERHZGEHhHREUnoscqS9FZJaw/qvIi25aJorLIk/QqYZ/u2QZwX0bb00GOVIOmhks6SdKWkayQdBjwaOF/S+fWcYyQtkLRI0gfrsYPHOe9vJF0s6XJJX5CUsg8xEtJDj1WCpJcCu9t+Q328PnAlfT1vSQ+3fYekWcB5wMG2r+rvodfyyV8Gnm/7D5LeBTzE9uFt/Lsi+qWHHquKq4HdJB0h6dm27xrnnL0lXQ5cAWwDbD3OOTvV4z+QtBB4DfCYYQUdMR1Z+h+rBNs/lbQD8ALgw5LO639e0ubAO4Cn2f6tpM8Ca47zUgLOtb3PsGOOmK700GOVIOnRwB9t/xdl15gdgN8D69ZT1qOUOr1L0iOB5/d9e/95lwDPlLRlfd2HSnpcA/+EiEmlhx6rim2Bj9aaPPcCb6Js4nuOpN/Yfo6kK4CfUDb2/UHf9x435rz9gNPqbjQA/wL8tKl/SMREclE0IqIjMuQSEdERSegRER2RhB4R0RFJ6BERHZGEHhHREUnoEREdkYQeEdER/x9UOETnYIwe0gAAAABJRU5ErkJggg==\n"
          },
          "metadata": {
            "needs_background": "light"
          }
        }
      ]
    },
    {
      "cell_type": "code",
      "source": [
        "# Comparing states by bathrooms\n",
        "real_estate_data_copy.groupby('state')['bath'].agg(np.mean).round(2).sort_values().plot(kind='bar');"
      ],
      "metadata": {
        "colab": {
          "base_uri": "https://localhost:8080/",
          "height": 348
        },
        "id": "ruA9rSy82kDQ",
        "outputId": "1d6641d5-a08e-456a-e02b-024879641976"
      },
      "execution_count": 106,
      "outputs": [
        {
          "output_type": "display_data",
          "data": {
            "text/plain": [
              "<Figure size 432x288 with 1 Axes>"
            ],
            "image/png": "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\n"
          },
          "metadata": {
            "needs_background": "light"
          }
        }
      ]
    },
    {
      "cell_type": "markdown",
      "source": [
        "# SECTION 3: Analyze cities in the Northeast"
      ],
      "metadata": {
        "id": "1JT8_73X3BQB"
      }
    },
    {
      "cell_type": "code",
      "source": [
        "# number of cities in each state\n",
        "real_estate_data_copy.groupby('state')['city'].nunique().sort_values()"
      ],
      "metadata": {
        "id": "tOsN2A8q3kYv"
      },
      "execution_count": null,
      "outputs": []
    },
    {
      "cell_type": "markdown",
      "source": [
        "# SECTION #: Lessons Learned & Next Steps "
      ],
       "cell_type": "code",
      "source": [
       "# average house square footage per state"
      "real_estate_data_copy.groupby('state')['price_sqft'].agg(np.mean).round(2).sort_values().index.tolist()"

      "metadata": {
        "id": "aLeuh_4C1vkf"
      }
    },
    {
      "cell_type": "code",
      "source": [],
      "metadata": {
        "id": "wi3d2UmX123B"
      },
      "execution_count": null,
      "outputs": []
    }
  ]
}
