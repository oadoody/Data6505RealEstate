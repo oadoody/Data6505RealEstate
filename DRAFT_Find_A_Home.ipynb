{
  "nbformat": 4,
  "nbformat_minor": 0,
  "metadata": {
    "colab": {
      "provenance": [],
      "collapsed_sections": [
        "yaZZeDP9bd2Q",
        "wdZmjng4doZL",
        "QCV86-iqiC4l",
        "1JT8_73X3BQB",
        "b7HsDqS2Lw3M",
        "aLeuh_4C1vkf"
      ]
    },
    "kernelspec": {
      "name": "python3",
      "display_name": "Python 3"
    },
    "language_info": {
      "name": "python"
    }
  },
  "cells": [
    {
      "cell_type": "markdown",
      "source": [
        "# Finding a home in the Northeastern United States"
      ],
      "metadata": {
        "id": "yaZZeDP9bd2Q"
      }
    },
    {
      "cell_type": "markdown",
      "source": [
        "Import the csv from Kaggle by downloading it to your google drive, store in 'MyDrive', and run code below.\n",
        "*   You will have to allow Google Collab to connect with your Google Drive"
      ],
      "metadata": {
        "id": "Odmig_zoBbMZ"
      }
    },
    {
      "cell_type": "code",
      "source": [
        "# import libraries\n",
        "from google.colab import drive\n",
        "import pandas as pd\n",
        "import numpy as np\n",
        "import matplotlib.pyplot as plt\n",
        "import re"
      ],
      "metadata": {
        "id": "zgmaEjl8iQFO"
      },
      "execution_count": 2,
      "outputs": []
    },
    {
      "cell_type": "code",
      "source": [
        "# load data in from google drive\n",
        "drive.mount(\"/content/drive\")\n",
        "path = \"/content/drive/MyDrive/realtor-data.csv\"\n",
        "real_estate_rawdata = pd.read_csv(path)\n",
        "real_estate_rawdata.head()"
      ],
      "metadata": {
        "id": "eT4WsNBeioim",
        "colab": {
          "base_uri": "https://localhost:8080/",
          "height": 224
        },
        "outputId": "f7fe8f76-b7bb-496e-e9bf-1c58626e72a6"
      },
      "execution_count": 3,
      "outputs": [
        {
          "output_type": "stream",
          "name": "stdout",
          "text": [
            "Mounted at /content/drive\n"
          ]
        },
        {
          "output_type": "execute_result",
          "data": {
            "text/plain": [
              "     status     price  bed  bath  acre_lot  \\\n",
              "0  for_sale  105000.0  3.0   2.0      0.12   \n",
              "1  for_sale   80000.0  4.0   2.0      0.08   \n",
              "2  for_sale   67000.0  2.0   1.0      0.15   \n",
              "3  for_sale  145000.0  4.0   2.0      0.10   \n",
              "4  for_sale   65000.0  6.0   2.0      0.05   \n",
              "\n",
              "                                        full_address  \\\n",
              "0  Sector Yahuecas Titulo # V84, Adjuntas, PR, 00601   \n",
              "1            Km 78 9 Carr # 135, Adjuntas, PR, 00601   \n",
              "2            556G 556-G 16 St, Juana Diaz, PR, 00795   \n",
              "3  R5 Comunidad El Paraso Calle De Oro R-5 Ponce,...   \n",
              "4                    14 Navarro, Mayaguez, PR, 00680   \n",
              "\n",
              "                                          street        city        state  \\\n",
              "0                   Sector Yahuecas Titulo # V84    Adjuntas  Puerto Rico   \n",
              "1                             Km 78 9 Carr # 135    Adjuntas  Puerto Rico   \n",
              "2                               556G 556-G 16 St  Juana Diaz  Puerto Rico   \n",
              "3  R5 Comunidad El Paraso Calle De Oro R-5 Ponce       Ponce  Puerto Rico   \n",
              "4                                     14 Navarro    Mayaguez  Puerto Rico   \n",
              "\n",
              "   zip_code  house_size sold_date  \n",
              "0     601.0       920.0       NaN  \n",
              "1     601.0      1527.0       NaN  \n",
              "2     795.0       748.0       NaN  \n",
              "3     731.0      1800.0       NaN  \n",
              "4     680.0         NaN       NaN  "
            ],
            "text/html": [
              "\n",
              "  <div id=\"df-487df320-e09e-42ee-b6ae-5477de52840f\">\n",
              "    <div class=\"colab-df-container\">\n",
              "      <div>\n",
              "<style scoped>\n",
              "    .dataframe tbody tr th:only-of-type {\n",
              "        vertical-align: middle;\n",
              "    }\n",
              "\n",
              "    .dataframe tbody tr th {\n",
              "        vertical-align: top;\n",
              "    }\n",
              "\n",
              "    .dataframe thead th {\n",
              "        text-align: right;\n",
              "    }\n",
              "</style>\n",
              "<table border=\"1\" class=\"dataframe\">\n",
              "  <thead>\n",
              "    <tr style=\"text-align: right;\">\n",
              "      <th></th>\n",
              "      <th>status</th>\n",
              "      <th>price</th>\n",
              "      <th>bed</th>\n",
              "      <th>bath</th>\n",
              "      <th>acre_lot</th>\n",
              "      <th>full_address</th>\n",
              "      <th>street</th>\n",
              "      <th>city</th>\n",
              "      <th>state</th>\n",
              "      <th>zip_code</th>\n",
              "      <th>house_size</th>\n",
              "      <th>sold_date</th>\n",
              "    </tr>\n",
              "  </thead>\n",
              "  <tbody>\n",
              "    <tr>\n",
              "      <th>0</th>\n",
              "      <td>for_sale</td>\n",
              "      <td>105000.0</td>\n",
              "      <td>3.0</td>\n",
              "      <td>2.0</td>\n",
              "      <td>0.12</td>\n",
              "      <td>Sector Yahuecas Titulo # V84, Adjuntas, PR, 00601</td>\n",
              "      <td>Sector Yahuecas Titulo # V84</td>\n",
              "      <td>Adjuntas</td>\n",
              "      <td>Puerto Rico</td>\n",
              "      <td>601.0</td>\n",
              "      <td>920.0</td>\n",
              "      <td>NaN</td>\n",
              "    </tr>\n",
              "    <tr>\n",
              "      <th>1</th>\n",
              "      <td>for_sale</td>\n",
              "      <td>80000.0</td>\n",
              "      <td>4.0</td>\n",
              "      <td>2.0</td>\n",
              "      <td>0.08</td>\n",
              "      <td>Km 78 9 Carr # 135, Adjuntas, PR, 00601</td>\n",
              "      <td>Km 78 9 Carr # 135</td>\n",
              "      <td>Adjuntas</td>\n",
              "      <td>Puerto Rico</td>\n",
              "      <td>601.0</td>\n",
              "      <td>1527.0</td>\n",
              "      <td>NaN</td>\n",
              "    </tr>\n",
              "    <tr>\n",
              "      <th>2</th>\n",
              "      <td>for_sale</td>\n",
              "      <td>67000.0</td>\n",
              "      <td>2.0</td>\n",
              "      <td>1.0</td>\n",
              "      <td>0.15</td>\n",
              "      <td>556G 556-G 16 St, Juana Diaz, PR, 00795</td>\n",
              "      <td>556G 556-G 16 St</td>\n",
              "      <td>Juana Diaz</td>\n",
              "      <td>Puerto Rico</td>\n",
              "      <td>795.0</td>\n",
              "      <td>748.0</td>\n",
              "      <td>NaN</td>\n",
              "    </tr>\n",
              "    <tr>\n",
              "      <th>3</th>\n",
              "      <td>for_sale</td>\n",
              "      <td>145000.0</td>\n",
              "      <td>4.0</td>\n",
              "      <td>2.0</td>\n",
              "      <td>0.10</td>\n",
              "      <td>R5 Comunidad El Paraso Calle De Oro R-5 Ponce,...</td>\n",
              "      <td>R5 Comunidad El Paraso Calle De Oro R-5 Ponce</td>\n",
              "      <td>Ponce</td>\n",
              "      <td>Puerto Rico</td>\n",
              "      <td>731.0</td>\n",
              "      <td>1800.0</td>\n",
              "      <td>NaN</td>\n",
              "    </tr>\n",
              "    <tr>\n",
              "      <th>4</th>\n",
              "      <td>for_sale</td>\n",
              "      <td>65000.0</td>\n",
              "      <td>6.0</td>\n",
              "      <td>2.0</td>\n",
              "      <td>0.05</td>\n",
              "      <td>14 Navarro, Mayaguez, PR, 00680</td>\n",
              "      <td>14 Navarro</td>\n",
              "      <td>Mayaguez</td>\n",
              "      <td>Puerto Rico</td>\n",
              "      <td>680.0</td>\n",
              "      <td>NaN</td>\n",
              "      <td>NaN</td>\n",
              "    </tr>\n",
              "  </tbody>\n",
              "</table>\n",
              "</div>\n",
              "      <button class=\"colab-df-convert\" onclick=\"convertToInteractive('df-487df320-e09e-42ee-b6ae-5477de52840f')\"\n",
              "              title=\"Convert this dataframe to an interactive table.\"\n",
              "              style=\"display:none;\">\n",
              "        \n",
              "  <svg xmlns=\"http://www.w3.org/2000/svg\" height=\"24px\"viewBox=\"0 0 24 24\"\n",
              "       width=\"24px\">\n",
              "    <path d=\"M0 0h24v24H0V0z\" fill=\"none\"/>\n",
              "    <path d=\"M18.56 5.44l.94 2.06.94-2.06 2.06-.94-2.06-.94-.94-2.06-.94 2.06-2.06.94zm-11 1L8.5 8.5l.94-2.06 2.06-.94-2.06-.94L8.5 2.5l-.94 2.06-2.06.94zm10 10l.94 2.06.94-2.06 2.06-.94-2.06-.94-.94-2.06-.94 2.06-2.06.94z\"/><path d=\"M17.41 7.96l-1.37-1.37c-.4-.4-.92-.59-1.43-.59-.52 0-1.04.2-1.43.59L10.3 9.45l-7.72 7.72c-.78.78-.78 2.05 0 2.83L4 21.41c.39.39.9.59 1.41.59.51 0 1.02-.2 1.41-.59l7.78-7.78 2.81-2.81c.8-.78.8-2.07 0-2.86zM5.41 20L4 18.59l7.72-7.72 1.47 1.35L5.41 20z\"/>\n",
              "  </svg>\n",
              "      </button>\n",
              "      \n",
              "  <style>\n",
              "    .colab-df-container {\n",
              "      display:flex;\n",
              "      flex-wrap:wrap;\n",
              "      gap: 12px;\n",
              "    }\n",
              "\n",
              "    .colab-df-convert {\n",
              "      background-color: #E8F0FE;\n",
              "      border: none;\n",
              "      border-radius: 50%;\n",
              "      cursor: pointer;\n",
              "      display: none;\n",
              "      fill: #1967D2;\n",
              "      height: 32px;\n",
              "      padding: 0 0 0 0;\n",
              "      width: 32px;\n",
              "    }\n",
              "\n",
              "    .colab-df-convert:hover {\n",
              "      background-color: #E2EBFA;\n",
              "      box-shadow: 0px 1px 2px rgba(60, 64, 67, 0.3), 0px 1px 3px 1px rgba(60, 64, 67, 0.15);\n",
              "      fill: #174EA6;\n",
              "    }\n",
              "\n",
              "    [theme=dark] .colab-df-convert {\n",
              "      background-color: #3B4455;\n",
              "      fill: #D2E3FC;\n",
              "    }\n",
              "\n",
              "    [theme=dark] .colab-df-convert:hover {\n",
              "      background-color: #434B5C;\n",
              "      box-shadow: 0px 1px 3px 1px rgba(0, 0, 0, 0.15);\n",
              "      filter: drop-shadow(0px 1px 2px rgba(0, 0, 0, 0.3));\n",
              "      fill: #FFFFFF;\n",
              "    }\n",
              "  </style>\n",
              "\n",
              "      <script>\n",
              "        const buttonEl =\n",
              "          document.querySelector('#df-487df320-e09e-42ee-b6ae-5477de52840f button.colab-df-convert');\n",
              "        buttonEl.style.display =\n",
              "          google.colab.kernel.accessAllowed ? 'block' : 'none';\n",
              "\n",
              "        async function convertToInteractive(key) {\n",
              "          const element = document.querySelector('#df-487df320-e09e-42ee-b6ae-5477de52840f');\n",
              "          const dataTable =\n",
              "            await google.colab.kernel.invokeFunction('convertToInteractive',\n",
              "                                                     [key], {});\n",
              "          if (!dataTable) return;\n",
              "\n",
              "          const docLinkHtml = 'Like what you see? Visit the ' +\n",
              "            '<a target=\"_blank\" href=https://colab.research.google.com/notebooks/data_table.ipynb>data table notebook</a>'\n",
              "            + ' to learn more about interactive tables.';\n",
              "          element.innerHTML = '';\n",
              "          dataTable['output_type'] = 'display_data';\n",
              "          await google.colab.output.renderOutput(dataTable, element);\n",
              "          const docLink = document.createElement('div');\n",
              "          docLink.innerHTML = docLinkHtml;\n",
              "          element.appendChild(docLink);\n",
              "        }\n",
              "      </script>\n",
              "    </div>\n",
              "  </div>\n",
              "  "
            ]
          },
          "metadata": {},
          "execution_count": 3
        }
      ]
    },
    {
      "cell_type": "markdown",
      "source": [
        "# SECTION 1: The Data"
      ],
      "metadata": {
        "id": "wdZmjng4doZL"
      }
    },
    {
      "cell_type": "markdown",
      "source": [
        "Data Dictionary:"
      ],
      "metadata": {
        "id": "qNXfKS26B5Uc"
      }
    },
    {
      "cell_type": "markdown",
      "source": [
        "| Feature Name | Description | Data Types |\n",
        "| ------------ | ---------- | --- |\n",
        "| status | _For sale or not_ | string |\n",
        "| price | _Selling price in dollars_ | float |\n",
        "| bed | _Number of bedrooms_ | float | \n",
        "| bath | _Number of bathrooms_ | float |\n",
        "| acre_lot | _Acreage of property_ | float |\n",
        "| address | _Full address of property_ | string |\n",
        "| street | _Street of property_ | string |\n",
        "| city | _City of property_ | string |\n",
        "| state | _State of property_ | string |\n",
        "| zip_code | _Zipcode of property_ | float |\n",
        "| house_size | _Square footage of property_ | float | \n",
        "|sold_date | _Date of property sale_ | string |"
      ],
      "metadata": {
        "id": "ReVXoQkBd1dx"
      }
    },
    {
      "cell_type": "markdown",
      "source": [
        "Assumtions:\n",
        "*   We assume that 'house_size' is the square footage of the property.\n",
        "\n",
        "Changes to the data:\n",
        "*   Most the data types did not have to be changed\n",
        "*   We removed all duplicates by 'full_address'\n",
        "*   We replaced missing values with the series average in the following series:\n",
        "      *   'price'\n",
        "      *   'bed'\n",
        "      *   'bath'\n",
        "      *   'acre_lot'\n",
        "      *   'house_size'\n",
        "*   We removed the outliers using the IQR method\n",
        "      *    Meaning we calculated the lower and upper quantiles\n",
        "      *    Determined the IQR, Upper and Lower bounds\n",
        "      *    Then for the outliers that fell outside the upper bound, were replaced with the upper bound, and any outliers below the lower bound were replaced with the lower bound. \n",
        "\n",
        "\n"
      ],
      "metadata": {
        "id": "o5rSckVkfkjK"
      }
    },
    {
      "cell_type": "code",
      "source": [
        "# drop dataframe duplicates by full_address\n",
        "real_estate_data = real_estate_rawdata.drop_duplicates(subset= 'full_address', keep='first', ignore_index = True)"
      ],
      "metadata": {
        "id": "C7fgOPbxj42q"
      },
      "execution_count": 4,
      "outputs": []
    },
    {
      "cell_type": "code",
      "source": [
        "# checking data types\n",
        "real_estate_data.dtypes"
      ],
      "metadata": {
        "id": "r7dmi3yjkFRd",
        "colab": {
          "base_uri": "https://localhost:8080/"
        },
        "outputId": "74d5fcac-80f5-41e6-d4db-7806189bff63"
      },
      "execution_count": 5,
      "outputs": [
        {
          "output_type": "execute_result",
          "data": {
            "text/plain": [
              "status           object\n",
              "price           float64\n",
              "bed             float64\n",
              "bath            float64\n",
              "acre_lot        float64\n",
              "full_address     object\n",
              "street           object\n",
              "city             object\n",
              "state            object\n",
              "zip_code        float64\n",
              "house_size      float64\n",
              "sold_date        object\n",
              "dtype: object"
            ]
          },
          "metadata": {},
          "execution_count": 5
        }
      ]
    },
    {
      "cell_type": "code",
      "source": [
        "# replace missing values with mean\n",
        "# create copy of df\n",
        "real_estate_data_copy = real_estate_data.copy()\n",
        "# correct missing values \n",
        "real_estate_data_copy['price'] = real_estate_data_copy['price'].fillna(real_estate_data_copy['price'].mean())\n",
        "real_estate_data_copy['bed'] = real_estate_data_copy['bed'].fillna(real_estate_data_copy['bed'].mean())\n",
        "real_estate_data_copy['bath'] = real_estate_data_copy['bath'].fillna(real_estate_data_copy['bath'].mean())\n",
        "real_estate_data_copy['acre_lot'] = real_estate_data_copy['acre_lot'].fillna(real_estate_data_copy['acre_lot'].mean())\n",
        "real_estate_data_copy['house_size'] = real_estate_data_copy['house_size'].fillna(real_estate_data_copy['house_size'].mean())"
      ],
      "metadata": {
        "id": "gbsc1-5UkLrS"
      },
      "execution_count": 6,
      "outputs": []
    },
    {
      "cell_type": "code",
      "source": [
        "# change 'price' from a float to an integer\n",
        "real_estate_data_copy['price'].astype(int)"
      ],
      "metadata": {
        "id": "Gbd0dJrGmvX9",
        "colab": {
          "base_uri": "https://localhost:8080/"
        },
        "outputId": "7d7f29a2-ab17-4a76-a068-66b0347eac63"
      },
      "execution_count": 7,
      "outputs": [
        {
          "output_type": "execute_result",
          "data": {
            "text/plain": [
              "0          105000\n",
              "1           80000\n",
              "2           67000\n",
              "3          145000\n",
              "4           65000\n",
              "           ...   \n",
              "112227    1649000\n",
              "112228     779000\n",
              "112229    1595000\n",
              "112230    4595000\n",
              "112231    2995000\n",
              "Name: price, Length: 112232, dtype: int64"
            ]
          },
          "metadata": {},
          "execution_count": 7
        }
      ]
    },
    {
      "cell_type": "code",
      "source": [
        "# show 'price' with outliers\n",
        "plt.boxplot(real_estate_data_copy['price']);"
      ],
      "metadata": {
        "id": "yhVRuGzLnBae",
        "colab": {
          "base_uri": "https://localhost:8080/",
          "height": 276
        },
        "outputId": "8acabb10-1ffa-4aa5-9349-f7e261314562"
      },
      "execution_count": 8,
      "outputs": [
        {
          "output_type": "display_data",
          "data": {
            "text/plain": [
              "<Figure size 432x288 with 1 Axes>"
            ],
            "image/png": "[encoded data removed]"
          },
          "metadata": {
            "needs_background": "light"
          }
        }
      ]
    },
    {
      "cell_type": "code",
      "source": [
        "# show 'price' without outliers\n",
        "#find the first and third quantiles using numpy\n",
        "q1 =  np.quantile(real_estate_data_copy['price'], 0.25)\n",
        "q3 =  np.quantile(real_estate_data_copy['price'], 0.75)\n",
        "\n",
        "# calc iqr\n",
        "iqr = q3 - q1\n",
        "\n",
        "# calc upper and lower bounds \n",
        "bound_low = q1 - 1.5 * iqr\n",
        "bound_up = q3 + 1.5 * iqr\n",
        "\n",
        "# replace series with new series that replaces outliers with their closest bound\n",
        "real_estate_data_copy['price'] =  np.where(real_estate_data_copy['price'] > bound_up, bound_up, real_estate_data_copy['price'])\n",
        "real_estate_data_copy['price'] =  np.where(real_estate_data_copy['price']< bound_low, bound_low, real_estate_data_copy['price'])\n",
        "\n",
        "plt.boxplot(real_estate_data_copy['price']);"
      ],
      "metadata": {
        "id": "jSFy1OrlleV5",
        "colab": {
          "base_uri": "https://localhost:8080/",
          "height": 276
        },
        "outputId": "971612ef-640e-480c-d6b5-45cfecf98a0d"
      },
      "execution_count": 9,
      "outputs": [
        {
          "output_type": "display_data",
          "data": {
            "text/plain": [
              "<Figure size 432x288 with 1 Axes>"
            ],
            "image/png": "[encoded data removed]"
          },
          "metadata": {
            "needs_background": "light"
          }
        }
      ]
    },
    {
      "cell_type": "code",
      "source": [
        "# square footage with outliers \n",
        "plt.boxplot(real_estate_data_copy['house_size']);"
      ],
      "metadata": {
        "id": "tPKu_xnNnTJh",
        "colab": {
          "base_uri": "https://localhost:8080/",
          "height": 276
        },
        "outputId": "8670a067-5367-4841-c032-f61a775bba99"
      },
      "execution_count": 10,
      "outputs": [
        {
          "output_type": "display_data",
          "data": {
            "text/plain": [
              "<Figure size 432x288 with 1 Axes>"
            ],
            "image/png": "[encoded data removed]"
          },
          "metadata": {
            "needs_background": "light"
          }
        }
      ]
    },
    {
      "cell_type": "code",
      "source": [
        "# square footage wihtout outliers \n",
        "# find the first and third quantiles using numpy\n",
        "q1 =  np.quantile(real_estate_data_copy['house_size'], 0.25)\n",
        "q3 =  np.quantile(real_estate_data_copy['house_size'], 0.75)\n",
        "\n",
        "# calc iqr\n",
        "iqr = q3 - q1\n",
        "\n",
        "# calc upper and lower bounds \n",
        "bound_low = q1 - 1.5 * iqr\n",
        "bound_up = q3 + 1.5 * iqr\n",
        "\n",
        "# replace series with new series that replaces outliers with their closest bound\n",
        "real_estate_data_copy['house_size'] =  np.where(real_estate_data_copy['house_size'] > bound_up, bound_up, real_estate_data_copy['house_size'])\n",
        "real_estate_data_copy['house_size'] =  np.where(real_estate_data_copy['house_size']< bound_low, bound_low, real_estate_data_copy['house_size'])\n",
        "\n",
        "plt.boxplot(real_estate_data_copy['house_size']);"
      ],
      "metadata": {
        "id": "KBfPLWPalo2-",
        "colab": {
          "base_uri": "https://localhost:8080/",
          "height": 265
        },
        "outputId": "bda8b300-5d41-4679-8341-4dffe4f12123"
      },
      "execution_count": 11,
      "outputs": [
        {
          "output_type": "display_data",
          "data": {
            "text/plain": [
              "<Figure size 432x288 with 1 Axes>"
            ],
            "image/png": "[encoded data removed]"
          },
          "metadata": {
            "needs_background": "light"
          }
        }
      ]
    },
    {
      "cell_type": "markdown",
      "source": [
        "THE STATES\n",
        "\n",
        "\n",
        "*   Due to lack of significant data the following states were removed: Geroge, South Caroline, Tennessee, Virginia, West Virigina, Wyoming. \n",
        "*   Due to lack of relevence in our analysis the following states were removed: Puerto Rico and Virgin Islands\n",
        "\n",
        "\n",
        "\n",
        "| State Abbreviation | State | Removed | \n",
        "| ------------ | --------------- | ------------ | \n",
        "| Connecticut | CT | |\n",
        "| Delaware | DE | |\n",
        "| Georgia | GA | _Removed due to lack of data_ |\n",
        "| Maine | ME | |\n",
        "| Massachusetts | MA | |\n",
        "| New Hampshire | NH | |\n",
        "| New Jersey | NJ | |\n",
        "| New York | NY | |\n",
        "| Pennsylvania |PA | |\n",
        "| Puerto Rico | PR | _Removed due irrelevance_ |\n",
        "| Rhode Island |RI | |\n",
        "| South Carolina | SC | _Removed due to lack of data_ |\n",
        "| Tennessee | TN | _Removed due to lack of data_ |\n",
        "| Vermont | VT | |\n",
        "| Virgin Islands | VI | _Removed due irrelevance_ |\n",
        "| Virginia | VA | _Removed due to lack of data_ |\n",
        "| West Virginia | WV | _Removed due to lack of data_ |\n",
        "| Wyoming | WY | _Removed due to lack of data_ |\n",
        "\n",
        "\n"
      ],
      "metadata": {
        "id": "oK7BWaAveCjg"
      }
    },
    {
      "cell_type": "code",
      "source": [
        "# count of data in each state before removing\n",
        "real_estate_data_copy['state'].value_counts()"
      ],
      "metadata": {
        "id": "11K4HGqsoWnf",
        "colab": {
          "base_uri": "https://localhost:8080/"
        },
        "outputId": "6a892caa-d4a2-4919-f7c7-6585d7794b3b"
      },
      "execution_count": 12,
      "outputs": [
        {
          "output_type": "execute_result",
          "data": {
            "text/plain": [
              "New Jersey        32299\n",
              "New York          27952\n",
              "Connecticut       13776\n",
              "Massachusetts     10110\n",
              "Pennsylvania       9001\n",
              "Maine              4986\n",
              "New Hampshire      3532\n",
              "Rhode Island       3409\n",
              "Puerto Rico        2632\n",
              "Vermont            2500\n",
              "Delaware           1277\n",
              "Virgin Islands      742\n",
              "Virginia              7\n",
              "Georgia               5\n",
              "Wyoming               1\n",
              "South Carolina        1\n",
              "West Virginia         1\n",
              "Tennessee             1\n",
              "Name: state, dtype: int64"
            ]
          },
          "metadata": {},
          "execution_count": 12
        }
      ]
    },
    {
      "cell_type": "code",
      "source": [
        "# removing states with lack of data\n",
        "real_estate_data_copy.drop(real_estate_data_copy.index[real_estate_data_copy['state'] == 'Georgia'], inplace = True)\n",
        "real_estate_data_copy.drop(real_estate_data_copy.index[real_estate_data_copy['state'] == 'South Carolina'], inplace = True)\n",
        "real_estate_data_copy.drop(real_estate_data_copy.index[real_estate_data_copy['state'] == 'Tennessee'], inplace = True)\n",
        "real_estate_data_copy.drop(real_estate_data_copy.index[real_estate_data_copy['state'] == 'Virginia'], inplace = True)\n",
        "real_estate_data_copy.drop(real_estate_data_copy.index[real_estate_data_copy['state'] == 'West Virginia'], inplace = True)\n",
        "real_estate_data_copy.drop(real_estate_data_copy.index[real_estate_data_copy['state'] == 'Wyoming'], inplace = True)\n",
        "# removing states with lack of relevance\n",
        "real_estate_data_copy.drop(real_estate_data_copy.index[real_estate_data_copy['state'] == 'Virgin Islands'], inplace = True)\n",
        "real_estate_data_copy.drop(real_estate_data_copy.index[real_estate_data_copy['state'] == 'Puerto Rico'], inplace = True)"
      ],
      "metadata": {
        "id": "0F45NB-tniel"
      },
      "execution_count": 13,
      "outputs": []
    },
    {
      "cell_type": "code",
      "source": [
        "# check count of data in each remaining state\n",
        "real_estate_data_copy['state'].value_counts()"
      ],
      "metadata": {
        "id": "s6gXwqEFo1xQ",
        "colab": {
          "base_uri": "https://localhost:8080/"
        },
        "outputId": "e5a86631-b605-47b6-91b7-ba28db4be65e"
      },
      "execution_count": 14,
      "outputs": [
        {
          "output_type": "execute_result",
          "data": {
            "text/plain": [
              "New Jersey       32299\n",
              "New York         27952\n",
              "Connecticut      13776\n",
              "Massachusetts    10110\n",
              "Pennsylvania      9001\n",
              "Maine             4986\n",
              "New Hampshire     3532\n",
              "Rhode Island      3409\n",
              "Vermont           2500\n",
              "Delaware          1277\n",
              "Name: state, dtype: int64"
            ]
          },
          "metadata": {},
          "execution_count": 14
        }
      ]
    },
    {
      "cell_type": "markdown",
      "source": [
        "NEW FEATURES: We added three new features to the data.\n",
        "*   Price per square foot\n",
        "*   Bedroom to bathroom ratio\n",
        "*   State abbreviations \n",
        "\n"
      ],
      "metadata": {
        "id": "ie43Gylo0xuB"
      }
    },
    {
      "cell_type": "code",
      "source": [
        "# calculating the price/sqft by house size\n",
        "real_estate_data_copy['price_sqft'] = real_estate_data_copy['price']/real_estate_data_copy['house_size']\n",
        "# calculating the bed/bath count by house\n",
        "real_estate_data_copy['bed_bath_ratio'] = real_estate_data_copy['bed']/real_estate_data_copy['bath']"
      ],
      "metadata": {
        "id": "KMCsmd-E1C_Q"
      },
      "execution_count": 15,
      "outputs": []
    },
    {
      "cell_type": "code",
      "source": [
        "# change state names to state abbreviations\n",
        "states = {\n",
        "        'CT': 'Connecticut',\n",
        "        'DE': 'Delaware',\n",
        "        'MA': 'Massachusetts',\n",
        "        'ME': 'Maine',\n",
        "        'NH': 'New Hampshire',\n",
        "        'NJ': 'New Jersey',\n",
        "        'NY': 'New York',\n",
        "        'PA': 'Pennsylvania',\n",
        "        'RI': 'Rhode Island',\n",
        "        'VT': 'Vermont',}\n",
        "\n",
        "def best_match(x):\n",
        "    '''\n",
        "    This function takes a state name and finds its' \n",
        "    abbreviation in the dictionary called states.\n",
        "\n",
        "    ARGUMENTS\n",
        "    ---------\n",
        "     - x: (string) full name of state \n",
        "    OUTPUT\n",
        "    ---------\n",
        "    - the abbreviation of state x \n",
        "    '''\n",
        "    # Try another way for 2-letter codes\n",
        "    if len(x) == 2: # Try another way for 2-letter codes\n",
        "        # Loop through each state in the states dictionary\n",
        "        for a,n in states.items():\n",
        "            # Check if the state name has two words\n",
        "            if len(n.split()) == 2:\n",
        "              # Join the first letter of each word in the state name to form a string\n",
        "              # Check if this string matches the input x in a case-insensitive manner\n",
        "                if \"\".join([c[0] for c in n.split()]).lower() == x.lower():\n",
        "                    return a.lower()\n",
        "    # Compile an expression using the input x\n",
        "    new_rx = re.compile(r\"\\w*\".join([ch for ch in x]), re.I)\n",
        "    # Loop through each state in the states dictionary\n",
        "    for a,n in states.items():\n",
        "        # Check if the state name matches the regular expression\n",
        "        if new_rx.match(n):\n",
        "            return a.lower()\n",
        "        \n",
        "real_estate_data_copy['state_abbrev'] = real_estate_data_copy['state'].apply(lambda x: best_match(x)).str.upper()"
      ],
      "metadata": {
        "id": "PFptwqFy1Cyx"
      },
      "execution_count": 16,
      "outputs": []
    },
    {
      "cell_type": "markdown",
      "source": [
        "Descriptive Statistics of data"
      ],
      "metadata": {
        "id": "d5PLHXm0DUhf"
      }
    },
    {
      "cell_type": "code",
      "source": [
        "# describe, formate as float with one decimal\n",
        "real_estate_data_copy.describe().apply(lambda s: s.apply('{0:.1f}'.format))"
      ],
      "metadata": {
        "id": "t58KD0ly0l0r",
        "colab": {
          "base_uri": "https://localhost:8080/",
          "height": 300
        },
        "outputId": "043f4430-437d-4b01-9788-a0a476270c93"
      },
      "execution_count": 17,
      "outputs": [
        {
          "output_type": "execute_result",
          "data": {
            "text/plain": [
              "           price       bed      bath  acre_lot  zip_code house_size  \\\n",
              "count   108842.0  108842.0  108842.0  108842.0  108835.0   108842.0   \n",
              "mean    610842.6       3.3       2.5      17.0    8485.3     1949.1   \n",
              "std     476638.9       1.7       1.6     799.9    4448.8      720.3   \n",
              "min          0.0       1.0       1.0       0.0     604.0      192.0   \n",
              "25%     259888.0       2.0       2.0       0.1    6110.5     1376.0   \n",
              "50%     450000.0       3.0       2.0       0.7    8037.0     2158.7   \n",
              "75%     800000.0       4.0       3.0      17.8   10308.0     2158.7   \n",
              "max    1624750.0     123.0     198.0  100000.0   99999.0     3338.6   \n",
              "\n",
              "      price_sqft bed_bath_ratio  \n",
              "count   108842.0       108842.0  \n",
              "mean       338.7            1.5  \n",
              "std        293.8            0.7  \n",
              "min          0.0            0.1  \n",
              "25%        160.4            1.0  \n",
              "50%        251.1            1.3  \n",
              "75%        431.3            1.7  \n",
              "max       4663.3           11.1  "
            ],
            "text/html": [
              "\n",
              "  <div id=\"df-9b4cf7c3-6b23-4ec5-992f-98a9343fdfed\">\n",
              "    <div class=\"colab-df-container\">\n",
              "      <div>\n",
              "<style scoped>\n",
              "    .dataframe tbody tr th:only-of-type {\n",
              "        vertical-align: middle;\n",
              "    }\n",
              "\n",
              "    .dataframe tbody tr th {\n",
              "        vertical-align: top;\n",
              "    }\n",
              "\n",
              "    .dataframe thead th {\n",
              "        text-align: right;\n",
              "    }\n",
              "</style>\n",
              "<table border=\"1\" class=\"dataframe\">\n",
              "  <thead>\n",
              "    <tr style=\"text-align: right;\">\n",
              "      <th></th>\n",
              "      <th>price</th>\n",
              "      <th>bed</th>\n",
              "      <th>bath</th>\n",
              "      <th>acre_lot</th>\n",
              "      <th>zip_code</th>\n",
              "      <th>house_size</th>\n",
              "      <th>price_sqft</th>\n",
              "      <th>bed_bath_ratio</th>\n",
              "    </tr>\n",
              "  </thead>\n",
              "  <tbody>\n",
              "    <tr>\n",
              "      <th>count</th>\n",
              "      <td>108842.0</td>\n",
              "      <td>108842.0</td>\n",
              "      <td>108842.0</td>\n",
              "      <td>108842.0</td>\n",
              "      <td>108835.0</td>\n",
              "      <td>108842.0</td>\n",
              "      <td>108842.0</td>\n",
              "      <td>108842.0</td>\n",
              "    </tr>\n",
              "    <tr>\n",
              "      <th>mean</th>\n",
              "      <td>610842.6</td>\n",
              "      <td>3.3</td>\n",
              "      <td>2.5</td>\n",
              "      <td>17.0</td>\n",
              "      <td>8485.3</td>\n",
              "      <td>1949.1</td>\n",
              "      <td>338.7</td>\n",
              "      <td>1.5</td>\n",
              "    </tr>\n",
              "    <tr>\n",
              "      <th>std</th>\n",
              "      <td>476638.9</td>\n",
              "      <td>1.7</td>\n",
              "      <td>1.6</td>\n",
              "      <td>799.9</td>\n",
              "      <td>4448.8</td>\n",
              "      <td>720.3</td>\n",
              "      <td>293.8</td>\n",
              "      <td>0.7</td>\n",
              "    </tr>\n",
              "    <tr>\n",
              "      <th>min</th>\n",
              "      <td>0.0</td>\n",
              "      <td>1.0</td>\n",
              "      <td>1.0</td>\n",
              "      <td>0.0</td>\n",
              "      <td>604.0</td>\n",
              "      <td>192.0</td>\n",
              "      <td>0.0</td>\n",
              "      <td>0.1</td>\n",
              "    </tr>\n",
              "    <tr>\n",
              "      <th>25%</th>\n",
              "      <td>259888.0</td>\n",
              "      <td>2.0</td>\n",
              "      <td>2.0</td>\n",
              "      <td>0.1</td>\n",
              "      <td>6110.5</td>\n",
              "      <td>1376.0</td>\n",
              "      <td>160.4</td>\n",
              "      <td>1.0</td>\n",
              "    </tr>\n",
              "    <tr>\n",
              "      <th>50%</th>\n",
              "      <td>450000.0</td>\n",
              "      <td>3.0</td>\n",
              "      <td>2.0</td>\n",
              "      <td>0.7</td>\n",
              "      <td>8037.0</td>\n",
              "      <td>2158.7</td>\n",
              "      <td>251.1</td>\n",
              "      <td>1.3</td>\n",
              "    </tr>\n",
              "    <tr>\n",
              "      <th>75%</th>\n",
              "      <td>800000.0</td>\n",
              "      <td>4.0</td>\n",
              "      <td>3.0</td>\n",
              "      <td>17.8</td>\n",
              "      <td>10308.0</td>\n",
              "      <td>2158.7</td>\n",
              "      <td>431.3</td>\n",
              "      <td>1.7</td>\n",
              "    </tr>\n",
              "    <tr>\n",
              "      <th>max</th>\n",
              "      <td>1624750.0</td>\n",
              "      <td>123.0</td>\n",
              "      <td>198.0</td>\n",
              "      <td>100000.0</td>\n",
              "      <td>99999.0</td>\n",
              "      <td>3338.6</td>\n",
              "      <td>4663.3</td>\n",
              "      <td>11.1</td>\n",
              "    </tr>\n",
              "  </tbody>\n",
              "</table>\n",
              "</div>\n",
              "      <button class=\"colab-df-convert\" onclick=\"convertToInteractive('df-9b4cf7c3-6b23-4ec5-992f-98a9343fdfed')\"\n",
              "              title=\"Convert this dataframe to an interactive table.\"\n",
              "              style=\"display:none;\">\n",
              "        \n",
              "  <svg xmlns=\"http://www.w3.org/2000/svg\" height=\"24px\"viewBox=\"0 0 24 24\"\n",
              "       width=\"24px\">\n",
              "    <path d=\"M0 0h24v24H0V0z\" fill=\"none\"/>\n",
              "    <path d=\"M18.56 5.44l.94 2.06.94-2.06 2.06-.94-2.06-.94-.94-2.06-.94 2.06-2.06.94zm-11 1L8.5 8.5l.94-2.06 2.06-.94-2.06-.94L8.5 2.5l-.94 2.06-2.06.94zm10 10l.94 2.06.94-2.06 2.06-.94-2.06-.94-.94-2.06-.94 2.06-2.06.94z\"/><path d=\"M17.41 7.96l-1.37-1.37c-.4-.4-.92-.59-1.43-.59-.52 0-1.04.2-1.43.59L10.3 9.45l-7.72 7.72c-.78.78-.78 2.05 0 2.83L4 21.41c.39.39.9.59 1.41.59.51 0 1.02-.2 1.41-.59l7.78-7.78 2.81-2.81c.8-.78.8-2.07 0-2.86zM5.41 20L4 18.59l7.72-7.72 1.47 1.35L5.41 20z\"/>\n",
              "  </svg>\n",
              "      </button>\n",
              "      \n",
              "  <style>\n",
              "    .colab-df-container {\n",
              "      display:flex;\n",
              "      flex-wrap:wrap;\n",
              "      gap: 12px;\n",
              "    }\n",
              "\n",
              "    .colab-df-convert {\n",
              "      background-color: #E8F0FE;\n",
              "      border: none;\n",
              "      border-radius: 50%;\n",
              "      cursor: pointer;\n",
              "      display: none;\n",
              "      fill: #1967D2;\n",
              "      height: 32px;\n",
              "      padding: 0 0 0 0;\n",
              "      width: 32px;\n",
              "    }\n",
              "\n",
              "    .colab-df-convert:hover {\n",
              "      background-color: #E2EBFA;\n",
              "      box-shadow: 0px 1px 2px rgba(60, 64, 67, 0.3), 0px 1px 3px 1px rgba(60, 64, 67, 0.15);\n",
              "      fill: #174EA6;\n",
              "    }\n",
              "\n",
              "    [theme=dark] .colab-df-convert {\n",
              "      background-color: #3B4455;\n",
              "      fill: #D2E3FC;\n",
              "    }\n",
              "\n",
              "    [theme=dark] .colab-df-convert:hover {\n",
              "      background-color: #434B5C;\n",
              "      box-shadow: 0px 1px 3px 1px rgba(0, 0, 0, 0.15);\n",
              "      filter: drop-shadow(0px 1px 2px rgba(0, 0, 0, 0.3));\n",
              "      fill: #FFFFFF;\n",
              "    }\n",
              "  </style>\n",
              "\n",
              "      <script>\n",
              "        const buttonEl =\n",
              "          document.querySelector('#df-9b4cf7c3-6b23-4ec5-992f-98a9343fdfed button.colab-df-convert');\n",
              "        buttonEl.style.display =\n",
              "          google.colab.kernel.accessAllowed ? 'block' : 'none';\n",
              "\n",
              "        async function convertToInteractive(key) {\n",
              "          const element = document.querySelector('#df-9b4cf7c3-6b23-4ec5-992f-98a9343fdfed');\n",
              "          const dataTable =\n",
              "            await google.colab.kernel.invokeFunction('convertToInteractive',\n",
              "                                                     [key], {});\n",
              "          if (!dataTable) return;\n",
              "\n",
              "          const docLinkHtml = 'Like what you see? Visit the ' +\n",
              "            '<a target=\"_blank\" href=https://colab.research.google.com/notebooks/data_table.ipynb>data table notebook</a>'\n",
              "            + ' to learn more about interactive tables.';\n",
              "          element.innerHTML = '';\n",
              "          dataTable['output_type'] = 'display_data';\n",
              "          await google.colab.output.renderOutput(dataTable, element);\n",
              "          const docLink = document.createElement('div');\n",
              "          docLink.innerHTML = docLinkHtml;\n",
              "          element.appendChild(docLink);\n",
              "        }\n",
              "      </script>\n",
              "    </div>\n",
              "  </div>\n",
              "  "
            ]
          },
          "metadata": {},
          "execution_count": 17
        }
      ]
    },
    {
      "cell_type": "markdown",
      "source": [
        "# SECTION 2: Analyze housing market of the Northeast"
      ],
      "metadata": {
        "id": "QCV86-iqiC4l"
      }
    },
    {
      "cell_type": "markdown",
      "source": [
        "Comparing states across different features \n",
        "\n",
        "*   Price per sqft\n",
        "*   Bedrooms\n",
        "*   Bathrooms\n",
        "\n"
      ],
      "metadata": {
        "id": "-8u-sZGp2OID"
      }
    },
    {
      "cell_type": "code",
      "source": [
        "# Comparing states by price per square foot\n",
        "real_estate_data_copy.groupby('state')['price_sqft'].agg(np.mean).round(2).sort_values().plot(kind='barh');\n",
        "plt.xlabel('price_sqft');"
      ],
      "metadata": {
        "id": "yHTDU1CRyt08",
        "colab": {
          "base_uri": "https://localhost:8080/",
          "height": 280
        },
        "outputId": "03610999-f4df-4c66-992f-7f603f32c363"
      },
      "execution_count": 18,
      "outputs": [
        {
          "output_type": "display_data",
          "data": {
            "text/plain": [
              "<Figure size 432x288 with 1 Axes>"
            ],
            "image/png": "[encoded data removed]"
          },
          "metadata": {
            "needs_background": "light"
          }
        }
      ]
    },
    {
      "cell_type": "markdown",
      "source": [
        "The state with the lowest price per square foot, meaning the state where you pay the least for a square foot of space, is Maine. Following by Deleware, Vermont, New Hampshire and Pennsylvania."
      ],
      "metadata": {
        "id": "8sTMLz2nEfBh"
      }
    },
    {
      "cell_type": "code",
      "source": [
        "# Comparing states by bedrooms\n",
        "real_estate_data_copy.groupby('state')['bed'].agg(np.mean).round(2).sort_values(ascending=False).plot(kind='barh');\n",
        "plt.xlabel('bed');"
      ],
      "metadata": {
        "id": "ECph1PdN2kOf",
        "colab": {
          "base_uri": "https://localhost:8080/",
          "height": 279
        },
        "outputId": "ebc51c87-7d85-4a23-ea95-748ef82cc9fb"
      },
      "execution_count": 19,
      "outputs": [
        {
          "output_type": "display_data",
          "data": {
            "text/plain": [
              "<Figure size 432x288 with 1 Axes>"
            ],
            "image/png": "[encoded data removed]"
          },
          "metadata": {
            "needs_background": "light"
          }
        }
      ]
    },
    {
      "cell_type": "markdown",
      "source": [
        "The state that has the highest average of bedrooms in a house is Massachusetts. Followed by Rhode Island, Conneticut, New Jersey and Vermont."
      ],
      "metadata": {
        "id": "3Z4t-HHbEvXZ"
      }
    },
    {
      "cell_type": "code",
      "source": [
        "# Comparing states by bathrooms\n",
        "real_estate_data_copy.groupby('state')['bath'].agg(np.mean).round(2).sort_values(ascending=False).plot(kind='barh');\n",
        "plt.xlabel('bath');"
      ],
      "metadata": {
        "id": "ruA9rSy82kDQ",
        "colab": {
          "base_uri": "https://localhost:8080/",
          "height": 279
        },
        "outputId": "9c02c8f2-b75f-472f-de52-bb6fcc7c5786"
      },
      "execution_count": 20,
      "outputs": [
        {
          "output_type": "display_data",
          "data": {
            "text/plain": [
              "<Figure size 432x288 with 1 Axes>"
            ],
            "image/png": "[encoded data removed]"
          },
          "metadata": {
            "needs_background": "light"
          }
        }
      ]
    },
    {
      "cell_type": "markdown",
      "source": [
        "The state that has the highest average of bathrooms in a house is Connecticut. Followed by Massachusetts, Vermont, New Jersey and New Hampshire."
      ],
      "metadata": {
        "id": "3JJuthIxE7c_"
      }
    },
    {
      "cell_type": "code",
      "source": [
        "# create dataframe with the rankings of all 10 states in each category\n",
        "# find average using groupby and make into list \n",
        "a = real_estate_data_copy.groupby('state')['price_sqft'].agg(np.mean).round(2).sort_values(ascending = True).index.tolist()\n",
        "b = real_estate_data_copy.groupby('state')['bed'].agg(np.mean).round(2).sort_values(ascending = False).index.tolist()\n",
        "c = real_estate_data_copy.groupby('state')['bath'].agg(np.mean).round(2).sort_values(ascending = False).index.tolist()\n",
        "# combine data\n",
        "data = a,b,c\n",
        "# transpose into columns \n",
        "df = pd.DataFrame(data).transpose()\n",
        "# rename columns \n",
        "df.rename(columns = {0:'price_sqft', 1:'bed', 2:'bath'}, inplace = True)\n",
        "\n",
        "df"
      ],
      "metadata": {
        "colab": {
          "base_uri": "https://localhost:8080/",
          "height": 363
        },
        "id": "_Rvrb1ga04PS",
        "outputId": "5bf3fb01-327b-49d2-a29d-fd911ef4d7f4"
      },
      "execution_count": 21,
      "outputs": [
        {
          "output_type": "execute_result",
          "data": {
            "text/plain": [
              "      price_sqft            bed           bath\n",
              "0          Maine  Massachusetts    Connecticut\n",
              "1       Delaware   Rhode Island  Massachusetts\n",
              "2        Vermont    Connecticut        Vermont\n",
              "3  New Hampshire     New Jersey     New Jersey\n",
              "4   Pennsylvania        Vermont  New Hampshire\n",
              "5    Connecticut          Maine       Delaware\n",
              "6     New Jersey       Delaware          Maine\n",
              "7   Rhode Island   Pennsylvania   Rhode Island\n",
              "8  Massachusetts  New Hampshire       New York\n",
              "9       New York       New York   Pennsylvania"
            ],
            "text/html": [
              "\n",
              "  <div id=\"df-444636ff-e411-4ff7-9c08-87e4c9d31150\">\n",
              "    <div class=\"colab-df-container\">\n",
              "      <div>\n",
              "<style scoped>\n",
              "    .dataframe tbody tr th:only-of-type {\n",
              "        vertical-align: middle;\n",
              "    }\n",
              "\n",
              "    .dataframe tbody tr th {\n",
              "        vertical-align: top;\n",
              "    }\n",
              "\n",
              "    .dataframe thead th {\n",
              "        text-align: right;\n",
              "    }\n",
              "</style>\n",
              "<table border=\"1\" class=\"dataframe\">\n",
              "  <thead>\n",
              "    <tr style=\"text-align: right;\">\n",
              "      <th></th>\n",
              "      <th>price_sqft</th>\n",
              "      <th>bed</th>\n",
              "      <th>bath</th>\n",
              "    </tr>\n",
              "  </thead>\n",
              "  <tbody>\n",
              "    <tr>\n",
              "      <th>0</th>\n",
              "      <td>Maine</td>\n",
              "      <td>Massachusetts</td>\n",
              "      <td>Connecticut</td>\n",
              "    </tr>\n",
              "    <tr>\n",
              "      <th>1</th>\n",
              "      <td>Delaware</td>\n",
              "      <td>Rhode Island</td>\n",
              "      <td>Massachusetts</td>\n",
              "    </tr>\n",
              "    <tr>\n",
              "      <th>2</th>\n",
              "      <td>Vermont</td>\n",
              "      <td>Connecticut</td>\n",
              "      <td>Vermont</td>\n",
              "    </tr>\n",
              "    <tr>\n",
              "      <th>3</th>\n",
              "      <td>New Hampshire</td>\n",
              "      <td>New Jersey</td>\n",
              "      <td>New Jersey</td>\n",
              "    </tr>\n",
              "    <tr>\n",
              "      <th>4</th>\n",
              "      <td>Pennsylvania</td>\n",
              "      <td>Vermont</td>\n",
              "      <td>New Hampshire</td>\n",
              "    </tr>\n",
              "    <tr>\n",
              "      <th>5</th>\n",
              "      <td>Connecticut</td>\n",
              "      <td>Maine</td>\n",
              "      <td>Delaware</td>\n",
              "    </tr>\n",
              "    <tr>\n",
              "      <th>6</th>\n",
              "      <td>New Jersey</td>\n",
              "      <td>Delaware</td>\n",
              "      <td>Maine</td>\n",
              "    </tr>\n",
              "    <tr>\n",
              "      <th>7</th>\n",
              "      <td>Rhode Island</td>\n",
              "      <td>Pennsylvania</td>\n",
              "      <td>Rhode Island</td>\n",
              "    </tr>\n",
              "    <tr>\n",
              "      <th>8</th>\n",
              "      <td>Massachusetts</td>\n",
              "      <td>New Hampshire</td>\n",
              "      <td>New York</td>\n",
              "    </tr>\n",
              "    <tr>\n",
              "      <th>9</th>\n",
              "      <td>New York</td>\n",
              "      <td>New York</td>\n",
              "      <td>Pennsylvania</td>\n",
              "    </tr>\n",
              "  </tbody>\n",
              "</table>\n",
              "</div>\n",
              "      <button class=\"colab-df-convert\" onclick=\"convertToInteractive('df-444636ff-e411-4ff7-9c08-87e4c9d31150')\"\n",
              "              title=\"Convert this dataframe to an interactive table.\"\n",
              "              style=\"display:none;\">\n",
              "        \n",
              "  <svg xmlns=\"http://www.w3.org/2000/svg\" height=\"24px\"viewBox=\"0 0 24 24\"\n",
              "       width=\"24px\">\n",
              "    <path d=\"M0 0h24v24H0V0z\" fill=\"none\"/>\n",
              "    <path d=\"M18.56 5.44l.94 2.06.94-2.06 2.06-.94-2.06-.94-.94-2.06-.94 2.06-2.06.94zm-11 1L8.5 8.5l.94-2.06 2.06-.94-2.06-.94L8.5 2.5l-.94 2.06-2.06.94zm10 10l.94 2.06.94-2.06 2.06-.94-2.06-.94-.94-2.06-.94 2.06-2.06.94z\"/><path d=\"M17.41 7.96l-1.37-1.37c-.4-.4-.92-.59-1.43-.59-.52 0-1.04.2-1.43.59L10.3 9.45l-7.72 7.72c-.78.78-.78 2.05 0 2.83L4 21.41c.39.39.9.59 1.41.59.51 0 1.02-.2 1.41-.59l7.78-7.78 2.81-2.81c.8-.78.8-2.07 0-2.86zM5.41 20L4 18.59l7.72-7.72 1.47 1.35L5.41 20z\"/>\n",
              "  </svg>\n",
              "      </button>\n",
              "      \n",
              "  <style>\n",
              "    .colab-df-container {\n",
              "      display:flex;\n",
              "      flex-wrap:wrap;\n",
              "      gap: 12px;\n",
              "    }\n",
              "\n",
              "    .colab-df-convert {\n",
              "      background-color: #E8F0FE;\n",
              "      border: none;\n",
              "      border-radius: 50%;\n",
              "      cursor: pointer;\n",
              "      display: none;\n",
              "      fill: #1967D2;\n",
              "      height: 32px;\n",
              "      padding: 0 0 0 0;\n",
              "      width: 32px;\n",
              "    }\n",
              "\n",
              "    .colab-df-convert:hover {\n",
              "      background-color: #E2EBFA;\n",
              "      box-shadow: 0px 1px 2px rgba(60, 64, 67, 0.3), 0px 1px 3px 1px rgba(60, 64, 67, 0.15);\n",
              "      fill: #174EA6;\n",
              "    }\n",
              "\n",
              "    [theme=dark] .colab-df-convert {\n",
              "      background-color: #3B4455;\n",
              "      fill: #D2E3FC;\n",
              "    }\n",
              "\n",
              "    [theme=dark] .colab-df-convert:hover {\n",
              "      background-color: #434B5C;\n",
              "      box-shadow: 0px 1px 3px 1px rgba(0, 0, 0, 0.15);\n",
              "      filter: drop-shadow(0px 1px 2px rgba(0, 0, 0, 0.3));\n",
              "      fill: #FFFFFF;\n",
              "    }\n",
              "  </style>\n",
              "\n",
              "      <script>\n",
              "        const buttonEl =\n",
              "          document.querySelector('#df-444636ff-e411-4ff7-9c08-87e4c9d31150 button.colab-df-convert');\n",
              "        buttonEl.style.display =\n",
              "          google.colab.kernel.accessAllowed ? 'block' : 'none';\n",
              "\n",
              "        async function convertToInteractive(key) {\n",
              "          const element = document.querySelector('#df-444636ff-e411-4ff7-9c08-87e4c9d31150');\n",
              "          const dataTable =\n",
              "            await google.colab.kernel.invokeFunction('convertToInteractive',\n",
              "                                                     [key], {});\n",
              "          if (!dataTable) return;\n",
              "\n",
              "          const docLinkHtml = 'Like what you see? Visit the ' +\n",
              "            '<a target=\"_blank\" href=https://colab.research.google.com/notebooks/data_table.ipynb>data table notebook</a>'\n",
              "            + ' to learn more about interactive tables.';\n",
              "          element.innerHTML = '';\n",
              "          dataTable['output_type'] = 'display_data';\n",
              "          await google.colab.output.renderOutput(dataTable, element);\n",
              "          const docLink = document.createElement('div');\n",
              "          docLink.innerHTML = docLinkHtml;\n",
              "          element.appendChild(docLink);\n",
              "        }\n",
              "      </script>\n",
              "    </div>\n",
              "  </div>\n",
              "  "
            ]
          },
          "metadata": {},
          "execution_count": 21
        }
      ]
    },
    {
      "cell_type": "markdown",
      "source": [
        "Observations: \n",
        "*   New York is the last in both the price per square foot and bedroom categories. New York is also second to last in bathrooms. \n",
        "*   No state falls in the top 5 of more than 2 categories. "
      ],
      "metadata": {
        "id": "aHQl1A2bFP7l"
      }
    },
    {
      "cell_type": "markdown",
      "source": [
        "# SECTION 3: Analyze cities in the Northeast"
      ],
      "metadata": {
        "id": "1JT8_73X3BQB"
      }
    },
    {
      "cell_type": "markdown",
      "source": [
        "Let's check to see how many cities are in each state."
      ],
      "metadata": {
        "id": "1lmMpKkgGK7Q"
      }
    },
    {
      "cell_type": "code",
      "source": [
        "# number of cities in each state\n",
        "real_estate_data_copy.groupby('state')['city'].nunique().sort_values()"
      ],
      "metadata": {
        "id": "tOsN2A8q3kYv",
        "colab": {
          "base_uri": "https://localhost:8080/"
        },
        "outputId": "cbc21fbc-494d-439f-e419-19c6ffcbf727"
      },
      "execution_count": 22,
      "outputs": [
        {
          "output_type": "execute_result",
          "data": {
            "text/plain": [
              "state\n",
              "Delaware          18\n",
              "Rhode Island      39\n",
              "Pennsylvania     147\n",
              "Connecticut      176\n",
              "New Hampshire    232\n",
              "Vermont          241\n",
              "Massachusetts    412\n",
              "New York         475\n",
              "Maine            523\n",
              "New Jersey       759\n",
              "Name: city, dtype: int64"
            ]
          },
          "metadata": {},
          "execution_count": 22
        }
      ]
    },
    {
      "cell_type": "markdown",
      "source": [
        "Below is function where you can input a state and get the best cities based on different features."
      ],
      "metadata": {
        "id": "daxyaUGb4vdt"
      }
    },
    {
      "cell_type": "code",
      "source": [
        "# comparing city price per sqft in the top five price per sqft states \n",
        "def city_barchart(state,feature):\n",
        "  '''\n",
        "  This function takes a state and a house feature then returns \n",
        "  a horizontal bar chart of the top ten cities by the average of given feature.\n",
        "  The function is only considering all data in the \n",
        "  real_estate_data_copy dataframe.\n",
        "\n",
        "  ARGUMENTS\n",
        "  ---------\n",
        "   - state: (string) must be state abbreviation\n",
        "   - feature: (string) must be a house feature within dataset\n",
        "  OUTPUT\n",
        "  ---------\n",
        "   - horizontal barchart of feature with top ten cities\n",
        "  '''\n",
        "  # create new df with only data from specific state\n",
        "  state_data = real_estate_data_copy[real_estate_data_copy['state_abbrev'] == state]\n",
        "  # check if feature is price per sqft\n",
        "  if feature == 'price_sqft':\n",
        "    plt.xlabel(feature)\n",
        "    # make ascending True because we want lowest values \n",
        "    return state_data.groupby('city')[feature].agg(np.mean).round(2).sort_values(ascending = True)[:10].plot(kind='barh');\n",
        "  else:\n",
        "    plt.xlabel(feature)\n",
        "    # make ascending False because we want highest values \n",
        "    return state_data.groupby('city')[feature].agg(np.mean).round(2).sort_values(ascending = False)[:10].plot(kind='barh');"
      ],
      "metadata": {
        "id": "HSy-7tVC4497"
      },
      "execution_count": 23,
      "outputs": []
    },
    {
      "cell_type": "code",
      "source": [
        "# top 10 NY cities by average price per square foot\n",
        "city_barchart('NY','price_sqft');"
      ],
      "metadata": {
        "colab": {
          "base_uri": "https://localhost:8080/",
          "height": 280
        },
        "id": "cR14HGbdERMm",
        "outputId": "aa9ede0c-eed1-49a7-ee29-3cc7d9467b40"
      },
      "execution_count": 24,
      "outputs": [
        {
          "output_type": "display_data",
          "data": {
            "text/plain": [
              "<Figure size 432x288 with 1 Axes>"
            ],
            "image/png": "[encoded data removed]"
          },
          "metadata": {
            "needs_background": "light"
          }
        }
      ]
    },
    {
      "cell_type": "code",
      "source": [
        "# top 10 NY cities by average number of bedrooms \n",
        "city_barchart('NY','bed');"
      ],
      "metadata": {
        "colab": {
          "base_uri": "https://localhost:8080/",
          "height": 279
        },
        "id": "PobUC94HEWGG",
        "outputId": "b89f2620-6b07-4382-edbf-83befa589a52"
      },
      "execution_count": 25,
      "outputs": [
        {
          "output_type": "display_data",
          "data": {
            "text/plain": [
              "<Figure size 432x288 with 1 Axes>"
            ],
            "image/png": "[encoded data removed]"
          },
          "metadata": {
            "needs_background": "light"
          }
        }
      ]
    },
    {
      "cell_type": "code",
      "source": [
        "# top 10 NY cities by average number of bathrooms \n",
        "city_barchart('NY','bed');"
      ],
      "metadata": {
        "colab": {
          "base_uri": "https://localhost:8080/",
          "height": 279
        },
        "id": "WebebQkyEbhu",
        "outputId": "d0d7b94e-d1e9-4e25-c99c-ca01c694e586"
      },
      "execution_count": 26,
      "outputs": [
        {
          "output_type": "display_data",
          "data": {
            "text/plain": [
              "<Figure size 432x288 with 1 Axes>"
            ],
            "image/png": "[encoded data removed]"
          },
          "metadata": {
            "needs_background": "light"
          }
        }
      ]
    },
    {
      "cell_type": "markdown",
      "source": [
        "Although the bar charts are a good visual of the top ten cities, let's use the funtion below to see which cities rank in the top 100 in all three categories."
      ],
      "metadata": {
        "id": "K2zSdj4PHcre"
      }
    },
    {
      "cell_type": "code",
      "source": [
        "# best price per sqft, bed and bath given state\n",
        "def city_finder(state, rank):\n",
        "   '''\n",
        "  This function takes a state and rank then returns which cities are \n",
        "  in the top (rank) of lowest average price per square foot, \n",
        "  highest average number of bedrooms and highest average number of bathrooms\n",
        "\n",
        "  ARGUMENTS\n",
        "  ---------\n",
        "   - state: (string) must be state abbreviation \n",
        "   - rank: (int) the higher the rank the more likely you will find \n",
        "   common elements, however be aware of number of cities in given state\n",
        "  OUTPUT\n",
        "  ---------\n",
        "   - common_elements: (list) list of cities that fell into top (rank) \n",
        "   of all three features\n",
        "  '''\n",
        "  # create new df with only data from specific state\n",
        "  state_data = real_estate_data_copy[real_estate_data_copy['state_abbrev'] == state]\n",
        "  # find top 10 cities by average of different feature using groupby, convert to list \n",
        "  a = state_data.groupby('city')['price_sqft'].agg(np.mean).round(2).sort_values(ascending = True)[:rank].index.tolist() # ascending True to get lowest values\n",
        "  b = state_data.groupby('city')['bed'].agg(np.mean).round(2).sort_values(ascending = False)[:rank].index.tolist()       # ascending False to get highest values\n",
        "  c = state_data.groupby('city')['bath'].agg(np.mean).round(2).sort_values(ascending = False)[:rank].index.tolist()      # ascending False to get highest values\n",
        "  # Find common elements in all three lists\n",
        "  common_elements = list(set.intersection(*map(set, [ a, b, c])))\n",
        "  # check if anything was found \n",
        "  if len(common_elements) == 0:\n",
        "    return 'Nothing found'\n",
        "  else:\n",
        "    return common_elements\n",
        "\n",
        "city_finder('NY', 100)"
      ],
      "metadata": {
        "colab": {
          "base_uri": "https://localhost:8080/"
        },
        "id": "AkWgrPRsHXEm",
        "outputId": "a1ebc29b-8a87-4b88-ce4d-23cda8341651"
      },
      "execution_count": 27,
      "outputs": [
        {
          "output_type": "execute_result",
          "data": {
            "text/plain": [
              "['Whitehall Village', 'White Lake']"
            ]
          },
          "metadata": {},
          "execution_count": 27
        }
      ]
    },
    {
      "cell_type": "markdown",
      "source": [
        "The cities of White Lake and Whitehall Village are the cities in New York where the average house as a lower price per square foot but with an above average number of bedrooms and bathrooms. "
      ],
      "metadata": {
        "id": "SsiJtfX-Icgh"
      }
    },
    {
      "cell_type": "markdown",
      "source": [
        "# SECTION 4: Find our client the best place for them to find a home"
      ],
      "metadata": {
        "id": "b7HsDqS2Lw3M"
      }
    },
    {
      "cell_type": "markdown",
      "source": [
        "Client Information:\n",
        "*   Two adults and two kids \n",
        "*   They want atleast three bathrooms and three bedrooms\n",
        "*   They have a budget of $1,000,000"
      ],
      "metadata": {
        "id": "3eVt2012L9Wm"
      }
    },
    {
      "cell_type": "markdown",
      "source": [
        "Let's sort our data to stay within the client's budget of $1,000,000."
      ],
      "metadata": {
        "id": "NwYVwu6zMy25"
      }
    },
    {
      "cell_type": "code",
      "source": [
        "# creat sub df with only listings that are within client's budget\n",
        "client_df = real_estate_data_copy[real_estate_data_copy['price'] <= 1000000]"
      ],
      "metadata": {
        "id": "qMdT1XzN4jLB"
      },
      "execution_count": 28,
      "outputs": []
    },
    {
      "cell_type": "markdown",
      "source": [
        "Let's see where the states rank within our clients budget."
      ],
      "metadata": {
        "id": "fWpXusv942xJ"
      }
    },
    {
      "cell_type": "code",
      "source": [
        "# loook at best states by average price per square foot, within client's budget\n",
        "client_df.groupby('state')['price_sqft'].agg(np.mean).round(2).sort_values().plot(kind='barh');\n",
        "plt.xlabel('price_sqft');"
      ],
      "metadata": {
        "colab": {
          "base_uri": "https://localhost:8080/",
          "height": 280
        },
        "id": "C_Xw_WSH42HW",
        "outputId": "3034aaf7-0a78-436c-d22a-6ff009053029"
      },
      "execution_count": 29,
      "outputs": [
        {
          "output_type": "display_data",
          "data": {
            "text/plain": [
              "<Figure size 432x288 with 1 Axes>"
            ],
            "image/png": "[encoded data removed]"
          },
          "metadata": {
            "needs_background": "light"
          }
        }
      ]
    },
    {
      "cell_type": "markdown",
      "source": [
        "The states by price per square foot is similar with or without the clients budget. "
      ],
      "metadata": {
        "id": "887JsWS65B-Q"
      }
    },
    {
      "cell_type": "markdown",
      "source": [
        "Let's choose Maine as our client's state. Now we will look for the cities with the highest average number of bedrooms and bathrooms."
      ],
      "metadata": {
        "id": "gNk6fLUE5VYL"
      }
    },
    {
      "cell_type": "code",
      "source": [
        "# use city_barchart function from section 3 but update to use budget df\n",
        "# comparing city price per sqft in the top five price per sqft states \n",
        "def city_barchart_client(state,feature):\n",
        "  '''\n",
        "  This function takes a state and a house feature then returns \n",
        "  a horizontal bar chart of the top ten cities by the average of given feature.\n",
        "  The function is only considering data with the budget \n",
        "  of the client in client_df.\n",
        "\n",
        "  ARGUMENTS\n",
        "  ---------\n",
        "   - state: (string) must be state abbreviation\n",
        "   - feature: (string) must be a house feature within dataset\n",
        "  OUTPUT\n",
        "  ---------\n",
        "   - horizontal barchart of feature with top ten cities\n",
        "  '''\n",
        "  # create new df with only data from specific state\n",
        "  state_data = client_df[client_df['state_abbrev'] == state]\n",
        "  # check if feature is price per sqft\n",
        "  if feature == 'price_sqft':\n",
        "    plt.xlabel(feature)\n",
        "    # make ascending True because we want lowest values \n",
        "    return state_data.groupby('city')[feature].agg(np.mean).round(2).sort_values(ascending = True)[:10].plot(kind='barh');\n",
        "  else:\n",
        "    plt.xlabel(feature)\n",
        "    # make ascending False because we want highest values\n",
        "    return state_data.groupby('city')[feature].agg(np.mean).round(2).sort_values(ascending = False)[:10].plot(kind='barh');\n",
        "\n",
        "city_barchart_client('ME','price_sqft');"
      ],
      "metadata": {
        "colab": {
          "base_uri": "https://localhost:8080/",
          "height": 280
        },
        "id": "OiaXBKWI5jo3",
        "outputId": "26a72af1-1e65-4ca1-aefb-8e13352c250d"
      },
      "execution_count": 30,
      "outputs": [
        {
          "output_type": "display_data",
          "data": {
            "text/plain": [
              "<Figure size 432x288 with 1 Axes>"
            ],
            "image/png": "[encoded data removed]"
          },
          "metadata": {
            "needs_background": "light"
          }
        }
      ]
    },
    {
      "cell_type": "code",
      "source": [
        "city_barchart_client('ME','bed');"
      ],
      "metadata": {
        "colab": {
          "base_uri": "https://localhost:8080/",
          "height": 279
        },
        "id": "y8ZboeFi59sL",
        "outputId": "fc226caf-b792-4580-8602-bb3c6a721c34"
      },
      "execution_count": 31,
      "outputs": [
        {
          "output_type": "display_data",
          "data": {
            "text/plain": [
              "<Figure size 432x288 with 1 Axes>"
            ],
            "image/png": "[encoded data removed]"
          },
          "metadata": {
            "needs_background": "light"
          }
        }
      ]
    },
    {
      "cell_type": "code",
      "source": [
        "city_barchart_client('ME','bath');"
      ],
      "metadata": {
        "colab": {
          "base_uri": "https://localhost:8080/",
          "height": 279
        },
        "id": "HUpsOBig6wkb",
        "outputId": "dbbda4d6-7909-4c55-b985-583161502e18"
      },
      "execution_count": 32,
      "outputs": [
        {
          "output_type": "display_data",
          "data": {
            "text/plain": [
              "<Figure size 432x288 with 1 Axes>"
            ],
            "image/png": "[encoded data removed]"
          },
          "metadata": {
            "needs_background": "light"
          }
        }
      ]
    },
    {
      "cell_type": "markdown",
      "source": [
        "Let's use our city_finder function to find a city that falls in the top ten of price per square foot, number of bedrooms and number of bathrooms.\n",
        "\n",
        "Let's first check how many cities there are in Maine."
      ],
      "metadata": {
        "id": "CwKwL3WG9rRt"
      }
    },
    {
      "cell_type": "code",
      "source": [
        "client_df.groupby('state')['city'].nunique().sort_values()"
      ],
      "metadata": {
        "colab": {
          "base_uri": "https://localhost:8080/"
        },
        "id": "O_StLnD1-IZr",
        "outputId": "ee783ef8-69f1-4292-a0a5-a3cc02f9033a"
      },
      "execution_count": 33,
      "outputs": [
        {
          "output_type": "execute_result",
          "data": {
            "text/plain": [
              "state\n",
              "Delaware          17\n",
              "Rhode Island      39\n",
              "Pennsylvania     146\n",
              "Connecticut      175\n",
              "New Hampshire    229\n",
              "Vermont          240\n",
              "Massachusetts    404\n",
              "New York         444\n",
              "Maine            516\n",
              "New Jersey       752\n",
              "Name: city, dtype: int64"
            ]
          },
          "metadata": {},
          "execution_count": 33
        }
      ]
    },
    {
      "cell_type": "markdown",
      "source": [
        "There are 516 cities. So let's see which cities are in the top 100."
      ],
      "metadata": {
        "id": "2DLd5jS3-6Tv"
      }
    },
    {
      "cell_type": "code",
      "source": [
        "# best price per sqft, bed and bath given state but use client_df with client's budget\n",
        "def city_finder_client(state,rank):\n",
        "  '''\n",
        "  This function takes a city and rank then returns which cities are \n",
        "  in the top (rank) of lowest average price per square foot, \n",
        "  highest average number of bedrooms and highest average number of bathrooms\n",
        "\n",
        "  ARGUMENTS\n",
        "  ---------\n",
        "   - state: (string) must be state abbreviation \n",
        "   - rank: (int) the higher the rank the more likely you will find \n",
        "   common elements, however be aware of number of cities in given state\n",
        "  OUTPUT\n",
        "  ---------\n",
        "   - common_elements: (list) list of cities that fell into top (rank) \n",
        "   of all three features\n",
        "\n",
        "  '''\n",
        "  # create new df with only data from specific state\n",
        "  state_data = client_df[client_df['state_abbrev'] == state]\n",
        "  # find top 10 cities by average of different feature using groupby, convert to list \n",
        "  a = state_data.groupby('city')['price_sqft'].agg(np.mean).round(2).sort_values(ascending = True)[:rank].index.tolist()\n",
        "  b = state_data.groupby('city')['bed'].agg(np.mean).round(2).sort_values(ascending = False)[:rank].index.tolist()\n",
        "  c = state_data.groupby('city')['bath'].agg(np.mean).round(2).sort_values(ascending = False)[:rank].index.tolist()\n",
        "  # Find common elements in all three lists\n",
        "  common_elements = list(set.intersection(*map(set, [ a, b, c])))\n",
        "  # check if anything was found \n",
        "  if len(common_elements) == 0:\n",
        "    return 'Nothing found'\n",
        "  else:\n",
        "    return common_elements\n",
        "\n",
        "city_finder_client('ME',100)"
      ],
      "metadata": {
        "colab": {
          "base_uri": "https://localhost:8080/"
        },
        "id": "Nc6wN-Pp91AL",
        "outputId": "8d460d52-06cc-4f59-c3ef-bb3fc5a4a896"
      },
      "execution_count": 34,
      "outputs": [
        {
          "output_type": "execute_result",
          "data": {
            "text/plain": [
              "['T8 R7 Wels', 'Brooksville', 'East Machias', 'Strong']"
            ]
          },
          "metadata": {},
          "execution_count": 34
        }
      ]
    },
    {
      "cell_type": "markdown",
      "source": [
        "Let's plot these four cities by price per square foot and bedrooms then by bathrooms."
      ],
      "metadata": {
        "id": "IyjZ0I59_PKo"
      }
    },
    {
      "cell_type": "code",
      "source": [
        "def plot_it_bed(state,city):\n",
        "  '''\n",
        "  This function takes a state and city and returns the \n",
        "  average price per square foot and average number of bedrooms of city\n",
        "  \n",
        "  ARGUMENTS\n",
        "  -----------\n",
        "   - state: (string) must be state abbreviation\n",
        "   - city: (string)\n",
        "  OUPTUT\n",
        "  -----------\n",
        "   - city average price per square foot, city average number of bedrooms\n",
        "  '''\n",
        "  # create new df with only data from specific state\n",
        "  state_data = client_df[client_df['state_abbrev'] == state]\n",
        "  # create new df with only data from specific city\n",
        "  city_data = state_data[state_data['city'] == city]\n",
        "  # return the average price per suqare foot and average bedrooms of specific city\n",
        "  return city_data['price_sqft'].mean(), city_data['bed'].mean()\n",
        "\n",
        "def plot_embeddings(data_points, data_to_names, city_names):\n",
        "    '''\n",
        "    This function take city names and values returned from plot_it funcition \n",
        "    creates a scatter plot of given cordinates \n",
        "    and adds names over plot points\n",
        "\n",
        "    ARGUMENTS\n",
        "    -----------\n",
        "    - data_points: (array) list of cordinates\n",
        "    - data_to_names: (dictionary) key: city value: place in data_points array\n",
        "    - city_names: (list) list of city names in same order as array and dictionary\n",
        "    OUPTUT\n",
        "    -----------\n",
        "    - scatter plot of cordinates given with city names of data points \n",
        "    '''\n",
        "    # loop through cities in list of cities\n",
        "    for name in city_names:\n",
        "        # assign x, y cordinates \n",
        "        x, y = data_points[data_to_names[name]]\n",
        "        # make scatter plot\n",
        "        plt.scatter(x, y, marker='x', color='red')\n",
        "        # add city name as text\n",
        "        plt.text(x+.02, y+.04, name, fontsize=12)\n",
        "        # add chart labels \n",
        "        plt.title(\"Comparing Cities\")\n",
        "        plt.xlabel(\"Price per Square Foot\")\n",
        "        plt.ylabel(\"Average Bedrooms\")\n",
        "    plt.show()\n",
        "\n",
        "data_points = np.array([plot_it_bed('ME','East Machias'), plot_it_bed('ME','T8 R7 Wels'), plot_it_bed('ME','Strong'), plot_it_bed('ME','Brooksville')])\n",
        "data_to_names = {'East Machias': 0, 'T8 T7 Wels': 1, 'Strong': 2, 'Brooksville': 3}\n",
        "city_names = ['East Machias', 'T8 T7 Wels', 'Strong', 'Brooksville']\n",
        "plot_embeddings(data_points, data_to_names, city_names)"
      ],
      "metadata": {
        "colab": {
          "base_uri": "https://localhost:8080/",
          "height": 295
        },
        "id": "p_zkhYxDFma5",
        "outputId": "10c1b400-5e0a-4537-b8fa-7f1eae017825"
      },
      "execution_count": 35,
      "outputs": [
        {
          "output_type": "display_data",
          "data": {
            "text/plain": [
              "<Figure size 432x288 with 1 Axes>"
            ],
            "image/png": "[encoded data removed]"
          },
          "metadata": {
            "needs_background": "light"
          }
        }
      ]
    },
    {
      "cell_type": "code",
      "source": [
        "def plot_it_bath(state,city):\n",
        "  '''\n",
        "  This function takes a state and city and returns the \n",
        "  average price per square foot and average number of bathrooms of city\n",
        "\n",
        "  ARGUMENTS\n",
        "  -----------\n",
        "   - state: (string) must be state abbreviation\n",
        "   - city: (string)\n",
        "  OUPTUT\n",
        "  -----------\n",
        "   - city average price per square foot, city average number of bathrooms\n",
        "  '''\n",
        "  # create new df with only data from specific state\n",
        "  state_data = client_df[client_df['state_abbrev'] == state]\n",
        "  # create new df with only data from specific city\n",
        "  city_data = state_data[state_data['city'] == city]\n",
        "  # return the average price per suqare foot and average bathrooms of specific city\n",
        "  return city_data['price_sqft'].mean(), city_data['bath'].mean()\n",
        "\n",
        "def plot_embeddings(data_points, data_to_names, city_names):\n",
        "    '''\n",
        "    This function take city names and values returned from plot_it funcition \n",
        "    creates a scatter plot of given cordinates \n",
        "    and adds names over plot points\n",
        "\n",
        "    ARGUMENTS\n",
        "    -----------\n",
        "    - data_points: (array) list of cordinates\n",
        "    - data_to_names: (dictionary) key: city value: place in data_points array\n",
        "    - city_names: (list) list of city names in same order as array and dictionary\n",
        "    OUPTUT\n",
        "    -----------\n",
        "    - scatter plot of cordinates given with city names of data points \n",
        "    '''\n",
        "    # loop through cities in list of cities \n",
        "    for name in city_names:\n",
        "        # assign x, y cordinates \n",
        "        x, y = data_points[data_to_names[name]]\n",
        "        # make scatter plot\n",
        "        plt.scatter(x, y, marker='x', color='red')\n",
        "        # add city name as text\n",
        "        plt.text(x+.02, y+.04, name, fontsize=12)\n",
        "        # add chart labels \n",
        "        plt.title(\"Comparing Cities\")\n",
        "        plt.xlabel(\"Price per Square Foot\")\n",
        "        plt.ylabel(\"Average Bathrooms\")\n",
        "    plt.show()\n",
        "\n",
        "data_points = np.array([plot_it_bath('ME','East Machias'), plot_it_bath('ME','T8 R7 Wels'), plot_it_bath('ME','Strong'), plot_it_bath('ME','Brooksville')])\n",
        "data_to_names = {'East Machias': 0, 'T8 T7 Wels': 1, 'Strong': 2, 'Brooksville': 3}\n",
        "city_names = ['East Machias', 'T8 T7 Wels', 'Strong', 'Brooksville']\n",
        "plot_embeddings(data_points, data_to_names, city_names)"
      ],
      "metadata": {
        "colab": {
          "base_uri": "https://localhost:8080/",
          "height": 295
        },
        "id": "p4-j1iVaJztm",
        "outputId": "ac4f2ac4-e78b-445a-f3a6-7274e2f8cf35"
      },
      "execution_count": 36,
      "outputs": [
        {
          "output_type": "display_data",
          "data": {
            "text/plain": [
              "<Figure size 432x288 with 1 Axes>"
            ],
            "image/png": "[encoded data removed]"
          },
          "metadata": {
            "needs_background": "light"
          }
        }
      ]
    },
    {
      "cell_type": "markdown",
      "source": [
        "Conclusion:\n",
        "\n",
        "We believe our client, the family of four, should look for a home in East Machias. East Machias has an average of around 3 bedrooms and 2.5 bathrooms. This along with $35 per square foot makes the average home in East Machias within their budget and meets the criteria they wanted for their new home. "
      ],
      "metadata": {
        "id": "hFte4h8dKlhX"
      }
    },
    {
      "cell_type": "markdown",
      "source": [
        "# SECTION 5: Lessons Learned & Next Steps "
      ],
      "metadata": {
        "id": "aLeuh_4C1vkf"
      }
    },
    {
      "cell_type": "markdown",
      "source": [
        "Lessons Learned:\n",
        "*  Cleaning the data was definitely the most time consuming part of our project, from this we learned \n",
        "    *   Making sure that you have sufficient data across all sections of a cross-sectional data analysis\n",
        "    *   Checking for outliers early on to avoid skewed results \n",
        "\n",
        "Next Steps:\n",
        "*  Finding more data to expand analysis beyond just the Northeastern United States \n",
        "*  Doing a time series data analysis on the housing sales in US\n",
        "\n"
      ],
      "metadata": {
        "id": "Wp9x29BnzKWT"
      }
    }
  ]
}
