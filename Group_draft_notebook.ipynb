{
  "nbformat": 4,
  "nbformat_minor": 0,
  "metadata": {
    "colab": {
      "provenance": [],
      "collapsed_sections": [
        "ary1JHksIEob",
        "dzRMMpSAJqVr",
        "PjsjT4jEInNF",
        "h-5fDgY6KApa",
        "Fwoz525FKIFY",
        "aVAMAh9xKai-",
        "CkLaGPZpcwsb",
        "xMiY7-BJvnbi",
        "0EGAlotmMQ_n",
        "Zd5XMcZQXleB",
        "GuNRgneX4Lmf",
        "2sNT8Edbb83u",
        "hdkIW9SP8m7r",
        "lzdTDQOEg6TS",
        "zZoM3sBRnn6I",
        "GYsBcCrlyYKv",
        "eDOz77CMYkrf",
        "bKvlZnd9oZfa",
        "Xw0sS_R5Z1vt"
      ]
    },
    "kernelspec": {
      "name": "python3",
      "display_name": "Python 3"
    },
    "language_info": {
      "name": "python"
    }
  },
  "cells": [
    {
      "cell_type": "markdown",
      "source": [
        "Group: Brian, Frank and Olivia\n",
        "\n",
        "Topic: Real Estate Data"
      ],
      "metadata": {
        "id": "-yDt6hr1BgMY"
      }
    },
    {
      "cell_type": "markdown",
      "source": [
        "### Import realtor-data.csv from Google Drive"
      ],
      "metadata": {
        "id": "ary1JHksIEob"
      }
    },
    {
      "cell_type": "code",
      "source": [
        "# mount google drive to colab\n",
        "from google.colab import drive\n",
        "drive.mount(\"/content/drive\")"
      ],
      "metadata": {
        "colab": {
          "base_uri": "https://localhost:8080/"
        },
        "id": "QoBbh1KNGJLA",
        "outputId": "6c408a8e-913b-42d6-a8d0-a9b33aec40a3"
      },
      "execution_count": null,
      "outputs": [
        {
          "output_type": "stream",
          "name": "stdout",
          "text": [
            "Mounted at /content/drive\n"
          ]
        }
      ]
    },
    {
      "cell_type": "code",
      "execution_count": null,
      "metadata": {
        "colab": {
          "base_uri": "https://localhost:8080/"
        },
        "id": "0wepS4YZAvAm",
        "outputId": "fbb3ac3b-3449-4209-bb5a-dd2effc18ad8"
      },
      "outputs": [
        {
          "output_type": "execute_result",
          "data": {
            "text/plain": [
              "     status     price  bed  bath  acre_lot  \\\n",
              "0  for_sale  105000.0  3.0   2.0      0.12   \n",
              "1  for_sale   80000.0  4.0   2.0      0.08   \n",
              "2  for_sale   67000.0  2.0   1.0      0.15   \n",
              "3  for_sale  145000.0  4.0   2.0      0.10   \n",
              "4  for_sale   65000.0  6.0   2.0      0.05   \n",
              "\n",
              "                                        full_address  \\\n",
              "0  Sector Yahuecas Titulo # V84, Adjuntas, PR, 00601   \n",
              "1            Km 78 9 Carr # 135, Adjuntas, PR, 00601   \n",
              "2            556G 556-G 16 St, Juana Diaz, PR, 00795   \n",
              "3  R5 Comunidad El Paraso Calle De Oro R-5 Ponce,...   \n",
              "4                    14 Navarro, Mayaguez, PR, 00680   \n",
              "\n",
              "                                          street        city        state  \\\n",
              "0                   Sector Yahuecas Titulo # V84    Adjuntas  Puerto Rico   \n",
              "1                             Km 78 9 Carr # 135    Adjuntas  Puerto Rico   \n",
              "2                               556G 556-G 16 St  Juana Diaz  Puerto Rico   \n",
              "3  R5 Comunidad El Paraso Calle De Oro R-5 Ponce       Ponce  Puerto Rico   \n",
              "4                                     14 Navarro    Mayaguez  Puerto Rico   \n",
              "\n",
              "   zip_code  house_size sold_date  \n",
              "0     601.0       920.0       NaN  \n",
              "1     601.0      1527.0       NaN  \n",
              "2     795.0       748.0       NaN  \n",
              "3     731.0      1800.0       NaN  \n",
              "4     680.0         NaN       NaN  "
            ],
            "text/html": [
              "\n",
              "  <div id=\"df-c630541e-19ac-44f2-a3ea-def8ff956da6\">\n",
              "    <div class=\"colab-df-container\">\n",
              "      <div>\n",
              "<style scoped>\n",
              "    .dataframe tbody tr th:only-of-type {\n",
              "        vertical-align: middle;\n",
              "    }\n",
              "\n",
              "    .dataframe tbody tr th {\n",
              "        vertical-align: top;\n",
              "    }\n",
              "\n",
              "    .dataframe thead th {\n",
              "        text-align: right;\n",
              "    }\n",
              "</style>\n",
              "<table border=\"1\" class=\"dataframe\">\n",
              "  <thead>\n",
              "    <tr style=\"text-align: right;\">\n",
              "      <th></th>\n",
              "      <th>status</th>\n",
              "      <th>price</th>\n",
              "      <th>bed</th>\n",
              "      <th>bath</th>\n",
              "      <th>acre_lot</th>\n",
              "      <th>full_address</th>\n",
              "      <th>street</th>\n",
              "      <th>city</th>\n",
              "      <th>state</th>\n",
              "      <th>zip_code</th>\n",
              "      <th>house_size</th>\n",
              "      <th>sold_date</th>\n",
              "    </tr>\n",
              "  </thead>\n",
              "  <tbody>\n",
              "    <tr>\n",
              "      <th>0</th>\n",
              "      <td>for_sale</td>\n",
              "      <td>105000.0</td>\n",
              "      <td>3.0</td>\n",
              "      <td>2.0</td>\n",
              "      <td>0.12</td>\n",
              "      <td>Sector Yahuecas Titulo # V84, Adjuntas, PR, 00601</td>\n",
              "      <td>Sector Yahuecas Titulo # V84</td>\n",
              "      <td>Adjuntas</td>\n",
              "      <td>Puerto Rico</td>\n",
              "      <td>601.0</td>\n",
              "      <td>920.0</td>\n",
              "      <td>NaN</td>\n",
              "    </tr>\n",
              "    <tr>\n",
              "      <th>1</th>\n",
              "      <td>for_sale</td>\n",
              "      <td>80000.0</td>\n",
              "      <td>4.0</td>\n",
              "      <td>2.0</td>\n",
              "      <td>0.08</td>\n",
              "      <td>Km 78 9 Carr # 135, Adjuntas, PR, 00601</td>\n",
              "      <td>Km 78 9 Carr # 135</td>\n",
              "      <td>Adjuntas</td>\n",
              "      <td>Puerto Rico</td>\n",
              "      <td>601.0</td>\n",
              "      <td>1527.0</td>\n",
              "      <td>NaN</td>\n",
              "    </tr>\n",
              "    <tr>\n",
              "      <th>2</th>\n",
              "      <td>for_sale</td>\n",
              "      <td>67000.0</td>\n",
              "      <td>2.0</td>\n",
              "      <td>1.0</td>\n",
              "      <td>0.15</td>\n",
              "      <td>556G 556-G 16 St, Juana Diaz, PR, 00795</td>\n",
              "      <td>556G 556-G 16 St</td>\n",
              "      <td>Juana Diaz</td>\n",
              "      <td>Puerto Rico</td>\n",
              "      <td>795.0</td>\n",
              "      <td>748.0</td>\n",
              "      <td>NaN</td>\n",
              "    </tr>\n",
              "    <tr>\n",
              "      <th>3</th>\n",
              "      <td>for_sale</td>\n",
              "      <td>145000.0</td>\n",
              "      <td>4.0</td>\n",
              "      <td>2.0</td>\n",
              "      <td>0.10</td>\n",
              "      <td>R5 Comunidad El Paraso Calle De Oro R-5 Ponce,...</td>\n",
              "      <td>R5 Comunidad El Paraso Calle De Oro R-5 Ponce</td>\n",
              "      <td>Ponce</td>\n",
              "      <td>Puerto Rico</td>\n",
              "      <td>731.0</td>\n",
              "      <td>1800.0</td>\n",
              "      <td>NaN</td>\n",
              "    </tr>\n",
              "    <tr>\n",
              "      <th>4</th>\n",
              "      <td>for_sale</td>\n",
              "      <td>65000.0</td>\n",
              "      <td>6.0</td>\n",
              "      <td>2.0</td>\n",
              "      <td>0.05</td>\n",
              "      <td>14 Navarro, Mayaguez, PR, 00680</td>\n",
              "      <td>14 Navarro</td>\n",
              "      <td>Mayaguez</td>\n",
              "      <td>Puerto Rico</td>\n",
              "      <td>680.0</td>\n",
              "      <td>NaN</td>\n",
              "      <td>NaN</td>\n",
              "    </tr>\n",
              "  </tbody>\n",
              "</table>\n",
              "</div>\n",
              "      <button class=\"colab-df-convert\" onclick=\"convertToInteractive('df-c630541e-19ac-44f2-a3ea-def8ff956da6')\"\n",
              "              title=\"Convert this dataframe to an interactive table.\"\n",
              "              style=\"display:none;\">\n",
              "        \n",
              "  <svg xmlns=\"http://www.w3.org/2000/svg\" height=\"24px\"viewBox=\"0 0 24 24\"\n",
              "       width=\"24px\">\n",
              "    <path d=\"M0 0h24v24H0V0z\" fill=\"none\"/>\n",
              "    <path d=\"M18.56 5.44l.94 2.06.94-2.06 2.06-.94-2.06-.94-.94-2.06-.94 2.06-2.06.94zm-11 1L8.5 8.5l.94-2.06 2.06-.94-2.06-.94L8.5 2.5l-.94 2.06-2.06.94zm10 10l.94 2.06.94-2.06 2.06-.94-2.06-.94-.94-2.06-.94 2.06-2.06.94z\"/><path d=\"M17.41 7.96l-1.37-1.37c-.4-.4-.92-.59-1.43-.59-.52 0-1.04.2-1.43.59L10.3 9.45l-7.72 7.72c-.78.78-.78 2.05 0 2.83L4 21.41c.39.39.9.59 1.41.59.51 0 1.02-.2 1.41-.59l7.78-7.78 2.81-2.81c.8-.78.8-2.07 0-2.86zM5.41 20L4 18.59l7.72-7.72 1.47 1.35L5.41 20z\"/>\n",
              "  </svg>\n",
              "      </button>\n",
              "      \n",
              "  <style>\n",
              "    .colab-df-container {\n",
              "      display:flex;\n",
              "      flex-wrap:wrap;\n",
              "      gap: 12px;\n",
              "    }\n",
              "\n",
              "    .colab-df-convert {\n",
              "      background-color: #E8F0FE;\n",
              "      border: none;\n",
              "      border-radius: 50%;\n",
              "      cursor: pointer;\n",
              "      display: none;\n",
              "      fill: #1967D2;\n",
              "      height: 32px;\n",
              "      padding: 0 0 0 0;\n",
              "      width: 32px;\n",
              "    }\n",
              "\n",
              "    .colab-df-convert:hover {\n",
              "      background-color: #E2EBFA;\n",
              "      box-shadow: 0px 1px 2px rgba(60, 64, 67, 0.3), 0px 1px 3px 1px rgba(60, 64, 67, 0.15);\n",
              "      fill: #174EA6;\n",
              "    }\n",
              "\n",
              "    [theme=dark] .colab-df-convert {\n",
              "      background-color: #3B4455;\n",
              "      fill: #D2E3FC;\n",
              "    }\n",
              "\n",
              "    [theme=dark] .colab-df-convert:hover {\n",
              "      background-color: #434B5C;\n",
              "      box-shadow: 0px 1px 3px 1px rgba(0, 0, 0, 0.15);\n",
              "      filter: drop-shadow(0px 1px 2px rgba(0, 0, 0, 0.3));\n",
              "      fill: #FFFFFF;\n",
              "    }\n",
              "  </style>\n",
              "\n",
              "      <script>\n",
              "        const buttonEl =\n",
              "          document.querySelector('#df-c630541e-19ac-44f2-a3ea-def8ff956da6 button.colab-df-convert');\n",
              "        buttonEl.style.display =\n",
              "          google.colab.kernel.accessAllowed ? 'block' : 'none';\n",
              "\n",
              "        async function convertToInteractive(key) {\n",
              "          const element = document.querySelector('#df-c630541e-19ac-44f2-a3ea-def8ff956da6');\n",
              "          const dataTable =\n",
              "            await google.colab.kernel.invokeFunction('convertToInteractive',\n",
              "                                                     [key], {});\n",
              "          if (!dataTable) return;\n",
              "\n",
              "          const docLinkHtml = 'Like what you see? Visit the ' +\n",
              "            '<a target=\"_blank\" href=https://colab.research.google.com/notebooks/data_table.ipynb>data table notebook</a>'\n",
              "            + ' to learn more about interactive tables.';\n",
              "          element.innerHTML = '';\n",
              "          dataTable['output_type'] = 'display_data';\n",
              "          await google.colab.output.renderOutput(dataTable, element);\n",
              "          const docLink = document.createElement('div');\n",
              "          docLink.innerHTML = docLinkHtml;\n",
              "          element.appendChild(docLink);\n",
              "        }\n",
              "      </script>\n",
              "    </div>\n",
              "  </div>\n",
              "  "
            ]
          },
          "metadata": {},
          "execution_count": 3
        }
      ],
      "source": [
        "# use pandas to read csv \n",
        "import pandas as pd\n",
        "path = \"/content/drive/MyDrive/realtor-data.csv\"\n",
        "real_estate_rawdata = pd.read_csv(path)\n",
        "real_estate_rawdata.head()"
      ]
    },
    {
      "cell_type": "code",
      "source": [
        "real_estate_rawdata.shape"
      ],
      "metadata": {
        "colab": {
          "base_uri": "https://localhost:8080/"
        },
        "id": "RUcu_qabJzes",
        "outputId": "3f35aab3-6e0f-450f-ef1b-49201873960e"
      },
      "execution_count": null,
      "outputs": [
        {
          "output_type": "execute_result",
          "data": {
            "text/plain": [
              "(923159, 12)"
            ]
          },
          "metadata": {},
          "execution_count": 4
        }
      ]
    },
    {
      "cell_type": "code",
      "source": [
        "real_estate_rawdata['state'].value_counts()"
      ],
      "metadata": {
        "colab": {
          "base_uri": "https://localhost:8080/"
        },
        "id": "_KBBB07d732M",
        "outputId": "b3c37a45-170c-49bf-b96d-9dd7294042f5"
      },
      "execution_count": null,
      "outputs": [
        {
          "output_type": "execute_result",
          "data": {
            "text/plain": [
              "New Jersey        233722\n",
              "New York          211778\n",
              "Massachusetts     175248\n",
              "Connecticut        91644\n",
              "New Hampshire      51394\n",
              "Vermont            46460\n",
              "Maine              36650\n",
              "Rhode Island       29596\n",
              "Puerto Rico        24679\n",
              "Pennsylvania       17148\n",
              "Virgin Islands      2573\n",
              "Delaware            2135\n",
              "Georgia               50\n",
              "Virginia              31\n",
              "South Carolina        25\n",
              "Tennessee             20\n",
              "Wyoming                3\n",
              "West Virginia          3\n",
              "Name: state, dtype: int64"
            ]
          },
          "metadata": {},
          "execution_count": 5
        }
      ]
    },
    {
      "cell_type": "markdown",
      "source": [
        "# Cleaning Raw Data csv\n",
        "\n",
        "*   Remove duplicate\n",
        "*   Check data types \n",
        "*   Removing States with little to no data\n",
        "*   Replace missing values"
      ],
      "metadata": {
        "id": "dzRMMpSAJqVr"
      }
    },
    {
      "cell_type": "markdown",
      "source": [
        "# Eliminate duplicates\n",
        "\n",
        "\n",
        "\n",
        "\n"
      ],
      "metadata": {
        "id": "PjsjT4jEInNF"
      }
    },
    {
      "cell_type": "code",
      "source": [
        "# drop datafram duplicates, subet by full_address\n",
        "real_estate_data = real_estate_rawdata.drop_duplicates(subset= 'full_address', keep='first', ignore_index = True)\n",
        "real_estate_data.shape"
      ],
      "metadata": {
        "colab": {
          "base_uri": "https://localhost:8080/"
        },
        "id": "vkWb2Hh4I8G3",
        "outputId": "83b17f53-e9e1-46b9-ce3d-a47aac0174d8"
      },
      "execution_count": null,
      "outputs": [
        {
          "output_type": "execute_result",
          "data": {
            "text/plain": [
              "(112232, 12)"
            ]
          },
          "metadata": {},
          "execution_count": 6
        }
      ]
    },
    {
      "cell_type": "code",
      "source": [
        "real_estate_data['state'].value_counts()"
      ],
      "metadata": {
        "colab": {
          "base_uri": "https://localhost:8080/"
        },
        "id": "6RRuxmik8DXH",
        "outputId": "587482c2-dab3-4974-8c11-36751d5995ab"
      },
      "execution_count": null,
      "outputs": [
        {
          "output_type": "execute_result",
          "data": {
            "text/plain": [
              "New Jersey        32299\n",
              "New York          27952\n",
              "Connecticut       13776\n",
              "Massachusetts     10110\n",
              "Pennsylvania       9001\n",
              "Maine              4986\n",
              "New Hampshire      3532\n",
              "Rhode Island       3409\n",
              "Puerto Rico        2632\n",
              "Vermont            2500\n",
              "Delaware           1277\n",
              "Virgin Islands      742\n",
              "Virginia              7\n",
              "Georgia               5\n",
              "Wyoming               1\n",
              "South Carolina        1\n",
              "West Virginia         1\n",
              "Tennessee             1\n",
              "Name: state, dtype: int64"
            ]
          },
          "metadata": {},
          "execution_count": 7
        }
      ]
    },
    {
      "cell_type": "markdown",
      "source": [
        "# Check Data Types"
      ],
      "metadata": {
        "id": "h-5fDgY6KApa"
      }
    },
    {
      "cell_type": "code",
      "source": [
        "# checking data types\n",
        "real_estate_data.dtypes"
      ],
      "metadata": {
        "colab": {
          "base_uri": "https://localhost:8080/"
        },
        "id": "O-dZj_biKgTI",
        "outputId": "a0e19a9c-fff6-49ed-a0dc-8eea8104961e"
      },
      "execution_count": null,
      "outputs": [
        {
          "output_type": "execute_result",
          "data": {
            "text/plain": [
              "status           object\n",
              "price           float64\n",
              "bed             float64\n",
              "bath            float64\n",
              "acre_lot        float64\n",
              "full_address     object\n",
              "street           object\n",
              "city             object\n",
              "state            object\n",
              "zip_code        float64\n",
              "house_size      float64\n",
              "sold_date        object\n",
              "dtype: object"
            ]
          },
          "metadata": {},
          "execution_count": 8
        }
      ]
    },
    {
      "cell_type": "markdown",
      "source": [
        "# Missing Values"
      ],
      "metadata": {
        "id": "Fwoz525FKIFY"
      }
    },
    {
      "cell_type": "code",
      "source": [
        "# `True` means there are missing values in the data\n",
        "real_estate_data.isna().any()"
      ],
      "metadata": {
        "colab": {
          "base_uri": "https://localhost:8080/"
        },
        "id": "vegsD3XvK5FW",
        "outputId": "af30eb1f-489e-4318-f994-4666d129ce1b"
      },
      "execution_count": null,
      "outputs": [
        {
          "output_type": "execute_result",
          "data": {
            "text/plain": [
              "status          False\n",
              "price            True\n",
              "bed              True\n",
              "bath             True\n",
              "acre_lot         True\n",
              "full_address    False\n",
              "street           True\n",
              "city             True\n",
              "state           False\n",
              "zip_code         True\n",
              "house_size       True\n",
              "sold_date        True\n",
              "dtype: bool"
            ]
          },
          "metadata": {},
          "execution_count": 9
        }
      ]
    },
    {
      "cell_type": "code",
      "source": [
        "# total number of values missing in each column\n",
        "real_estate_data.isna().sum()"
      ],
      "metadata": {
        "colab": {
          "base_uri": "https://localhost:8080/"
        },
        "id": "IE9cEvhZLM6x",
        "outputId": "1bc1fa8d-6bfb-4b6e-d9c6-319c5fbea5be"
      },
      "execution_count": null,
      "outputs": [
        {
          "output_type": "execute_result",
          "data": {
            "text/plain": [
              "status              0\n",
              "price               5\n",
              "bed             17094\n",
              "bath            15721\n",
              "acre_lot        30451\n",
              "full_address        0\n",
              "street            232\n",
              "city               23\n",
              "state               0\n",
              "zip_code           33\n",
              "house_size      35756\n",
              "sold_date       53024\n",
              "dtype: int64"
            ]
          },
          "metadata": {},
          "execution_count": 10
        }
      ]
    },
    {
      "cell_type": "code",
      "source": [
        "# percent of values missing in each column\n",
        "(real_estate_data.isna().sum()/real_estate_data.shape[0]).round(4) * 100"
      ],
      "metadata": {
        "colab": {
          "base_uri": "https://localhost:8080/"
        },
        "id": "leMz83cbLWFz",
        "outputId": "b5d39bf2-1fbd-40e9-8916-125bed14e4ed"
      },
      "execution_count": null,
      "outputs": [
        {
          "output_type": "execute_result",
          "data": {
            "text/plain": [
              "status           0.00\n",
              "price            0.00\n",
              "bed             15.23\n",
              "bath            14.01\n",
              "acre_lot        27.13\n",
              "full_address     0.00\n",
              "street           0.21\n",
              "city             0.02\n",
              "state            0.00\n",
              "zip_code         0.03\n",
              "house_size      31.86\n",
              "sold_date       47.24\n",
              "dtype: float64"
            ]
          },
          "metadata": {},
          "execution_count": 11
        }
      ]
    },
    {
      "cell_type": "markdown",
      "source": [
        "\n",
        "\n",
        "*   Not worried about: 'sold_date'\n",
        "\n",
        "\n"
      ],
      "metadata": {
        "id": "wkRgkZkwLvw9"
      }
    },
    {
      "cell_type": "code",
      "source": [
        "# try to replace missing values with mean\n",
        "# creating copy of df\n",
        "real_estate_data_copy = real_estate_data.copy()\n",
        "# correct missing values \n",
        "real_estate_data_copy['price'] = real_estate_data_copy['price'].fillna(real_estate_data_copy['price'].mean())\n",
        "real_estate_data_copy['house_size'] = real_estate_data_copy['house_size'].fillna(real_estate_data_copy['house_size'].mean())\n",
        "real_estate_data_copy['bed'] = real_estate_data_copy['bed'].fillna(real_estate_data_copy['bed'].mean())\n",
        "real_estate_data_copy['bath'] = real_estate_data_copy['bath'].fillna(real_estate_data_copy['bath'].mean())\n",
        "real_estate_data_copy['acre_lot'] = real_estate_data_copy['acre_lot'].fillna(real_estate_data_copy['acre_lot'].mean())\n",
        "\n",
        "real_estate_data_copy.isna().sum()\n"
      ],
      "metadata": {
        "colab": {
          "base_uri": "https://localhost:8080/"
        },
        "id": "3AyQVe_7Ucrw",
        "outputId": "0790cbd4-dad7-47b5-8c77-aab01f40cccc"
      },
      "execution_count": null,
      "outputs": [
        {
          "output_type": "execute_result",
          "data": {
            "text/plain": [
              "status              0\n",
              "price               0\n",
              "bed                 0\n",
              "bath                0\n",
              "acre_lot            0\n",
              "full_address        0\n",
              "street            232\n",
              "city               23\n",
              "state               0\n",
              "zip_code           33\n",
              "house_size          0\n",
              "sold_date       53024\n",
              "dtype: int64"
            ]
          },
          "metadata": {},
          "execution_count": 12
        }
      ]
    },
    {
      "cell_type": "markdown",
      "source": [
        "# Remove states with little to no data"
      ],
      "metadata": {
        "id": "aVAMAh9xKai-"
      }
    },
    {
      "cell_type": "markdown",
      "source": [
        "_Georgia, South Carolina, Tennessee, Virginia, West Virginia, Wyoming_ HAVE TO GO"
      ],
      "metadata": {
        "id": "G8m0D7iyeLp3"
      }
    },
    {
      "cell_type": "code",
      "source": [
        "real_estate_data_copy.drop(real_estate_data_copy.index[real_estate_data_copy['state'] == 'Georgia'], inplace = True)\n",
        "real_estate_data_copy.drop(real_estate_data_copy.index[real_estate_data_copy['state'] == 'South Carolina'], inplace = True)\n",
        "real_estate_data_copy.drop(real_estate_data_copy.index[real_estate_data_copy['state'] == 'Tennessee'], inplace = True)\n",
        "real_estate_data_copy.drop(real_estate_data_copy.index[real_estate_data_copy['state'] == 'Virginia'], inplace = True)\n",
        "real_estate_data_copy.drop(real_estate_data_copy.index[real_estate_data_copy['state'] == 'West Virginia'], inplace = True)\n",
        "real_estate_data_copy.drop(real_estate_data_copy.index[real_estate_data_copy['state'] == 'Wyoming'], inplace = True)"
      ],
      "metadata": {
        "id": "oaFN7bi5e6SK"
      },
      "execution_count": null,
      "outputs": []
    },
    {
      "cell_type": "markdown",
      "source": [
        "# Also removing VI and PR, bc it is not in our story"
      ],
      "metadata": {
        "id": "CkLaGPZpcwsb"
      }
    },
    {
      "cell_type": "code",
      "source": [
        "real_estate_data_copy.drop(real_estate_data_copy.index[real_estate_data_copy['state'] == 'Virgin Islands'], inplace = True)\n",
        "real_estate_data_copy.drop(real_estate_data_copy.index[real_estate_data_copy['state'] == 'Puerto Rico'], inplace = True)"
      ],
      "metadata": {
        "id": "MCXJjXQAc2kr"
      },
      "execution_count": null,
      "outputs": []
    },
    {
      "cell_type": "markdown",
      "source": [
        "# Removing Outliers"
      ],
      "metadata": {
        "id": "xMiY7-BJvnbi"
      }
    },
    {
      "cell_type": "code",
      "source": [
        "# Price outliers \n",
        "import numpy as np\n",
        "q1 =  np.quantile(real_estate_data_copy['price'], 0.25)\n",
        "q3 =  np.quantile(real_estate_data_copy['price'], 0.75)\n",
        "\n",
        "iqr = q3 - q1\n",
        "\n",
        "bound_low = q1 - 1.5 * iqr\n",
        "bound_up = q3 + 1.5 * iqr\n",
        "\n",
        "real_estate_data_copy['price'] =  np.where(real_estate_data_copy['price'] > bound_up, bound_up, real_estate_data_copy['price'])\n",
        "real_estate_data_copy['price'] =  np.where(real_estate_data_copy['price']< bound_low, bound_low, real_estate_data_copy['price'])"
      ],
      "metadata": {
        "id": "shHeQr9evywO"
      },
      "execution_count": null,
      "outputs": []
    },
    {
      "cell_type": "code",
      "source": [
        "import matplotlib.pyplot as plt\n",
        "plt.boxplot(real_estate_data_copy['price'])"
      ],
      "metadata": {
        "id": "VMyVRxWJfyz5",
        "outputId": "56b36935-ea61-4016-a8a0-ed8ee4c861bd",
        "colab": {
          "base_uri": "https://localhost:8080/"
        }
      },
      "execution_count": null,
      "outputs": [
        {
          "output_type": "execute_result",
          "data": {
            "text/plain": [
              "{'whiskers': [<matplotlib.lines.Line2D at 0x7f29b2d5a760>,\n",
              "  <matplotlib.lines.Line2D at 0x7f29b2d5aac0>],\n",
              " 'caps': [<matplotlib.lines.Line2D at 0x7f29b2d5ae20>,\n",
              "  <matplotlib.lines.Line2D at 0x7f29b2cf21c0>],\n",
              " 'boxes': [<matplotlib.lines.Line2D at 0x7f29b2d5a400>],\n",
              " 'medians': [<matplotlib.lines.Line2D at 0x7f29b2cf2520>],\n",
              " 'fliers': [<matplotlib.lines.Line2D at 0x7f29b2cf2820>],\n",
              " 'means': []}"
            ]
          },
          "metadata": {},
          "execution_count": 16
        },
        {
          "output_type": "display_data",
          "data": {
            "text/plain": [
              "<Figure size 432x288 with 1 Axes>"
            ],
            "image/png": "[encoded data removed]"
          },
          "metadata": {
            "needs_background": "light"
          }
        }
      ]
    },
    {
      "cell_type": "code",
      "source": [
        "# Square footage outliers \n",
        "q1 =  np.quantile(real_estate_data_copy['house_size'], 0.25)\n",
        "q3 =  np.quantile(real_estate_data_copy['house_size'], 0.75)\n",
        "\n",
        "iqr = q3 - q1\n",
        "\n",
        "bound_low = q1 - 1.5 * iqr\n",
        "bound_up = q3 + 1.5 * iqr\n",
        "\n",
        "real_estate_data_copy['house_size'] =  np.where(real_estate_data_copy['house_size'] > bound_up, bound_up, real_estate_data_copy['house_size'])\n",
        "real_estate_data_copy['house_size'] =  np.where(real_estate_data_copy['house_size']< bound_low, bound_low, real_estate_data_copy['house_size'])"
      ],
      "metadata": {
        "id": "OFs51EpixOxH"
      },
      "execution_count": null,
      "outputs": []
    },
    {
      "cell_type": "code",
      "source": [
        "plt.boxplot(real_estate_data_copy['house_size'])"
      ],
      "metadata": {
        "id": "eoT6RTEFgLBK",
        "outputId": "6047fc2b-6f82-4f01-8afc-1472328acac9",
        "colab": {
          "base_uri": "https://localhost:8080/"
        }
      },
      "execution_count": null,
      "outputs": [
        {
          "output_type": "execute_result",
          "data": {
            "text/plain": [
              "{'whiskers': [<matplotlib.lines.Line2D at 0x7f29b282a970>,\n",
              "  <matplotlib.lines.Line2D at 0x7f29b282afa0>],\n",
              " 'caps': [<matplotlib.lines.Line2D at 0x7f29b283c430>,\n",
              "  <matplotlib.lines.Line2D at 0x7f29b283c6a0>],\n",
              " 'boxes': [<matplotlib.lines.Line2D at 0x7f29b282a610>],\n",
              " 'medians': [<matplotlib.lines.Line2D at 0x7f29b283c1f0>],\n",
              " 'fliers': [<matplotlib.lines.Line2D at 0x7f29b283ca00>],\n",
              " 'means': []}"
            ]
          },
          "metadata": {},
          "execution_count": 18
        },
        {
          "output_type": "display_data",
          "data": {
            "text/plain": [
              "<Figure size 432x288 with 1 Axes>"
            ],
            "image/png": "[encoded data removed]"
          },
          "metadata": {
            "needs_background": "light"
          }
        }
      ]
    },
    {
      "cell_type": "code",
      "source": [],
      "metadata": {
        "id": "lTFqYSM9eljQ"
      },
      "execution_count": null,
      "outputs": []
    },
    {
      "cell_type": "markdown",
      "source": [
        "# Descriptive Statistics"
      ],
      "metadata": {
        "id": "0EGAlotmMQ_n"
      }
    },
    {
      "cell_type": "code",
      "source": [
        "import numpy as np"
      ],
      "metadata": {
        "id": "LpgbXZKmM4P0"
      },
      "execution_count": null,
      "outputs": []
    },
    {
      "cell_type": "code",
      "source": [
        "real_estate_data_copy.describe().apply(lambda s: s.apply('{0:.5f}'.format))"
      ],
      "metadata": {
        "id": "qwZm8bOFfKfQ",
        "outputId": "532a8337-969a-49fc-f78e-2aca1782dcee",
        "colab": {
          "base_uri": "https://localhost:8080/"
        }
      },
      "execution_count": null,
      "outputs": [
        {
          "output_type": "execute_result",
          "data": {
            "text/plain": [
              "               price           bed          bath      acre_lot      zip_code  \\\n",
              "count   108842.00000  108842.00000  108842.00000  108842.00000  108835.00000   \n",
              "mean    609308.02434       3.29932       2.51784      17.02448    8485.33975   \n",
              "std     473384.34737       1.71623       1.61009     799.86387    4448.83256   \n",
              "min          0.00000       1.00000       1.00000       0.00000     604.00000   \n",
              "25%     259888.00000       2.00000       2.00000       0.15000    6110.50000   \n",
              "50%     450000.00000       3.00000       2.00000       0.73000    8037.00000   \n",
              "75%     800000.00000       4.00000       3.00000      17.82638   10308.00000   \n",
              "max    1610168.00000     123.00000     198.00000  100000.00000   99999.00000   \n",
              "\n",
              "         house_size  \n",
              "count  108842.00000  \n",
              "mean     1948.62946  \n",
              "std       719.32877  \n",
              "min       202.02293  \n",
              "25%      1376.00000  \n",
              "50%      2158.65138  \n",
              "75%      2158.65138  \n",
              "max      3332.62845  "
            ],
            "text/html": [
              "\n",
              "  <div id=\"df-6b0a7329-1ee3-4d10-936a-3f78a47a89e0\">\n",
              "    <div class=\"colab-df-container\">\n",
              "      <div>\n",
              "<style scoped>\n",
              "    .dataframe tbody tr th:only-of-type {\n",
              "        vertical-align: middle;\n",
              "    }\n",
              "\n",
              "    .dataframe tbody tr th {\n",
              "        vertical-align: top;\n",
              "    }\n",
              "\n",
              "    .dataframe thead th {\n",
              "        text-align: right;\n",
              "    }\n",
              "</style>\n",
              "<table border=\"1\" class=\"dataframe\">\n",
              "  <thead>\n",
              "    <tr style=\"text-align: right;\">\n",
              "      <th></th>\n",
              "      <th>price</th>\n",
              "      <th>bed</th>\n",
              "      <th>bath</th>\n",
              "      <th>acre_lot</th>\n",
              "      <th>zip_code</th>\n",
              "      <th>house_size</th>\n",
              "    </tr>\n",
              "  </thead>\n",
              "  <tbody>\n",
              "    <tr>\n",
              "      <th>count</th>\n",
              "      <td>108842.00000</td>\n",
              "      <td>108842.00000</td>\n",
              "      <td>108842.00000</td>\n",
              "      <td>108842.00000</td>\n",
              "      <td>108835.00000</td>\n",
              "      <td>108842.00000</td>\n",
              "    </tr>\n",
              "    <tr>\n",
              "      <th>mean</th>\n",
              "      <td>609308.02434</td>\n",
              "      <td>3.29932</td>\n",
              "      <td>2.51784</td>\n",
              "      <td>17.02448</td>\n",
              "      <td>8485.33975</td>\n",
              "      <td>1948.62946</td>\n",
              "    </tr>\n",
              "    <tr>\n",
              "      <th>std</th>\n",
              "      <td>473384.34737</td>\n",
              "      <td>1.71623</td>\n",
              "      <td>1.61009</td>\n",
              "      <td>799.86387</td>\n",
              "      <td>4448.83256</td>\n",
              "      <td>719.32877</td>\n",
              "    </tr>\n",
              "    <tr>\n",
              "      <th>min</th>\n",
              "      <td>0.00000</td>\n",
              "      <td>1.00000</td>\n",
              "      <td>1.00000</td>\n",
              "      <td>0.00000</td>\n",
              "      <td>604.00000</td>\n",
              "      <td>202.02293</td>\n",
              "    </tr>\n",
              "    <tr>\n",
              "      <th>25%</th>\n",
              "      <td>259888.00000</td>\n",
              "      <td>2.00000</td>\n",
              "      <td>2.00000</td>\n",
              "      <td>0.15000</td>\n",
              "      <td>6110.50000</td>\n",
              "      <td>1376.00000</td>\n",
              "    </tr>\n",
              "    <tr>\n",
              "      <th>50%</th>\n",
              "      <td>450000.00000</td>\n",
              "      <td>3.00000</td>\n",
              "      <td>2.00000</td>\n",
              "      <td>0.73000</td>\n",
              "      <td>8037.00000</td>\n",
              "      <td>2158.65138</td>\n",
              "    </tr>\n",
              "    <tr>\n",
              "      <th>75%</th>\n",
              "      <td>800000.00000</td>\n",
              "      <td>4.00000</td>\n",
              "      <td>3.00000</td>\n",
              "      <td>17.82638</td>\n",
              "      <td>10308.00000</td>\n",
              "      <td>2158.65138</td>\n",
              "    </tr>\n",
              "    <tr>\n",
              "      <th>max</th>\n",
              "      <td>1610168.00000</td>\n",
              "      <td>123.00000</td>\n",
              "      <td>198.00000</td>\n",
              "      <td>100000.00000</td>\n",
              "      <td>99999.00000</td>\n",
              "      <td>3332.62845</td>\n",
              "    </tr>\n",
              "  </tbody>\n",
              "</table>\n",
              "</div>\n",
              "      <button class=\"colab-df-convert\" onclick=\"convertToInteractive('df-6b0a7329-1ee3-4d10-936a-3f78a47a89e0')\"\n",
              "              title=\"Convert this dataframe to an interactive table.\"\n",
              "              style=\"display:none;\">\n",
              "        \n",
              "  <svg xmlns=\"http://www.w3.org/2000/svg\" height=\"24px\"viewBox=\"0 0 24 24\"\n",
              "       width=\"24px\">\n",
              "    <path d=\"M0 0h24v24H0V0z\" fill=\"none\"/>\n",
              "    <path d=\"M18.56 5.44l.94 2.06.94-2.06 2.06-.94-2.06-.94-.94-2.06-.94 2.06-2.06.94zm-11 1L8.5 8.5l.94-2.06 2.06-.94-2.06-.94L8.5 2.5l-.94 2.06-2.06.94zm10 10l.94 2.06.94-2.06 2.06-.94-2.06-.94-.94-2.06-.94 2.06-2.06.94z\"/><path d=\"M17.41 7.96l-1.37-1.37c-.4-.4-.92-.59-1.43-.59-.52 0-1.04.2-1.43.59L10.3 9.45l-7.72 7.72c-.78.78-.78 2.05 0 2.83L4 21.41c.39.39.9.59 1.41.59.51 0 1.02-.2 1.41-.59l7.78-7.78 2.81-2.81c.8-.78.8-2.07 0-2.86zM5.41 20L4 18.59l7.72-7.72 1.47 1.35L5.41 20z\"/>\n",
              "  </svg>\n",
              "      </button>\n",
              "      \n",
              "  <style>\n",
              "    .colab-df-container {\n",
              "      display:flex;\n",
              "      flex-wrap:wrap;\n",
              "      gap: 12px;\n",
              "    }\n",
              "\n",
              "    .colab-df-convert {\n",
              "      background-color: #E8F0FE;\n",
              "      border: none;\n",
              "      border-radius: 50%;\n",
              "      cursor: pointer;\n",
              "      display: none;\n",
              "      fill: #1967D2;\n",
              "      height: 32px;\n",
              "      padding: 0 0 0 0;\n",
              "      width: 32px;\n",
              "    }\n",
              "\n",
              "    .colab-df-convert:hover {\n",
              "      background-color: #E2EBFA;\n",
              "      box-shadow: 0px 1px 2px rgba(60, 64, 67, 0.3), 0px 1px 3px 1px rgba(60, 64, 67, 0.15);\n",
              "      fill: #174EA6;\n",
              "    }\n",
              "\n",
              "    [theme=dark] .colab-df-convert {\n",
              "      background-color: #3B4455;\n",
              "      fill: #D2E3FC;\n",
              "    }\n",
              "\n",
              "    [theme=dark] .colab-df-convert:hover {\n",
              "      background-color: #434B5C;\n",
              "      box-shadow: 0px 1px 3px 1px rgba(0, 0, 0, 0.15);\n",
              "      filter: drop-shadow(0px 1px 2px rgba(0, 0, 0, 0.3));\n",
              "      fill: #FFFFFF;\n",
              "    }\n",
              "  </style>\n",
              "\n",
              "      <script>\n",
              "        const buttonEl =\n",
              "          document.querySelector('#df-6b0a7329-1ee3-4d10-936a-3f78a47a89e0 button.colab-df-convert');\n",
              "        buttonEl.style.display =\n",
              "          google.colab.kernel.accessAllowed ? 'block' : 'none';\n",
              "\n",
              "        async function convertToInteractive(key) {\n",
              "          const element = document.querySelector('#df-6b0a7329-1ee3-4d10-936a-3f78a47a89e0');\n",
              "          const dataTable =\n",
              "            await google.colab.kernel.invokeFunction('convertToInteractive',\n",
              "                                                     [key], {});\n",
              "          if (!dataTable) return;\n",
              "\n",
              "          const docLinkHtml = 'Like what you see? Visit the ' +\n",
              "            '<a target=\"_blank\" href=https://colab.research.google.com/notebooks/data_table.ipynb>data table notebook</a>'\n",
              "            + ' to learn more about interactive tables.';\n",
              "          element.innerHTML = '';\n",
              "          dataTable['output_type'] = 'display_data';\n",
              "          await google.colab.output.renderOutput(dataTable, element);\n",
              "          const docLink = document.createElement('div');\n",
              "          docLink.innerHTML = docLinkHtml;\n",
              "          element.appendChild(docLink);\n",
              "        }\n",
              "      </script>\n",
              "    </div>\n",
              "  </div>\n",
              "  "
            ]
          },
          "metadata": {},
          "execution_count": 20
        }
      ]
    },
    {
      "cell_type": "code",
      "source": [
        "# average price of a home by 'bed' count\n",
        "real_estate_data_copy.groupby('bed')['price'].agg(np.mean).round(2) "
      ],
      "metadata": {
        "id": "-fkB0uWIMVQC",
        "outputId": "86c11777-de2c-4ce0-95ed-e217c9246362",
        "colab": {
          "base_uri": "https://localhost:8080/"
        }
      },
      "execution_count": null,
      "outputs": [
        {
          "output_type": "execute_result",
          "data": {
            "text/plain": [
              "bed\n",
              "1.000000       558414.08\n",
              "2.000000       570817.09\n",
              "3.000000       544415.72\n",
              "3.306597       351855.35\n",
              "4.000000       717245.69\n",
              "5.000000       970301.98\n",
              "6.000000       948933.97\n",
              "7.000000      1035892.96\n",
              "8.000000       946393.03\n",
              "9.000000       872472.97\n",
              "10.000000      991216.21\n",
              "11.000000     1226004.78\n",
              "12.000000     1107537.61\n",
              "13.000000     1095744.14\n",
              "14.000000     1245984.89\n",
              "15.000000     1252038.86\n",
              "16.000000     1318188.29\n",
              "17.000000     1373738.50\n",
              "18.000000     1247755.30\n",
              "19.000000     1407625.88\n",
              "20.000000     1413824.00\n",
              "21.000000     1406584.00\n",
              "22.000000     1610168.00\n",
              "23.000000     1350000.00\n",
              "24.000000     1491806.67\n",
              "25.000000      729000.00\n",
              "27.000000     1405084.00\n",
              "28.000000     1516100.80\n",
              "29.000000     1610168.00\n",
              "30.000000      937500.00\n",
              "31.000000      953387.67\n",
              "32.000000     1610168.00\n",
              "33.000000     1610168.00\n",
              "36.000000     1610168.00\n",
              "40.000000     1610168.00\n",
              "42.000000     1610168.00\n",
              "46.000000     1610168.00\n",
              "47.000000     1399000.00\n",
              "49.000000     1610168.00\n",
              "60.000000     1610168.00\n",
              "68.000000     1610168.00\n",
              "86.000000     1610168.00\n",
              "99.000000     1610168.00\n",
              "123.000000    1610168.00\n",
              "Name: price, dtype: float64"
            ]
          },
          "metadata": {},
          "execution_count": 21
        }
      ]
    },
    {
      "cell_type": "markdown",
      "source": [
        "# New Features"
      ],
      "metadata": {
        "id": "Zd5XMcZQXleB"
      }
    },
    {
      "cell_type": "code",
      "source": [
        "#calculating the price/sqft by house size\n",
        "real_estate_data_copy['price_sqft'] = real_estate_data_copy['price']/real_estate_data_copy['house_size']\n",
        "\n",
        "real_estate_data_copy['price_sqft']\n"
      ],
      "metadata": {
        "id": "EtsYe99oX8IG",
        "outputId": "943ca367-526f-42ca-aa08-ce859f8aa087",
        "colab": {
          "base_uri": "https://localhost:8080/"
        }
      },
      "execution_count": null,
      "outputs": [
        {
          "output_type": "execute_result",
          "data": {
            "text/plain": [
              "3363      266.272189\n",
              "3364       11.581305\n",
              "3365      190.470852\n",
              "3366      169.467787\n",
              "3367      180.801688\n",
              "             ...    \n",
              "112227    739.287420\n",
              "112228    428.964758\n",
              "112229    714.926042\n",
              "112230    483.152570\n",
              "112231    483.152570\n",
              "Name: price_sqft, Length: 108842, dtype: float64"
            ]
          },
          "metadata": {},
          "execution_count": 22
        }
      ]
    },
    {
      "cell_type": "code",
      "source": [
        "#calculating the bed/bath count by house\n",
        "real_estate_data_copy['bed_bath_ratio'] = real_estate_data_copy['bed']/real_estate_data_copy['bath']\n",
        "\n",
        "real_estate_data_copy['bed_bath_ratio']"
      ],
      "metadata": {
        "id": "Tq6a_DShfNUS",
        "outputId": "3382cd9c-6fd5-4959-cf54-118b0580b831",
        "colab": {
          "base_uri": "https://localhost:8080/"
        }
      },
      "execution_count": null,
      "outputs": [
        {
          "output_type": "execute_result",
          "data": {
            "text/plain": [
              "3363      2.000000\n",
              "3364      1.312264\n",
              "3365      1.000000\n",
              "3366      1.000000\n",
              "3367      1.000000\n",
              "            ...   \n",
              "112227    1.333333\n",
              "112228    1.333333\n",
              "112229    1.250000\n",
              "112230    0.800000\n",
              "112231    1.250000\n",
              "Name: bed_bath_ratio, Length: 108842, dtype: float64"
            ]
          },
          "metadata": {},
          "execution_count": 23
        }
      ]
    },
    {
      "cell_type": "code",
      "source": [
        "#calculating the bed/bath count by house\n",
        "real_estate_data_copy['price_acre'] = real_estate_data_copy['price']/real_estate_data_copy['acre_lot']\n",
        "\n",
        "real_estate_data_copy['price_acre']"
      ],
      "metadata": {
        "colab": {
          "base_uri": "https://localhost:8080/"
        },
        "id": "kUgCH65v-5SX",
        "outputId": "33e25a60-d881-4dab-ac4c-48f71479a09e"
      },
      "execution_count": null,
      "outputs": [
        {
          "output_type": "execute_result",
          "data": {
            "text/plain": [
              "3363      5.294118e+05\n",
              "3364      7.331378e+03\n",
              "3365      9.530820e+03\n",
              "3366      1.357539e+04\n",
              "3367      1.682619e+04\n",
              "              ...     \n",
              "112227    9.471576e+06\n",
              "112228    1.320339e+06\n",
              "112229    9.968750e+06\n",
              "112230    1.150120e+07\n",
              "112231    3.220336e+06\n",
              "Name: price_acre, Length: 108842, dtype: float64"
            ]
          },
          "metadata": {},
          "execution_count": 24
        }
      ]
    },
    {
      "cell_type": "markdown",
      "source": [
        "# Comparing states"
      ],
      "metadata": {
        "id": "GuNRgneX4Lmf"
      }
    },
    {
      "cell_type": "code",
      "source": [
        "# average price per house square footage in each state\n",
        "real_estate_data_copy.groupby('state')['price_sqft'].agg(np.mean).round(2).sort_values()"
      ],
      "metadata": {
        "id": "TA2sCILUYebk",
        "outputId": "2edb700b-ead8-44de-debc-1889191df991",
        "colab": {
          "base_uri": "https://localhost:8080/"
        }
      },
      "execution_count": null,
      "outputs": [
        {
          "output_type": "execute_result",
          "data": {
            "text/plain": [
              "state\n",
              "Maine            164.68\n",
              "Delaware         178.83\n",
              "Vermont          188.56\n",
              "New Hampshire    213.43\n",
              "Pennsylvania     223.67\n",
              "Connecticut      239.82\n",
              "New Jersey       267.65\n",
              "Rhode Island     275.24\n",
              "Massachusetts    390.86\n",
              "New York         560.55\n",
              "Name: price_sqft, dtype: float64"
            ]
          },
          "metadata": {},
          "execution_count": 25
        }
      ]
    },
    {
      "cell_type": "code",
      "source": [
        "# highest house square footage per state\n",
        "real_estate_data_copy.groupby('state')['price_sqft'].agg(np.max).round(2).sort_values()"
      ],
      "metadata": {
        "id": "Ei3qGsuFZDBb",
        "outputId": "69493273-e43b-4e5f-c1a7-a119e6af7eb1",
        "colab": {
          "base_uri": "https://localhost:8080/"
        }
      },
      "execution_count": null,
      "outputs": [
        {
          "output_type": "execute_result",
          "data": {
            "text/plain": [
              "state\n",
              "Vermont          1369.19\n",
              "Pennsylvania     1397.72\n",
              "Delaware         1401.36\n",
              "Rhode Island     2008.93\n",
              "New Hampshire    2012.71\n",
              "New Jersey       2232.14\n",
              "Maine            2433.04\n",
              "Massachusetts    3220.34\n",
              "New York         3628.12\n",
              "Connecticut      4663.33\n",
              "Name: price_sqft, dtype: float64"
            ]
          },
          "metadata": {},
          "execution_count": 26
        }
      ]
    },
    {
      "cell_type": "code",
      "source": [
        "# average house square footage per state\n",
        "real_estate_data_copy.groupby('state')['house_size'].agg(np.mean).round(2).sort_values()"
      ],
      "metadata": {
        "id": "o5imVlyEZqrR",
        "outputId": "6655ffb0-f3ac-46d4-8bd5-0f27ce46c014",
        "colab": {
          "base_uri": "https://localhost:8080/"
        }
      },
      "execution_count": null,
      "outputs": [
        {
          "output_type": "execute_result",
          "data": {
            "text/plain": [
              "state\n",
              "Pennsylvania     1742.64\n",
              "New York         1848.94\n",
              "Rhode Island     1932.63\n",
              "Connecticut      1987.15\n",
              "Massachusetts    1987.78\n",
              "Maine            1988.44\n",
              "Delaware         1990.83\n",
              "New Jersey       2035.42\n",
              "New Hampshire    2050.28\n",
              "Vermont          2090.23\n",
              "Name: house_size, dtype: float64"
            ]
          },
          "metadata": {},
          "execution_count": 27
        }
      ]
    },
    {
      "cell_type": "code",
      "source": [
        "# average number of bedrooms per state\n",
        "real_estate_data_copy.groupby('state')['bed'].agg(np.mean).round(2).sort_values()"
      ],
      "metadata": {
        "id": "85O3SrO-aC2e",
        "outputId": "1154f653-5766-4590-e52f-196c8eabba5c",
        "colab": {
          "base_uri": "https://localhost:8080/"
        }
      },
      "execution_count": null,
      "outputs": [
        {
          "output_type": "execute_result",
          "data": {
            "text/plain": [
              "state\n",
              "New York         2.97\n",
              "New Hampshire    3.20\n",
              "Pennsylvania     3.24\n",
              "Delaware         3.26\n",
              "Maine            3.34\n",
              "Vermont          3.42\n",
              "New Jersey       3.45\n",
              "Connecticut      3.46\n",
              "Rhode Island     3.48\n",
              "Massachusetts    3.49\n",
              "Name: bed, dtype: float64"
            ]
          },
          "metadata": {},
          "execution_count": 28
        }
      ]
    },
    {
      "cell_type": "code",
      "source": [
        "# average number of bathrooms per state\n",
        "real_estate_data_copy.groupby('state')['bath'].agg(np.mean).round(2).sort_values()"
      ],
      "metadata": {
        "id": "SS5qmNfmaTcQ",
        "outputId": "9886d3bf-179c-4d08-f1a4-6a516afd7436",
        "colab": {
          "base_uri": "https://localhost:8080/"
        }
      },
      "execution_count": null,
      "outputs": [
        {
          "output_type": "execute_result",
          "data": {
            "text/plain": [
              "state\n",
              "Pennsylvania     2.31\n",
              "New York         2.37\n",
              "Rhode Island     2.41\n",
              "Maine            2.42\n",
              "Delaware         2.43\n",
              "New Hampshire    2.50\n",
              "New Jersey       2.60\n",
              "Vermont          2.63\n",
              "Massachusetts    2.67\n",
              "Connecticut      2.69\n",
              "Name: bath, dtype: float64"
            ]
          },
          "metadata": {},
          "execution_count": 29
        }
      ]
    },
    {
      "cell_type": "code",
      "source": [
        "# average acreage of states\n",
        "real_estate_data_copy.groupby('state')['acre_lot'].agg(np.mean).round(2).sort_values()"
      ],
      "metadata": {
        "id": "Z77TCxDXawqN",
        "outputId": "878e6bb9-b83d-4d05-f392-a236eaa3427b",
        "colab": {
          "base_uri": "https://localhost:8080/"
        }
      },
      "execution_count": null,
      "outputs": [
        {
          "output_type": "execute_result",
          "data": {
            "text/plain": [
              "state\n",
              "Pennsylvania      3.05\n",
              "Delaware          3.84\n",
              "Massachusetts     7.60\n",
              "Rhode Island      9.71\n",
              "New Hampshire    11.57\n",
              "New York         16.02\n",
              "Maine            17.96\n",
              "Vermont          18.30\n",
              "New Jersey       20.88\n",
              "Connecticut      29.94\n",
              "Name: acre_lot, dtype: float64"
            ]
          },
          "metadata": {},
          "execution_count": 30
        }
      ]
    },
    {
      "cell_type": "code",
      "source": [
        "# average bed-to-bath ratio by state\n",
        "real_estate_data_copy.groupby('state')['bed_bath_ratio'].agg(np.mean).round(2).sort_values()"
      ],
      "metadata": {
        "id": "tjgPBetgfa2B",
        "outputId": "92dcd0de-f3d0-4db1-d7b3-4021a68f0757",
        "colab": {
          "base_uri": "https://localhost:8080/"
        }
      },
      "execution_count": null,
      "outputs": [
        {
          "output_type": "execute_result",
          "data": {
            "text/plain": [
              "state\n",
              "New Hampshire    1.40\n",
              "New York         1.41\n",
              "Connecticut      1.44\n",
              "Vermont          1.44\n",
              "Massachusetts    1.45\n",
              "New Jersey       1.48\n",
              "Maine            1.50\n",
              "Delaware         1.54\n",
              "Rhode Island     1.60\n",
              "Pennsylvania     1.64\n",
              "Name: bed_bath_ratio, dtype: float64"
            ]
          },
          "metadata": {},
          "execution_count": 31
        }
      ]
    },
    {
      "cell_type": "markdown",
      "source": [
        "# Comparing Cities"
      ],
      "metadata": {
        "id": "2sNT8Edbb83u"
      }
    },
    {
      "cell_type": "code",
      "source": [
        "# seeing if cities ranked matched the states ranked\n",
        "real_estate_data_copy.groupby('city')['price_sqft'].agg(np.mean).round(2).sort_values()\n",
        "pd.pivot_table(real_estate_data_copy, values='price_sqft', index=['state','city'], columns=None, aggfunc='mean').sort_values(by='price_sqft')[:30]"
      ],
      "metadata": {
        "colab": {
          "base_uri": "https://localhost:8080/"
        },
        "id": "TfGZ5U7g-Dds",
        "outputId": "8f3fa437-8350-4423-ad45-1bcf6a466b79"
      },
      "execution_count": null,
      "outputs": [
        {
          "output_type": "execute_result",
          "data": {
            "text/plain": [
              "                                     price_sqft\n",
              "state         city                             \n",
              "New Jersey    Port Murray              4.500164\n",
              "Maine         Orient                   5.790652\n",
              "Pennsylvania  Lehman                   6.242323\n",
              "Maine         Macwahoc Plt             9.033418\n",
              "              Maine                    9.265044\n",
              "              Ta R2 Wels              11.118053\n",
              "New York      Beekmantown             11.303354\n",
              "              Tupper Lake             11.581305\n",
              "Maine         Carmel                  11.581305\n",
              "              Orneville Township      12.391996\n",
              "              Oakfield                12.396629\n",
              "              Sangerville             12.924736\n",
              "Massachusetts Rowe                    12.971062\n",
              "Maine         Cambridge               12.971062\n",
              "              Mercer                  13.897566\n",
              "              Somerville              15.055696\n",
              "              Brookton                15.153181\n",
              "              Atkinson                16.213364\n",
              "              Waite                   18.483763\n",
              "              Silver Ridge Township   18.483763\n",
              "New York      Saratoga                19.688218\n",
              "Massachusetts Middlefield             20.074262\n",
              "Maine         Castle Hill             20.733458\n",
              "              Great Pond              21.309601\n",
              "              Wyman Township          21.772853\n",
              "              Edinburg                22.699358\n",
              "              Mariaville              22.754948\n",
              "New Jersey    Buena Vista             23.162610\n",
              "Maine         Hanover                 25.015619\n",
              "Massachusetts Petersham               25.478871"
            ],
            "text/html": [
              "\n",
              "  <div id=\"df-b271b984-6ac8-41af-a8ac-cb879abc07f9\">\n",
              "    <div class=\"colab-df-container\">\n",
              "      <div>\n",
              "<style scoped>\n",
              "    .dataframe tbody tr th:only-of-type {\n",
              "        vertical-align: middle;\n",
              "    }\n",
              "\n",
              "    .dataframe tbody tr th {\n",
              "        vertical-align: top;\n",
              "    }\n",
              "\n",
              "    .dataframe thead th {\n",
              "        text-align: right;\n",
              "    }\n",
              "</style>\n",
              "<table border=\"1\" class=\"dataframe\">\n",
              "  <thead>\n",
              "    <tr style=\"text-align: right;\">\n",
              "      <th></th>\n",
              "      <th></th>\n",
              "      <th>price_sqft</th>\n",
              "    </tr>\n",
              "    <tr>\n",
              "      <th>state</th>\n",
              "      <th>city</th>\n",
              "      <th></th>\n",
              "    </tr>\n",
              "  </thead>\n",
              "  <tbody>\n",
              "    <tr>\n",
              "      <th>New Jersey</th>\n",
              "      <th>Port Murray</th>\n",
              "      <td>4.500164</td>\n",
              "    </tr>\n",
              "    <tr>\n",
              "      <th>Maine</th>\n",
              "      <th>Orient</th>\n",
              "      <td>5.790652</td>\n",
              "    </tr>\n",
              "    <tr>\n",
              "      <th>Pennsylvania</th>\n",
              "      <th>Lehman</th>\n",
              "      <td>6.242323</td>\n",
              "    </tr>\n",
              "    <tr>\n",
              "      <th rowspan=\"3\" valign=\"top\">Maine</th>\n",
              "      <th>Macwahoc Plt</th>\n",
              "      <td>9.033418</td>\n",
              "    </tr>\n",
              "    <tr>\n",
              "      <th>Maine</th>\n",
              "      <td>9.265044</td>\n",
              "    </tr>\n",
              "    <tr>\n",
              "      <th>Ta R2 Wels</th>\n",
              "      <td>11.118053</td>\n",
              "    </tr>\n",
              "    <tr>\n",
              "      <th rowspan=\"2\" valign=\"top\">New York</th>\n",
              "      <th>Beekmantown</th>\n",
              "      <td>11.303354</td>\n",
              "    </tr>\n",
              "    <tr>\n",
              "      <th>Tupper Lake</th>\n",
              "      <td>11.581305</td>\n",
              "    </tr>\n",
              "    <tr>\n",
              "      <th rowspan=\"4\" valign=\"top\">Maine</th>\n",
              "      <th>Carmel</th>\n",
              "      <td>11.581305</td>\n",
              "    </tr>\n",
              "    <tr>\n",
              "      <th>Orneville Township</th>\n",
              "      <td>12.391996</td>\n",
              "    </tr>\n",
              "    <tr>\n",
              "      <th>Oakfield</th>\n",
              "      <td>12.396629</td>\n",
              "    </tr>\n",
              "    <tr>\n",
              "      <th>Sangerville</th>\n",
              "      <td>12.924736</td>\n",
              "    </tr>\n",
              "    <tr>\n",
              "      <th>Massachusetts</th>\n",
              "      <th>Rowe</th>\n",
              "      <td>12.971062</td>\n",
              "    </tr>\n",
              "    <tr>\n",
              "      <th rowspan=\"7\" valign=\"top\">Maine</th>\n",
              "      <th>Cambridge</th>\n",
              "      <td>12.971062</td>\n",
              "    </tr>\n",
              "    <tr>\n",
              "      <th>Mercer</th>\n",
              "      <td>13.897566</td>\n",
              "    </tr>\n",
              "    <tr>\n",
              "      <th>Somerville</th>\n",
              "      <td>15.055696</td>\n",
              "    </tr>\n",
              "    <tr>\n",
              "      <th>Brookton</th>\n",
              "      <td>15.153181</td>\n",
              "    </tr>\n",
              "    <tr>\n",
              "      <th>Atkinson</th>\n",
              "      <td>16.213364</td>\n",
              "    </tr>\n",
              "    <tr>\n",
              "      <th>Waite</th>\n",
              "      <td>18.483763</td>\n",
              "    </tr>\n",
              "    <tr>\n",
              "      <th>Silver Ridge Township</th>\n",
              "      <td>18.483763</td>\n",
              "    </tr>\n",
              "    <tr>\n",
              "      <th>New York</th>\n",
              "      <th>Saratoga</th>\n",
              "      <td>19.688218</td>\n",
              "    </tr>\n",
              "    <tr>\n",
              "      <th>Massachusetts</th>\n",
              "      <th>Middlefield</th>\n",
              "      <td>20.074262</td>\n",
              "    </tr>\n",
              "    <tr>\n",
              "      <th rowspan=\"5\" valign=\"top\">Maine</th>\n",
              "      <th>Castle Hill</th>\n",
              "      <td>20.733458</td>\n",
              "    </tr>\n",
              "    <tr>\n",
              "      <th>Great Pond</th>\n",
              "      <td>21.309601</td>\n",
              "    </tr>\n",
              "    <tr>\n",
              "      <th>Wyman Township</th>\n",
              "      <td>21.772853</td>\n",
              "    </tr>\n",
              "    <tr>\n",
              "      <th>Edinburg</th>\n",
              "      <td>22.699358</td>\n",
              "    </tr>\n",
              "    <tr>\n",
              "      <th>Mariaville</th>\n",
              "      <td>22.754948</td>\n",
              "    </tr>\n",
              "    <tr>\n",
              "      <th>New Jersey</th>\n",
              "      <th>Buena Vista</th>\n",
              "      <td>23.162610</td>\n",
              "    </tr>\n",
              "    <tr>\n",
              "      <th>Maine</th>\n",
              "      <th>Hanover</th>\n",
              "      <td>25.015619</td>\n",
              "    </tr>\n",
              "    <tr>\n",
              "      <th>Massachusetts</th>\n",
              "      <th>Petersham</th>\n",
              "      <td>25.478871</td>\n",
              "    </tr>\n",
              "  </tbody>\n",
              "</table>\n",
              "</div>\n",
              "      <button class=\"colab-df-convert\" onclick=\"convertToInteractive('df-b271b984-6ac8-41af-a8ac-cb879abc07f9')\"\n",
              "              title=\"Convert this dataframe to an interactive table.\"\n",
              "              style=\"display:none;\">\n",
              "        \n",
              "  <svg xmlns=\"http://www.w3.org/2000/svg\" height=\"24px\"viewBox=\"0 0 24 24\"\n",
              "       width=\"24px\">\n",
              "    <path d=\"M0 0h24v24H0V0z\" fill=\"none\"/>\n",
              "    <path d=\"M18.56 5.44l.94 2.06.94-2.06 2.06-.94-2.06-.94-.94-2.06-.94 2.06-2.06.94zm-11 1L8.5 8.5l.94-2.06 2.06-.94-2.06-.94L8.5 2.5l-.94 2.06-2.06.94zm10 10l.94 2.06.94-2.06 2.06-.94-2.06-.94-.94-2.06-.94 2.06-2.06.94z\"/><path d=\"M17.41 7.96l-1.37-1.37c-.4-.4-.92-.59-1.43-.59-.52 0-1.04.2-1.43.59L10.3 9.45l-7.72 7.72c-.78.78-.78 2.05 0 2.83L4 21.41c.39.39.9.59 1.41.59.51 0 1.02-.2 1.41-.59l7.78-7.78 2.81-2.81c.8-.78.8-2.07 0-2.86zM5.41 20L4 18.59l7.72-7.72 1.47 1.35L5.41 20z\"/>\n",
              "  </svg>\n",
              "      </button>\n",
              "      \n",
              "  <style>\n",
              "    .colab-df-container {\n",
              "      display:flex;\n",
              "      flex-wrap:wrap;\n",
              "      gap: 12px;\n",
              "    }\n",
              "\n",
              "    .colab-df-convert {\n",
              "      background-color: #E8F0FE;\n",
              "      border: none;\n",
              "      border-radius: 50%;\n",
              "      cursor: pointer;\n",
              "      display: none;\n",
              "      fill: #1967D2;\n",
              "      height: 32px;\n",
              "      padding: 0 0 0 0;\n",
              "      width: 32px;\n",
              "    }\n",
              "\n",
              "    .colab-df-convert:hover {\n",
              "      background-color: #E2EBFA;\n",
              "      box-shadow: 0px 1px 2px rgba(60, 64, 67, 0.3), 0px 1px 3px 1px rgba(60, 64, 67, 0.15);\n",
              "      fill: #174EA6;\n",
              "    }\n",
              "\n",
              "    [theme=dark] .colab-df-convert {\n",
              "      background-color: #3B4455;\n",
              "      fill: #D2E3FC;\n",
              "    }\n",
              "\n",
              "    [theme=dark] .colab-df-convert:hover {\n",
              "      background-color: #434B5C;\n",
              "      box-shadow: 0px 1px 3px 1px rgba(0, 0, 0, 0.15);\n",
              "      filter: drop-shadow(0px 1px 2px rgba(0, 0, 0, 0.3));\n",
              "      fill: #FFFFFF;\n",
              "    }\n",
              "  </style>\n",
              "\n",
              "      <script>\n",
              "        const buttonEl =\n",
              "          document.querySelector('#df-b271b984-6ac8-41af-a8ac-cb879abc07f9 button.colab-df-convert');\n",
              "        buttonEl.style.display =\n",
              "          google.colab.kernel.accessAllowed ? 'block' : 'none';\n",
              "\n",
              "        async function convertToInteractive(key) {\n",
              "          const element = document.querySelector('#df-b271b984-6ac8-41af-a8ac-cb879abc07f9');\n",
              "          const dataTable =\n",
              "            await google.colab.kernel.invokeFunction('convertToInteractive',\n",
              "                                                     [key], {});\n",
              "          if (!dataTable) return;\n",
              "\n",
              "          const docLinkHtml = 'Like what you see? Visit the ' +\n",
              "            '<a target=\"_blank\" href=https://colab.research.google.com/notebooks/data_table.ipynb>data table notebook</a>'\n",
              "            + ' to learn more about interactive tables.';\n",
              "          element.innerHTML = '';\n",
              "          dataTable['output_type'] = 'display_data';\n",
              "          await google.colab.output.renderOutput(dataTable, element);\n",
              "          const docLink = document.createElement('div');\n",
              "          docLink.innerHTML = docLinkHtml;\n",
              "          element.appendChild(docLink);\n",
              "        }\n",
              "      </script>\n",
              "    </div>\n",
              "  </div>\n",
              "  "
            ]
          },
          "metadata": {},
          "execution_count": 32
        }
      ]
    },
    {
      "cell_type": "code",
      "source": [
        "# average house square footage per state\n",
        "real_estate_data_copy.groupby('state')['price_sqft'].agg(np.mean).round(2).sort_values().index.tolist()\n"
      ],
      "metadata": {
        "id": "tHagB7PWcQSV",
        "outputId": "a4d8464e-40f4-4064-d83b-908e5147dd06",
        "colab": {
          "base_uri": "https://localhost:8080/"
        }
      },
      "execution_count": null,
      "outputs": [
        {
          "output_type": "execute_result",
          "data": {
            "text/plain": [
              "['Maine',\n",
              " 'Delaware',\n",
              " 'Vermont',\n",
              " 'New Hampshire',\n",
              " 'Pennsylvania',\n",
              " 'Connecticut',\n",
              " 'New Jersey',\n",
              " 'Rhode Island',\n",
              " 'Massachusetts',\n",
              " 'New York']"
            ]
          },
          "metadata": {},
          "execution_count": 33
        }
      ]
    },
    {
      "cell_type": "code",
      "source": [
        "real_estate_data_copy['state'].value_counts()"
      ],
      "metadata": {
        "id": "14ZEV5277r5t",
        "outputId": "f30ab96f-74ac-4946-8c5f-fce671ed1a94",
        "colab": {
          "base_uri": "https://localhost:8080/"
        }
      },
      "execution_count": null,
      "outputs": [
        {
          "output_type": "execute_result",
          "data": {
            "text/plain": [
              "New Jersey       32299\n",
              "New York         27952\n",
              "Connecticut      13776\n",
              "Massachusetts    10110\n",
              "Pennsylvania      9001\n",
              "Maine             4986\n",
              "New Hampshire     3532\n",
              "Rhode Island      3409\n",
              "Vermont           2500\n",
              "Delaware          1277\n",
              "Name: state, dtype: int64"
            ]
          },
          "metadata": {},
          "execution_count": 34
        }
      ]
    },
    {
      "cell_type": "code",
      "source": [
        "# comparing city price per sqft in the top five price per sqft states \n",
        "##real_estate_data_copy.pivot_table(index=['state','city'], values=['price_sqft'], aggfunc='mean').round(2)\n",
        "def city_barchart(state,feature):\n",
        "  state_data = real_estate_data_copy[real_estate_data_copy['state'] == state]\n",
        "  if feature == 'price_sqft':\n",
        "    return state_data.groupby('city')[feature].agg(np.mean).round(2).sort_values(ascending = True)[:10].plot(kind='bar');\n",
        "  else:\n",
        "    return state_data.groupby('city')[feature].agg(np.mean).round(2).sort_values(ascending = False)[:10].plot(kind='bar');\n",
        "\n",
        "city_barchart('New York','price_sqft')"
      ],
      "metadata": {
        "id": "Gq0koAk6cX3T",
        "outputId": "afd9e6a0-671c-4515-d0c4-d3490249f2ac",
        "colab": {
          "base_uri": "https://localhost:8080/"
        }
      },
      "execution_count": null,
      "outputs": [
        {
          "output_type": "execute_result",
          "data": {
            "text/plain": [
              "<matplotlib.axes._subplots.AxesSubplot at 0x7f29b278cc10>"
            ]
          },
          "metadata": {},
          "execution_count": 35
        },
        {
          "output_type": "display_data",
          "data": {
            "text/plain": [
              "<Figure size 432x288 with 1 Axes>"
            ],
            "image/png": "[encoded data removed]"
          },
          "metadata": {
            "needs_background": "light"
          }
        }
      ]
    },
    {
      "cell_type": "code",
      "source": [
        "# comparing city beds in the top five bed states \n",
        "city_barchart('New York','bed')"
      ],
      "metadata": {
        "id": "FB4YpoJqe7MC",
        "outputId": "8a147897-9d26-4d4f-882e-2582803c9a24",
        "colab": {
          "base_uri": "https://localhost:8080/"
        }
      },
      "execution_count": null,
      "outputs": [
        {
          "output_type": "execute_result",
          "data": {
            "text/plain": [
              "<matplotlib.axes._subplots.AxesSubplot at 0x7f29b269b400>"
            ]
          },
          "metadata": {},
          "execution_count": 36
        },
        {
          "output_type": "display_data",
          "data": {
            "text/plain": [
              "<Figure size 432x288 with 1 Axes>"
            ],
            "image/png": "[encoded data removed]"
          },
          "metadata": {
            "needs_background": "light"
          }
        }
      ]
    },
    {
      "cell_type": "code",
      "source": [
        "# comparing city baths in the top five bath states \n",
        "city_barchart('New York','bath')"
      ],
      "metadata": {
        "id": "cV9fCoKTfCA_",
        "outputId": "9ede3c59-96ed-4ba2-d1b2-327d864d087a",
        "colab": {
          "base_uri": "https://localhost:8080/"
        }
      },
      "execution_count": null,
      "outputs": [
        {
          "output_type": "execute_result",
          "data": {
            "text/plain": [
              "<matplotlib.axes._subplots.AxesSubplot at 0x7f29b26129a0>"
            ]
          },
          "metadata": {},
          "execution_count": 37
        },
        {
          "output_type": "display_data",
          "data": {
            "text/plain": [
              "<Figure size 432x288 with 1 Axes>"
            ],
            "image/png": "[encoded data removed]"
          },
          "metadata": {
            "needs_background": "light"
          }
        }
      ]
    },
    {
      "cell_type": "code",
      "source": [
        "# comparing city acres in the top five acres states \n",
        "city_barchart('New York','acre_lot')"
      ],
      "metadata": {
        "id": "v1zZcjEKfFvi",
        "outputId": "f0b77286-2e03-4113-9b73-899ed54a76f4",
        "colab": {
          "base_uri": "https://localhost:8080/"
        }
      },
      "execution_count": null,
      "outputs": [
        {
          "output_type": "execute_result",
          "data": {
            "text/plain": [
              "<matplotlib.axes._subplots.AxesSubplot at 0x7f29b25fe940>"
            ]
          },
          "metadata": {},
          "execution_count": 38
        },
        {
          "output_type": "display_data",
          "data": {
            "text/plain": [
              "<Figure size 432x288 with 1 Axes>"
            ],
            "image/png": "[encoded data removed]"
          },
          "metadata": {
            "needs_background": "light"
          }
        }
      ]
    },
    {
      "cell_type": "markdown",
      "source": [
        "# 12/8"
      ],
      "metadata": {
        "id": "hdkIW9SP8m7r"
      }
    },
    {
      "cell_type": "code",
      "source": [
        "real_estate_data_copy.groupby('state')['price_sqft'].agg(np.mean).round(2).sort_values().plot(kind='bar');"
      ],
      "metadata": {
        "id": "gPaCFABk8pDh",
        "outputId": "bb3c6232-e063-4bcd-bcbd-cdab129dc61a",
        "colab": {
          "base_uri": "https://localhost:8080/"
        }
      },
      "execution_count": null,
      "outputs": [
        {
          "output_type": "display_data",
          "data": {
            "text/plain": [
              "<Figure size 432x288 with 1 Axes>"
            ],
            "image/png": "[encoded data removed]"
          },
          "metadata": {
            "needs_background": "light"
          }
        }
      ]
    },
    {
      "cell_type": "code",
      "source": [
        "import pandas as pd\n",
        "import re\n",
        "states = {\n",
        "        'AK': 'Alaska',\n",
        "        'AL': 'Alabama',\n",
        "        'AR': 'Arkansas',\n",
        "        'AS': 'American Samoa',\n",
        "        'AZ': 'Arizona',\n",
        "        'CA': 'California',\n",
        "        'CO': 'Colorado',\n",
        "        'CT': 'Connecticut',\n",
        "        'DC': 'District of Columbia',\n",
        "        'DE': 'Delaware',\n",
        "        'FL': 'Florida',\n",
        "        'GA': 'Georgia',\n",
        "        'GU': 'Guam',\n",
        "        'HI': 'Hawaii',\n",
        "        'IA': 'Iowa',\n",
        "        'ID': 'Idaho',\n",
        "        'IL': 'Illinois',\n",
        "        'IN': 'Indiana',\n",
        "        'KS': 'Kansas',\n",
        "        'KY': 'Kentucky',\n",
        "        'LA': 'Louisiana',\n",
        "        'MA': 'Massachusetts',\n",
        "        'MD': 'Maryland',\n",
        "        'ME': 'Maine',\n",
        "        'MI': 'Michigan',\n",
        "        'MN': 'Minnesota',\n",
        "        'MO': 'Missouri',\n",
        "        'MP': 'Northern Mariana Islands',\n",
        "        'MS': 'Mississippi',\n",
        "        'MT': 'Montana',\n",
        "        'NA': 'National',\n",
        "        'NC': 'North Carolina',\n",
        "        'ND': 'North Dakota',\n",
        "        'NE': 'Nebraska',\n",
        "        'NH': 'New Hampshire',\n",
        "        'NJ': 'New Jersey',\n",
        "        'NM': 'New Mexico',\n",
        "        'NV': 'Nevada',\n",
        "        'NY': 'New York',\n",
        "        'OH': 'Ohio',\n",
        "        'OK': 'Oklahoma',\n",
        "        'OR': 'Oregon',\n",
        "        'PA': 'Pennsylvania',\n",
        "        'PR': 'Puerto Rico',\n",
        "        'RI': 'Rhode Island',\n",
        "        'SC': 'South Carolina',\n",
        "        'SD': 'South Dakota',\n",
        "        'TN': 'Tennessee',\n",
        "        'TX': 'Texas',\n",
        "        'UT': 'Utah',\n",
        "        'VA': 'Virginia',\n",
        "        'VI': 'Virgin Islands',\n",
        "        'VT': 'Vermont',\n",
        "        'WA': 'Washington',\n",
        "        'WI': 'Wisconsin',\n",
        "        'WV': 'West Virginia',\n",
        "        'WY': 'Wyoming'\n",
        "}\n",
        "\n",
        "def best_match(x):\n",
        "    if len(x) == 2: # Try another way for 2-letter codes\n",
        "        for a,n in states.items():\n",
        "            if len(n.split()) == 2:\n",
        "                if \"\".join([c[0] for c in n.split()]).lower() == x.lower():\n",
        "                    return a.lower()\n",
        "    new_rx = re.compile(r\"\\w*\".join([ch for ch in x]), re.I)\n",
        "    for a,n in states.items():\n",
        "        if new_rx.match(n):\n",
        "            return a.lower()\n",
        "        \n",
        "real_estate_data_copy['state_abbrev'] = real_estate_data_copy['state'].apply(lambda x: best_match(x)).str.upper()\n",
        "real_estate_data_copy.head()"
      ],
      "metadata": {
        "id": "q4YL7V0tCBuS",
        "outputId": "83f0bbf0-3bca-4423-97a3-f6f8ea7a9274",
        "colab": {
          "base_uri": "https://localhost:8080/"
        }
      },
      "execution_count": null,
      "outputs": [
        {
          "output_type": "execute_result",
          "data": {
            "text/plain": [
              "        status     price       bed      bath   acre_lot  \\\n",
              "3363  for_sale  180000.0  2.000000  1.000000   0.340000   \n",
              "3364  for_sale   25000.0  3.306597  2.519765   3.410000   \n",
              "3365  for_sale  169900.0  2.000000  2.000000  17.826378   \n",
              "3366  for_sale  242000.0  2.000000  2.000000  17.826378   \n",
              "3367  for_sale  299950.0  2.000000  2.000000  17.826378   \n",
              "\n",
              "                                        full_address  \\\n",
              "3363                  23 Moore St, Agawam, MA, 01001   \n",
              "3364                   Leonard St, Agawam, MA, 01001   \n",
              "3365           420 Main St Apt 42, Agawam, MA, 01001   \n",
              "3366  2A Mansion Woods Dr Unit 2A, Agawam, MA, 01001   \n",
              "3367     19 Castle Hill Rd Unit C, Agawam, MA, 01001   \n",
              "\n",
              "                           street    city          state  zip_code  \\\n",
              "3363                  23 Moore St  Agawam  Massachusetts    1001.0   \n",
              "3364                   Leonard St  Agawam  Massachusetts    1001.0   \n",
              "3365           420 Main St Apt 42  Agawam  Massachusetts    1001.0   \n",
              "3366  2A Mansion Woods Dr Unit 2A  Agawam  Massachusetts    1001.0   \n",
              "3367     19 Castle Hill Rd Unit C  Agawam  Massachusetts    1001.0   \n",
              "\n",
              "       house_size   sold_date  price_sqft  bed_bath_ratio     price_acre  \\\n",
              "3363   676.000000         NaN  266.272189        2.000000  529411.764706   \n",
              "3364  2158.651381         NaN   11.581305        1.312264    7331.378299   \n",
              "3365   892.000000  2019-04-30  190.470852        1.000000    9530.819866   \n",
              "3366  1428.000000         NaN  169.467787        1.000000   13575.387920   \n",
              "3367  1659.000000         NaN  180.801688        1.000000   16826.188456   \n",
              "\n",
              "     state_abbrev  \n",
              "3363           MA  \n",
              "3364           MA  \n",
              "3365           MA  \n",
              "3366           MA  \n",
              "3367           MA  "
            ],
            "text/html": [
              "\n",
              "  <div id=\"df-6d13c0eb-eb65-4aec-a78c-59891297a4e1\">\n",
              "    <div class=\"colab-df-container\">\n",
              "      <div>\n",
              "<style scoped>\n",
              "    .dataframe tbody tr th:only-of-type {\n",
              "        vertical-align: middle;\n",
              "    }\n",
              "\n",
              "    .dataframe tbody tr th {\n",
              "        vertical-align: top;\n",
              "    }\n",
              "\n",
              "    .dataframe thead th {\n",
              "        text-align: right;\n",
              "    }\n",
              "</style>\n",
              "<table border=\"1\" class=\"dataframe\">\n",
              "  <thead>\n",
              "    <tr style=\"text-align: right;\">\n",
              "      <th></th>\n",
              "      <th>status</th>\n",
              "      <th>price</th>\n",
              "      <th>bed</th>\n",
              "      <th>bath</th>\n",
              "      <th>acre_lot</th>\n",
              "      <th>full_address</th>\n",
              "      <th>street</th>\n",
              "      <th>city</th>\n",
              "      <th>state</th>\n",
              "      <th>zip_code</th>\n",
              "      <th>house_size</th>\n",
              "      <th>sold_date</th>\n",
              "      <th>price_sqft</th>\n",
              "      <th>bed_bath_ratio</th>\n",
              "      <th>price_acre</th>\n",
              "      <th>state_abbrev</th>\n",
              "    </tr>\n",
              "  </thead>\n",
              "  <tbody>\n",
              "    <tr>\n",
              "      <th>3363</th>\n",
              "      <td>for_sale</td>\n",
              "      <td>180000.0</td>\n",
              "      <td>2.000000</td>\n",
              "      <td>1.000000</td>\n",
              "      <td>0.340000</td>\n",
              "      <td>23 Moore St, Agawam, MA, 01001</td>\n",
              "      <td>23 Moore St</td>\n",
              "      <td>Agawam</td>\n",
              "      <td>Massachusetts</td>\n",
              "      <td>1001.0</td>\n",
              "      <td>676.000000</td>\n",
              "      <td>NaN</td>\n",
              "      <td>266.272189</td>\n",
              "      <td>2.000000</td>\n",
              "      <td>529411.764706</td>\n",
              "      <td>MA</td>\n",
              "    </tr>\n",
              "    <tr>\n",
              "      <th>3364</th>\n",
              "      <td>for_sale</td>\n",
              "      <td>25000.0</td>\n",
              "      <td>3.306597</td>\n",
              "      <td>2.519765</td>\n",
              "      <td>3.410000</td>\n",
              "      <td>Leonard St, Agawam, MA, 01001</td>\n",
              "      <td>Leonard St</td>\n",
              "      <td>Agawam</td>\n",
              "      <td>Massachusetts</td>\n",
              "      <td>1001.0</td>\n",
              "      <td>2158.651381</td>\n",
              "      <td>NaN</td>\n",
              "      <td>11.581305</td>\n",
              "      <td>1.312264</td>\n",
              "      <td>7331.378299</td>\n",
              "      <td>MA</td>\n",
              "    </tr>\n",
              "    <tr>\n",
              "      <th>3365</th>\n",
              "      <td>for_sale</td>\n",
              "      <td>169900.0</td>\n",
              "      <td>2.000000</td>\n",
              "      <td>2.000000</td>\n",
              "      <td>17.826378</td>\n",
              "      <td>420 Main St Apt 42, Agawam, MA, 01001</td>\n",
              "      <td>420 Main St Apt 42</td>\n",
              "      <td>Agawam</td>\n",
              "      <td>Massachusetts</td>\n",
              "      <td>1001.0</td>\n",
              "      <td>892.000000</td>\n",
              "      <td>2019-04-30</td>\n",
              "      <td>190.470852</td>\n",
              "      <td>1.000000</td>\n",
              "      <td>9530.819866</td>\n",
              "      <td>MA</td>\n",
              "    </tr>\n",
              "    <tr>\n",
              "      <th>3366</th>\n",
              "      <td>for_sale</td>\n",
              "      <td>242000.0</td>\n",
              "      <td>2.000000</td>\n",
              "      <td>2.000000</td>\n",
              "      <td>17.826378</td>\n",
              "      <td>2A Mansion Woods Dr Unit 2A, Agawam, MA, 01001</td>\n",
              "      <td>2A Mansion Woods Dr Unit 2A</td>\n",
              "      <td>Agawam</td>\n",
              "      <td>Massachusetts</td>\n",
              "      <td>1001.0</td>\n",
              "      <td>1428.000000</td>\n",
              "      <td>NaN</td>\n",
              "      <td>169.467787</td>\n",
              "      <td>1.000000</td>\n",
              "      <td>13575.387920</td>\n",
              "      <td>MA</td>\n",
              "    </tr>\n",
              "    <tr>\n",
              "      <th>3367</th>\n",
              "      <td>for_sale</td>\n",
              "      <td>299950.0</td>\n",
              "      <td>2.000000</td>\n",
              "      <td>2.000000</td>\n",
              "      <td>17.826378</td>\n",
              "      <td>19 Castle Hill Rd Unit C, Agawam, MA, 01001</td>\n",
              "      <td>19 Castle Hill Rd Unit C</td>\n",
              "      <td>Agawam</td>\n",
              "      <td>Massachusetts</td>\n",
              "      <td>1001.0</td>\n",
              "      <td>1659.000000</td>\n",
              "      <td>NaN</td>\n",
              "      <td>180.801688</td>\n",
              "      <td>1.000000</td>\n",
              "      <td>16826.188456</td>\n",
              "      <td>MA</td>\n",
              "    </tr>\n",
              "  </tbody>\n",
              "</table>\n",
              "</div>\n",
              "      <button class=\"colab-df-convert\" onclick=\"convertToInteractive('df-6d13c0eb-eb65-4aec-a78c-59891297a4e1')\"\n",
              "              title=\"Convert this dataframe to an interactive table.\"\n",
              "              style=\"display:none;\">\n",
              "        \n",
              "  <svg xmlns=\"http://www.w3.org/2000/svg\" height=\"24px\"viewBox=\"0 0 24 24\"\n",
              "       width=\"24px\">\n",
              "    <path d=\"M0 0h24v24H0V0z\" fill=\"none\"/>\n",
              "    <path d=\"M18.56 5.44l.94 2.06.94-2.06 2.06-.94-2.06-.94-.94-2.06-.94 2.06-2.06.94zm-11 1L8.5 8.5l.94-2.06 2.06-.94-2.06-.94L8.5 2.5l-.94 2.06-2.06.94zm10 10l.94 2.06.94-2.06 2.06-.94-2.06-.94-.94-2.06-.94 2.06-2.06.94z\"/><path d=\"M17.41 7.96l-1.37-1.37c-.4-.4-.92-.59-1.43-.59-.52 0-1.04.2-1.43.59L10.3 9.45l-7.72 7.72c-.78.78-.78 2.05 0 2.83L4 21.41c.39.39.9.59 1.41.59.51 0 1.02-.2 1.41-.59l7.78-7.78 2.81-2.81c.8-.78.8-2.07 0-2.86zM5.41 20L4 18.59l7.72-7.72 1.47 1.35L5.41 20z\"/>\n",
              "  </svg>\n",
              "      </button>\n",
              "      \n",
              "  <style>\n",
              "    .colab-df-container {\n",
              "      display:flex;\n",
              "      flex-wrap:wrap;\n",
              "      gap: 12px;\n",
              "    }\n",
              "\n",
              "    .colab-df-convert {\n",
              "      background-color: #E8F0FE;\n",
              "      border: none;\n",
              "      border-radius: 50%;\n",
              "      cursor: pointer;\n",
              "      display: none;\n",
              "      fill: #1967D2;\n",
              "      height: 32px;\n",
              "      padding: 0 0 0 0;\n",
              "      width: 32px;\n",
              "    }\n",
              "\n",
              "    .colab-df-convert:hover {\n",
              "      background-color: #E2EBFA;\n",
              "      box-shadow: 0px 1px 2px rgba(60, 64, 67, 0.3), 0px 1px 3px 1px rgba(60, 64, 67, 0.15);\n",
              "      fill: #174EA6;\n",
              "    }\n",
              "\n",
              "    [theme=dark] .colab-df-convert {\n",
              "      background-color: #3B4455;\n",
              "      fill: #D2E3FC;\n",
              "    }\n",
              "\n",
              "    [theme=dark] .colab-df-convert:hover {\n",
              "      background-color: #434B5C;\n",
              "      box-shadow: 0px 1px 3px 1px rgba(0, 0, 0, 0.15);\n",
              "      filter: drop-shadow(0px 1px 2px rgba(0, 0, 0, 0.3));\n",
              "      fill: #FFFFFF;\n",
              "    }\n",
              "  </style>\n",
              "\n",
              "      <script>\n",
              "        const buttonEl =\n",
              "          document.querySelector('#df-6d13c0eb-eb65-4aec-a78c-59891297a4e1 button.colab-df-convert');\n",
              "        buttonEl.style.display =\n",
              "          google.colab.kernel.accessAllowed ? 'block' : 'none';\n",
              "\n",
              "        async function convertToInteractive(key) {\n",
              "          const element = document.querySelector('#df-6d13c0eb-eb65-4aec-a78c-59891297a4e1');\n",
              "          const dataTable =\n",
              "            await google.colab.kernel.invokeFunction('convertToInteractive',\n",
              "                                                     [key], {});\n",
              "          if (!dataTable) return;\n",
              "\n",
              "          const docLinkHtml = 'Like what you see? Visit the ' +\n",
              "            '<a target=\"_blank\" href=https://colab.research.google.com/notebooks/data_table.ipynb>data table notebook</a>'\n",
              "            + ' to learn more about interactive tables.';\n",
              "          element.innerHTML = '';\n",
              "          dataTable['output_type'] = 'display_data';\n",
              "          await google.colab.output.renderOutput(dataTable, element);\n",
              "          const docLink = document.createElement('div');\n",
              "          docLink.innerHTML = docLinkHtml;\n",
              "          element.appendChild(docLink);\n",
              "        }\n",
              "      </script>\n",
              "    </div>\n",
              "  </div>\n",
              "  "
            ]
          },
          "metadata": {},
          "execution_count": 40
        }
      ]
    },
    {
      "cell_type": "code",
      "source": [
        "import pandas as pd\n",
        "import numpy as np\n",
        "\n",
        "data = real_estate_data_copy.groupby('state_abbrev')['price_sqft'].agg(np.mean)\n",
        "average_pricesqft_state = pd.DataFrame(data).reset_index()\n",
        "average_pricesqft_state"
      ],
      "metadata": {
        "id": "pJKEakwpzsUT",
        "outputId": "325bfa9b-fb3f-4f6d-9b25-2e879e23d3f3",
        "colab": {
          "base_uri": "https://localhost:8080/"
        }
      },
      "execution_count": null,
      "outputs": [
        {
          "output_type": "execute_result",
          "data": {
            "text/plain": [
              "  state_abbrev  price_sqft\n",
              "0           CT  239.815655\n",
              "1           DE  178.830845\n",
              "2           MA  390.855834\n",
              "3           ME  164.683684\n",
              "4           NH  213.425124\n",
              "5           NJ  267.653623\n",
              "6           NY  560.550247\n",
              "7           PA  223.665107\n",
              "8           RI  275.236422\n",
              "9           VT  188.557076"
            ],
            "text/html": [
              "\n",
              "  <div id=\"df-d7f7eb2f-9dbb-4ff3-83a0-2a51b2ee8c70\">\n",
              "    <div class=\"colab-df-container\">\n",
              "      <div>\n",
              "<style scoped>\n",
              "    .dataframe tbody tr th:only-of-type {\n",
              "        vertical-align: middle;\n",
              "    }\n",
              "\n",
              "    .dataframe tbody tr th {\n",
              "        vertical-align: top;\n",
              "    }\n",
              "\n",
              "    .dataframe thead th {\n",
              "        text-align: right;\n",
              "    }\n",
              "</style>\n",
              "<table border=\"1\" class=\"dataframe\">\n",
              "  <thead>\n",
              "    <tr style=\"text-align: right;\">\n",
              "      <th></th>\n",
              "      <th>state_abbrev</th>\n",
              "      <th>price_sqft</th>\n",
              "    </tr>\n",
              "  </thead>\n",
              "  <tbody>\n",
              "    <tr>\n",
              "      <th>0</th>\n",
              "      <td>CT</td>\n",
              "      <td>239.815655</td>\n",
              "    </tr>\n",
              "    <tr>\n",
              "      <th>1</th>\n",
              "      <td>DE</td>\n",
              "      <td>178.830845</td>\n",
              "    </tr>\n",
              "    <tr>\n",
              "      <th>2</th>\n",
              "      <td>MA</td>\n",
              "      <td>390.855834</td>\n",
              "    </tr>\n",
              "    <tr>\n",
              "      <th>3</th>\n",
              "      <td>ME</td>\n",
              "      <td>164.683684</td>\n",
              "    </tr>\n",
              "    <tr>\n",
              "      <th>4</th>\n",
              "      <td>NH</td>\n",
              "      <td>213.425124</td>\n",
              "    </tr>\n",
              "    <tr>\n",
              "      <th>5</th>\n",
              "      <td>NJ</td>\n",
              "      <td>267.653623</td>\n",
              "    </tr>\n",
              "    <tr>\n",
              "      <th>6</th>\n",
              "      <td>NY</td>\n",
              "      <td>560.550247</td>\n",
              "    </tr>\n",
              "    <tr>\n",
              "      <th>7</th>\n",
              "      <td>PA</td>\n",
              "      <td>223.665107</td>\n",
              "    </tr>\n",
              "    <tr>\n",
              "      <th>8</th>\n",
              "      <td>RI</td>\n",
              "      <td>275.236422</td>\n",
              "    </tr>\n",
              "    <tr>\n",
              "      <th>9</th>\n",
              "      <td>VT</td>\n",
              "      <td>188.557076</td>\n",
              "    </tr>\n",
              "  </tbody>\n",
              "</table>\n",
              "</div>\n",
              "      <button class=\"colab-df-convert\" onclick=\"convertToInteractive('df-d7f7eb2f-9dbb-4ff3-83a0-2a51b2ee8c70')\"\n",
              "              title=\"Convert this dataframe to an interactive table.\"\n",
              "              style=\"display:none;\">\n",
              "        \n",
              "  <svg xmlns=\"http://www.w3.org/2000/svg\" height=\"24px\"viewBox=\"0 0 24 24\"\n",
              "       width=\"24px\">\n",
              "    <path d=\"M0 0h24v24H0V0z\" fill=\"none\"/>\n",
              "    <path d=\"M18.56 5.44l.94 2.06.94-2.06 2.06-.94-2.06-.94-.94-2.06-.94 2.06-2.06.94zm-11 1L8.5 8.5l.94-2.06 2.06-.94-2.06-.94L8.5 2.5l-.94 2.06-2.06.94zm10 10l.94 2.06.94-2.06 2.06-.94-2.06-.94-.94-2.06-.94 2.06-2.06.94z\"/><path d=\"M17.41 7.96l-1.37-1.37c-.4-.4-.92-.59-1.43-.59-.52 0-1.04.2-1.43.59L10.3 9.45l-7.72 7.72c-.78.78-.78 2.05 0 2.83L4 21.41c.39.39.9.59 1.41.59.51 0 1.02-.2 1.41-.59l7.78-7.78 2.81-2.81c.8-.78.8-2.07 0-2.86zM5.41 20L4 18.59l7.72-7.72 1.47 1.35L5.41 20z\"/>\n",
              "  </svg>\n",
              "      </button>\n",
              "      \n",
              "  <style>\n",
              "    .colab-df-container {\n",
              "      display:flex;\n",
              "      flex-wrap:wrap;\n",
              "      gap: 12px;\n",
              "    }\n",
              "\n",
              "    .colab-df-convert {\n",
              "      background-color: #E8F0FE;\n",
              "      border: none;\n",
              "      border-radius: 50%;\n",
              "      cursor: pointer;\n",
              "      display: none;\n",
              "      fill: #1967D2;\n",
              "      height: 32px;\n",
              "      padding: 0 0 0 0;\n",
              "      width: 32px;\n",
              "    }\n",
              "\n",
              "    .colab-df-convert:hover {\n",
              "      background-color: #E2EBFA;\n",
              "      box-shadow: 0px 1px 2px rgba(60, 64, 67, 0.3), 0px 1px 3px 1px rgba(60, 64, 67, 0.15);\n",
              "      fill: #174EA6;\n",
              "    }\n",
              "\n",
              "    [theme=dark] .colab-df-convert {\n",
              "      background-color: #3B4455;\n",
              "      fill: #D2E3FC;\n",
              "    }\n",
              "\n",
              "    [theme=dark] .colab-df-convert:hover {\n",
              "      background-color: #434B5C;\n",
              "      box-shadow: 0px 1px 3px 1px rgba(0, 0, 0, 0.15);\n",
              "      filter: drop-shadow(0px 1px 2px rgba(0, 0, 0, 0.3));\n",
              "      fill: #FFFFFF;\n",
              "    }\n",
              "  </style>\n",
              "\n",
              "      <script>\n",
              "        const buttonEl =\n",
              "          document.querySelector('#df-d7f7eb2f-9dbb-4ff3-83a0-2a51b2ee8c70 button.colab-df-convert');\n",
              "        buttonEl.style.display =\n",
              "          google.colab.kernel.accessAllowed ? 'block' : 'none';\n",
              "\n",
              "        async function convertToInteractive(key) {\n",
              "          const element = document.querySelector('#df-d7f7eb2f-9dbb-4ff3-83a0-2a51b2ee8c70');\n",
              "          const dataTable =\n",
              "            await google.colab.kernel.invokeFunction('convertToInteractive',\n",
              "                                                     [key], {});\n",
              "          if (!dataTable) return;\n",
              "\n",
              "          const docLinkHtml = 'Like what you see? Visit the ' +\n",
              "            '<a target=\"_blank\" href=https://colab.research.google.com/notebooks/data_table.ipynb>data table notebook</a>'\n",
              "            + ' to learn more about interactive tables.';\n",
              "          element.innerHTML = '';\n",
              "          dataTable['output_type'] = 'display_data';\n",
              "          await google.colab.output.renderOutput(dataTable, element);\n",
              "          const docLink = document.createElement('div');\n",
              "          docLink.innerHTML = docLinkHtml;\n",
              "          element.appendChild(docLink);\n",
              "        }\n",
              "      </script>\n",
              "    </div>\n",
              "  </div>\n",
              "  "
            ]
          },
          "metadata": {},
          "execution_count": 41
        }
      ]
    },
    {
      "cell_type": "code",
      "source": [
        "import plotly.express as px\n",
        "fig = px.choropleth(average_pricesqft_state,\n",
        "                    locations=\"state_abbrev\", \n",
        "                    locationmode=\"USA-states\", \n",
        "                    scope=\"usa\",\n",
        "                    color=\"price_sqft\",\n",
        "                    color_continuous_scale=\"Viridis_r\", \n",
        "    \n",
        "                    )\n",
        "fig.update_geos(fitbounds=\"locations\")\n",
        "fig.show()"
      ],
      "metadata": {
        "id": "pgCQ6P_3CbgR",
        "outputId": "882f0bbb-2c7f-437e-bbd6-6e2d41c62bc6",
        "colab": {
          "base_uri": "https://localhost:8080/"
        }
      },
      "execution_count": null,
      "outputs": [
        {
          "output_type": "display_data",
          "data": {
            "text/html": [
              "<html>\n",
              "<head><meta charset=\"utf-8\" /></head>\n",
              "<body>\n",
              "    <div>            <script src=\"https://cdnjs.cloudflare.com/ajax/libs/mathjax/2.7.5/MathJax.js?config=TeX-AMS-MML_SVG\"></script><script type=\"text/javascript\">if (window.MathJax) {MathJax.Hub.Config({SVG: {font: \"STIX-Web\"}});}</script>                <script type=\"text/javascript\">window.PlotlyConfig = {MathJaxConfig: 'local'};</script>\n",
              "        <script src=\"https://cdn.plot.ly/plotly-2.8.3.min.js\"></script>                <div id=\"d3eab9b4-5a91-4d19-93ae-acaf0943a8e4\" class=\"plotly-graph-div\" style=\"height:525px; width:100%;\"></div>            <script type=\"text/javascript\">                                    window.PLOTLYENV=window.PLOTLYENV || {};                                    if (document.getElementById(\"d3eab9b4-5a91-4d19-93ae-acaf0943a8e4\")) {                    Plotly.newPlot(                        \"d3eab9b4-5a91-4d19-93ae-acaf0943a8e4\",                        [{\"coloraxis\":\"coloraxis\",\"geo\":\"geo\",\"hovertemplate\":\"state_abbrev=%{location}<br>price_sqft=%{z}<extra></extra>\",\"locationmode\":\"USA-states\",\"locations\":[\"CT\",\"DE\",\"MA\",\"ME\",\"NH\",\"NJ\",\"NY\",\"PA\",\"RI\",\"VT\"],\"name\":\"\",\"z\":[239.8156547801704,178.8308447871986,390.8558341675051,164.68368369592173,213.4251237007585,267.65362329296494,560.5502472715311,223.66510740494033,275.2364219971861,188.55707551719485],\"type\":\"choropleth\"}],                        {\"template\":{\"data\":{\"bar\":[{\"error_x\":{\"color\":\"#2a3f5f\"},\"error_y\":{\"color\":\"#2a3f5f\"},\"marker\":{\"line\":{\"color\":\"#E5ECF6\",\"width\":0.5},\"pattern\":{\"fillmode\":\"overlay\",\"size\":10,\"solidity\":0.2}},\"type\":\"bar\"}],\"barpolar\":[{\"marker\":{\"line\":{\"color\":\"#E5ECF6\",\"width\":0.5},\"pattern\":{\"fillmode\":\"overlay\",\"size\":10,\"solidity\":0.2}},\"type\":\"barpolar\"}],\"carpet\":[{\"aaxis\":{\"endlinecolor\":\"#2a3f5f\",\"gridcolor\":\"white\",\"linecolor\":\"white\",\"minorgridcolor\":\"white\",\"startlinecolor\":\"#2a3f5f\"},\"baxis\":{\"endlinecolor\":\"#2a3f5f\",\"gridcolor\":\"white\",\"linecolor\":\"white\",\"minorgridcolor\":\"white\",\"startlinecolor\":\"#2a3f5f\"},\"type\":\"carpet\"}],\"choropleth\":[{\"colorbar\":{\"outlinewidth\":0,\"ticks\":\"\"},\"type\":\"choropleth\"}],\"contour\":[{\"colorbar\":{\"outlinewidth\":0,\"ticks\":\"\"},\"colorscale\":[[0.0,\"#0d0887\"],[0.1111111111111111,\"#46039f\"],[0.2222222222222222,\"#7201a8\"],[0.3333333333333333,\"#9c179e\"],[0.4444444444444444,\"#bd3786\"],[0.5555555555555556,\"#d8576b\"],[0.6666666666666666,\"#ed7953\"],[0.7777777777777778,\"#fb9f3a\"],[0.8888888888888888,\"#fdca26\"],[1.0,\"#f0f921\"]],\"type\":\"contour\"}],\"contourcarpet\":[{\"colorbar\":{\"outlinewidth\":0,\"ticks\":\"\"},\"type\":\"contourcarpet\"}],\"heatmap\":[{\"colorbar\":{\"outlinewidth\":0,\"ticks\":\"\"},\"colorscale\":[[0.0,\"#0d0887\"],[0.1111111111111111,\"#46039f\"],[0.2222222222222222,\"#7201a8\"],[0.3333333333333333,\"#9c179e\"],[0.4444444444444444,\"#bd3786\"],[0.5555555555555556,\"#d8576b\"],[0.6666666666666666,\"#ed7953\"],[0.7777777777777778,\"#fb9f3a\"],[0.8888888888888888,\"#fdca26\"],[1.0,\"#f0f921\"]],\"type\":\"heatmap\"}],\"heatmapgl\":[{\"colorbar\":{\"outlinewidth\":0,\"ticks\":\"\"},\"colorscale\":[[0.0,\"#0d0887\"],[0.1111111111111111,\"#46039f\"],[0.2222222222222222,\"#7201a8\"],[0.3333333333333333,\"#9c179e\"],[0.4444444444444444,\"#bd3786\"],[0.5555555555555556,\"#d8576b\"],[0.6666666666666666,\"#ed7953\"],[0.7777777777777778,\"#fb9f3a\"],[0.8888888888888888,\"#fdca26\"],[1.0,\"#f0f921\"]],\"type\":\"heatmapgl\"}],\"histogram\":[{\"marker\":{\"pattern\":{\"fillmode\":\"overlay\",\"size\":10,\"solidity\":0.2}},\"type\":\"histogram\"}],\"histogram2d\":[{\"colorbar\":{\"outlinewidth\":0,\"ticks\":\"\"},\"colorscale\":[[0.0,\"#0d0887\"],[0.1111111111111111,\"#46039f\"],[0.2222222222222222,\"#7201a8\"],[0.3333333333333333,\"#9c179e\"],[0.4444444444444444,\"#bd3786\"],[0.5555555555555556,\"#d8576b\"],[0.6666666666666666,\"#ed7953\"],[0.7777777777777778,\"#fb9f3a\"],[0.8888888888888888,\"#fdca26\"],[1.0,\"#f0f921\"]],\"type\":\"histogram2d\"}],\"histogram2dcontour\":[{\"colorbar\":{\"outlinewidth\":0,\"ticks\":\"\"},\"colorscale\":[[0.0,\"#0d0887\"],[0.1111111111111111,\"#46039f\"],[0.2222222222222222,\"#7201a8\"],[0.3333333333333333,\"#9c179e\"],[0.4444444444444444,\"#bd3786\"],[0.5555555555555556,\"#d8576b\"],[0.6666666666666666,\"#ed7953\"],[0.7777777777777778,\"#fb9f3a\"],[0.8888888888888888,\"#fdca26\"],[1.0,\"#f0f921\"]],\"type\":\"histogram2dcontour\"}],\"mesh3d\":[{\"colorbar\":{\"outlinewidth\":0,\"ticks\":\"\"},\"type\":\"mesh3d\"}],\"parcoords\":[{\"line\":{\"colorbar\":{\"outlinewidth\":0,\"ticks\":\"\"}},\"type\":\"parcoords\"}],\"pie\":[{\"automargin\":true,\"type\":\"pie\"}],\"scatter\":[{\"marker\":{\"colorbar\":{\"outlinewidth\":0,\"ticks\":\"\"}},\"type\":\"scatter\"}],\"scatter3d\":[{\"line\":{\"colorbar\":{\"outlinewidth\":0,\"ticks\":\"\"}},\"marker\":{\"colorbar\":{\"outlinewidth\":0,\"ticks\":\"\"}},\"type\":\"scatter3d\"}],\"scattercarpet\":[{\"marker\":{\"colorbar\":{\"outlinewidth\":0,\"ticks\":\"\"}},\"type\":\"scattercarpet\"}],\"scattergeo\":[{\"marker\":{\"colorbar\":{\"outlinewidth\":0,\"ticks\":\"\"}},\"type\":\"scattergeo\"}],\"scattergl\":[{\"marker\":{\"colorbar\":{\"outlinewidth\":0,\"ticks\":\"\"}},\"type\":\"scattergl\"}],\"scattermapbox\":[{\"marker\":{\"colorbar\":{\"outlinewidth\":0,\"ticks\":\"\"}},\"type\":\"scattermapbox\"}],\"scatterpolar\":[{\"marker\":{\"colorbar\":{\"outlinewidth\":0,\"ticks\":\"\"}},\"type\":\"scatterpolar\"}],\"scatterpolargl\":[{\"marker\":{\"colorbar\":{\"outlinewidth\":0,\"ticks\":\"\"}},\"type\":\"scatterpolargl\"}],\"scatterternary\":[{\"marker\":{\"colorbar\":{\"outlinewidth\":0,\"ticks\":\"\"}},\"type\":\"scatterternary\"}],\"surface\":[{\"colorbar\":{\"outlinewidth\":0,\"ticks\":\"\"},\"colorscale\":[[0.0,\"#0d0887\"],[0.1111111111111111,\"#46039f\"],[0.2222222222222222,\"#7201a8\"],[0.3333333333333333,\"#9c179e\"],[0.4444444444444444,\"#bd3786\"],[0.5555555555555556,\"#d8576b\"],[0.6666666666666666,\"#ed7953\"],[0.7777777777777778,\"#fb9f3a\"],[0.8888888888888888,\"#fdca26\"],[1.0,\"#f0f921\"]],\"type\":\"surface\"}],\"table\":[{\"cells\":{\"fill\":{\"color\":\"#EBF0F8\"},\"line\":{\"color\":\"white\"}},\"header\":{\"fill\":{\"color\":\"#C8D4E3\"},\"line\":{\"color\":\"white\"}},\"type\":\"table\"}]},\"layout\":{\"annotationdefaults\":{\"arrowcolor\":\"#2a3f5f\",\"arrowhead\":0,\"arrowwidth\":1},\"autotypenumbers\":\"strict\",\"coloraxis\":{\"colorbar\":{\"outlinewidth\":0,\"ticks\":\"\"}},\"colorscale\":{\"diverging\":[[0,\"#8e0152\"],[0.1,\"#c51b7d\"],[0.2,\"#de77ae\"],[0.3,\"#f1b6da\"],[0.4,\"#fde0ef\"],[0.5,\"#f7f7f7\"],[0.6,\"#e6f5d0\"],[0.7,\"#b8e186\"],[0.8,\"#7fbc41\"],[0.9,\"#4d9221\"],[1,\"#276419\"]],\"sequential\":[[0.0,\"#0d0887\"],[0.1111111111111111,\"#46039f\"],[0.2222222222222222,\"#7201a8\"],[0.3333333333333333,\"#9c179e\"],[0.4444444444444444,\"#bd3786\"],[0.5555555555555556,\"#d8576b\"],[0.6666666666666666,\"#ed7953\"],[0.7777777777777778,\"#fb9f3a\"],[0.8888888888888888,\"#fdca26\"],[1.0,\"#f0f921\"]],\"sequentialminus\":[[0.0,\"#0d0887\"],[0.1111111111111111,\"#46039f\"],[0.2222222222222222,\"#7201a8\"],[0.3333333333333333,\"#9c179e\"],[0.4444444444444444,\"#bd3786\"],[0.5555555555555556,\"#d8576b\"],[0.6666666666666666,\"#ed7953\"],[0.7777777777777778,\"#fb9f3a\"],[0.8888888888888888,\"#fdca26\"],[1.0,\"#f0f921\"]]},\"colorway\":[\"#636efa\",\"#EF553B\",\"#00cc96\",\"#ab63fa\",\"#FFA15A\",\"#19d3f3\",\"#FF6692\",\"#B6E880\",\"#FF97FF\",\"#FECB52\"],\"font\":{\"color\":\"#2a3f5f\"},\"geo\":{\"bgcolor\":\"white\",\"lakecolor\":\"white\",\"landcolor\":\"#E5ECF6\",\"showlakes\":true,\"showland\":true,\"subunitcolor\":\"white\"},\"hoverlabel\":{\"align\":\"left\"},\"hovermode\":\"closest\",\"mapbox\":{\"style\":\"light\"},\"paper_bgcolor\":\"white\",\"plot_bgcolor\":\"#E5ECF6\",\"polar\":{\"angularaxis\":{\"gridcolor\":\"white\",\"linecolor\":\"white\",\"ticks\":\"\"},\"bgcolor\":\"#E5ECF6\",\"radialaxis\":{\"gridcolor\":\"white\",\"linecolor\":\"white\",\"ticks\":\"\"}},\"scene\":{\"xaxis\":{\"backgroundcolor\":\"#E5ECF6\",\"gridcolor\":\"white\",\"gridwidth\":2,\"linecolor\":\"white\",\"showbackground\":true,\"ticks\":\"\",\"zerolinecolor\":\"white\"},\"yaxis\":{\"backgroundcolor\":\"#E5ECF6\",\"gridcolor\":\"white\",\"gridwidth\":2,\"linecolor\":\"white\",\"showbackground\":true,\"ticks\":\"\",\"zerolinecolor\":\"white\"},\"zaxis\":{\"backgroundcolor\":\"#E5ECF6\",\"gridcolor\":\"white\",\"gridwidth\":2,\"linecolor\":\"white\",\"showbackground\":true,\"ticks\":\"\",\"zerolinecolor\":\"white\"}},\"shapedefaults\":{\"line\":{\"color\":\"#2a3f5f\"}},\"ternary\":{\"aaxis\":{\"gridcolor\":\"white\",\"linecolor\":\"white\",\"ticks\":\"\"},\"baxis\":{\"gridcolor\":\"white\",\"linecolor\":\"white\",\"ticks\":\"\"},\"bgcolor\":\"#E5ECF6\",\"caxis\":{\"gridcolor\":\"white\",\"linecolor\":\"white\",\"ticks\":\"\"}},\"title\":{\"x\":0.05},\"xaxis\":{\"automargin\":true,\"gridcolor\":\"white\",\"linecolor\":\"white\",\"ticks\":\"\",\"title\":{\"standoff\":15},\"zerolinecolor\":\"white\",\"zerolinewidth\":2},\"yaxis\":{\"automargin\":true,\"gridcolor\":\"white\",\"linecolor\":\"white\",\"ticks\":\"\",\"title\":{\"standoff\":15},\"zerolinecolor\":\"white\",\"zerolinewidth\":2}}},\"geo\":{\"domain\":{\"x\":[0.0,1.0],\"y\":[0.0,1.0]},\"center\":{},\"scope\":\"usa\",\"fitbounds\":\"locations\"},\"coloraxis\":{\"colorbar\":{\"title\":{\"text\":\"price_sqft\"}},\"colorscale\":[[0.0,\"#fde725\"],[0.1111111111111111,\"#b5de2b\"],[0.2222222222222222,\"#6ece58\"],[0.3333333333333333,\"#35b779\"],[0.4444444444444444,\"#1f9e89\"],[0.5555555555555556,\"#26828e\"],[0.6666666666666666,\"#31688e\"],[0.7777777777777778,\"#3e4989\"],[0.8888888888888888,\"#482878\"],[1.0,\"#440154\"]]},\"legend\":{\"tracegroupgap\":0},\"margin\":{\"t\":60}},                        {\"responsive\": true}                    ).then(function(){\n",
              "                            \n",
              "var gd = document.getElementById('d3eab9b4-5a91-4d19-93ae-acaf0943a8e4');\n",
              "var x = new MutationObserver(function (mutations, observer) {{\n",
              "        var display = window.getComputedStyle(gd).display;\n",
              "        if (!display || display === 'none') {{\n",
              "            console.log([gd, 'removed!']);\n",
              "            Plotly.purge(gd);\n",
              "            observer.disconnect();\n",
              "        }}\n",
              "}});\n",
              "\n",
              "// Listen for the removal of the full notebook cells\n",
              "var notebookContainer = gd.closest('#notebook-container');\n",
              "if (notebookContainer) {{\n",
              "    x.observe(notebookContainer, {childList: true});\n",
              "}}\n",
              "\n",
              "// Listen for the clearing of the current output cell\n",
              "var outputEl = gd.closest('.output');\n",
              "if (outputEl) {{\n",
              "    x.observe(outputEl, {childList: true});\n",
              "}}\n",
              "\n",
              "                        })                };                            </script>        </div>\n",
              "</body>\n",
              "</html>"
            ]
          },
          "metadata": {}
        }
      ]
    },
    {
      "cell_type": "code",
      "source": [
        "# cities of certain state\n",
        "nj_cities = real_estate_data_copy[real_estate_data_copy['state_abbrev'] == 'NJ']\n",
        "nj_df = nj_cities.groupby('city')['price_sqft'].agg(np.mean).reset_index()\n",
        "nj_df"
      ],
      "metadata": {
        "colab": {
          "base_uri": "https://localhost:8080/"
        },
        "id": "FAHuW-Y3tQP5",
        "outputId": "3fff6e3e-91ba-49b2-ab05-dbd5a43428c4"
      },
      "execution_count": null,
      "outputs": [
        {
          "output_type": "execute_result",
          "data": {
            "text/plain": [
              "                    city  price_sqft\n",
              "0               Aberdeen  219.081974\n",
              "1                Absecon  140.753885\n",
              "2      Absecon Highlands   41.229446\n",
              "3               Adelphia  157.042496\n",
              "4    Alexandria Township  146.448452\n",
              "..                   ...         ...\n",
              "754            Woodlynne  109.058517\n",
              "755            Woodstown  130.059321\n",
              "756    Woolwich Township  154.509774\n",
              "757          Wrightstown  142.234469\n",
              "758              Wyckoff  431.743618\n",
              "\n",
              "[759 rows x 2 columns]"
            ],
            "text/html": [
              "\n",
              "  <div id=\"df-3b5da6f5-6264-496c-aaaa-36cb63939dee\">\n",
              "    <div class=\"colab-df-container\">\n",
              "      <div>\n",
              "<style scoped>\n",
              "    .dataframe tbody tr th:only-of-type {\n",
              "        vertical-align: middle;\n",
              "    }\n",
              "\n",
              "    .dataframe tbody tr th {\n",
              "        vertical-align: top;\n",
              "    }\n",
              "\n",
              "    .dataframe thead th {\n",
              "        text-align: right;\n",
              "    }\n",
              "</style>\n",
              "<table border=\"1\" class=\"dataframe\">\n",
              "  <thead>\n",
              "    <tr style=\"text-align: right;\">\n",
              "      <th></th>\n",
              "      <th>city</th>\n",
              "      <th>price_sqft</th>\n",
              "    </tr>\n",
              "  </thead>\n",
              "  <tbody>\n",
              "    <tr>\n",
              "      <th>0</th>\n",
              "      <td>Aberdeen</td>\n",
              "      <td>219.081974</td>\n",
              "    </tr>\n",
              "    <tr>\n",
              "      <th>1</th>\n",
              "      <td>Absecon</td>\n",
              "      <td>140.753885</td>\n",
              "    </tr>\n",
              "    <tr>\n",
              "      <th>2</th>\n",
              "      <td>Absecon Highlands</td>\n",
              "      <td>41.229446</td>\n",
              "    </tr>\n",
              "    <tr>\n",
              "      <th>3</th>\n",
              "      <td>Adelphia</td>\n",
              "      <td>157.042496</td>\n",
              "    </tr>\n",
              "    <tr>\n",
              "      <th>4</th>\n",
              "      <td>Alexandria Township</td>\n",
              "      <td>146.448452</td>\n",
              "    </tr>\n",
              "    <tr>\n",
              "      <th>...</th>\n",
              "      <td>...</td>\n",
              "      <td>...</td>\n",
              "    </tr>\n",
              "    <tr>\n",
              "      <th>754</th>\n",
              "      <td>Woodlynne</td>\n",
              "      <td>109.058517</td>\n",
              "    </tr>\n",
              "    <tr>\n",
              "      <th>755</th>\n",
              "      <td>Woodstown</td>\n",
              "      <td>130.059321</td>\n",
              "    </tr>\n",
              "    <tr>\n",
              "      <th>756</th>\n",
              "      <td>Woolwich Township</td>\n",
              "      <td>154.509774</td>\n",
              "    </tr>\n",
              "    <tr>\n",
              "      <th>757</th>\n",
              "      <td>Wrightstown</td>\n",
              "      <td>142.234469</td>\n",
              "    </tr>\n",
              "    <tr>\n",
              "      <th>758</th>\n",
              "      <td>Wyckoff</td>\n",
              "      <td>431.743618</td>\n",
              "    </tr>\n",
              "  </tbody>\n",
              "</table>\n",
              "<p>759 rows × 2 columns</p>\n",
              "</div>\n",
              "      <button class=\"colab-df-convert\" onclick=\"convertToInteractive('df-3b5da6f5-6264-496c-aaaa-36cb63939dee')\"\n",
              "              title=\"Convert this dataframe to an interactive table.\"\n",
              "              style=\"display:none;\">\n",
              "        \n",
              "  <svg xmlns=\"http://www.w3.org/2000/svg\" height=\"24px\"viewBox=\"0 0 24 24\"\n",
              "       width=\"24px\">\n",
              "    <path d=\"M0 0h24v24H0V0z\" fill=\"none\"/>\n",
              "    <path d=\"M18.56 5.44l.94 2.06.94-2.06 2.06-.94-2.06-.94-.94-2.06-.94 2.06-2.06.94zm-11 1L8.5 8.5l.94-2.06 2.06-.94-2.06-.94L8.5 2.5l-.94 2.06-2.06.94zm10 10l.94 2.06.94-2.06 2.06-.94-2.06-.94-.94-2.06-.94 2.06-2.06.94z\"/><path d=\"M17.41 7.96l-1.37-1.37c-.4-.4-.92-.59-1.43-.59-.52 0-1.04.2-1.43.59L10.3 9.45l-7.72 7.72c-.78.78-.78 2.05 0 2.83L4 21.41c.39.39.9.59 1.41.59.51 0 1.02-.2 1.41-.59l7.78-7.78 2.81-2.81c.8-.78.8-2.07 0-2.86zM5.41 20L4 18.59l7.72-7.72 1.47 1.35L5.41 20z\"/>\n",
              "  </svg>\n",
              "      </button>\n",
              "      \n",
              "  <style>\n",
              "    .colab-df-container {\n",
              "      display:flex;\n",
              "      flex-wrap:wrap;\n",
              "      gap: 12px;\n",
              "    }\n",
              "\n",
              "    .colab-df-convert {\n",
              "      background-color: #E8F0FE;\n",
              "      border: none;\n",
              "      border-radius: 50%;\n",
              "      cursor: pointer;\n",
              "      display: none;\n",
              "      fill: #1967D2;\n",
              "      height: 32px;\n",
              "      padding: 0 0 0 0;\n",
              "      width: 32px;\n",
              "    }\n",
              "\n",
              "    .colab-df-convert:hover {\n",
              "      background-color: #E2EBFA;\n",
              "      box-shadow: 0px 1px 2px rgba(60, 64, 67, 0.3), 0px 1px 3px 1px rgba(60, 64, 67, 0.15);\n",
              "      fill: #174EA6;\n",
              "    }\n",
              "\n",
              "    [theme=dark] .colab-df-convert {\n",
              "      background-color: #3B4455;\n",
              "      fill: #D2E3FC;\n",
              "    }\n",
              "\n",
              "    [theme=dark] .colab-df-convert:hover {\n",
              "      background-color: #434B5C;\n",
              "      box-shadow: 0px 1px 3px 1px rgba(0, 0, 0, 0.15);\n",
              "      filter: drop-shadow(0px 1px 2px rgba(0, 0, 0, 0.3));\n",
              "      fill: #FFFFFF;\n",
              "    }\n",
              "  </style>\n",
              "\n",
              "      <script>\n",
              "        const buttonEl =\n",
              "          document.querySelector('#df-3b5da6f5-6264-496c-aaaa-36cb63939dee button.colab-df-convert');\n",
              "        buttonEl.style.display =\n",
              "          google.colab.kernel.accessAllowed ? 'block' : 'none';\n",
              "\n",
              "        async function convertToInteractive(key) {\n",
              "          const element = document.querySelector('#df-3b5da6f5-6264-496c-aaaa-36cb63939dee');\n",
              "          const dataTable =\n",
              "            await google.colab.kernel.invokeFunction('convertToInteractive',\n",
              "                                                     [key], {});\n",
              "          if (!dataTable) return;\n",
              "\n",
              "          const docLinkHtml = 'Like what you see? Visit the ' +\n",
              "            '<a target=\"_blank\" href=https://colab.research.google.com/notebooks/data_table.ipynb>data table notebook</a>'\n",
              "            + ' to learn more about interactive tables.';\n",
              "          element.innerHTML = '';\n",
              "          dataTable['output_type'] = 'display_data';\n",
              "          await google.colab.output.renderOutput(dataTable, element);\n",
              "          const docLink = document.createElement('div');\n",
              "          docLink.innerHTML = docLinkHtml;\n",
              "          element.appendChild(docLink);\n",
              "        }\n",
              "      </script>\n",
              "    </div>\n",
              "  </div>\n",
              "  "
            ]
          },
          "metadata": {},
          "execution_count": 43
        }
      ]
    },
    {
      "cell_type": "markdown",
      "source": [
        "# Find a home function (state)"
      ],
      "metadata": {
        "id": "lzdTDQOEg6TS"
      }
    },
    {
      "cell_type": "code",
      "source": [
        "# place with lowest average price with given bedroom number\n",
        "n = 3\n",
        "\n",
        "rlst_df = real_estate_data_copy.loc[real_estate_data_copy['bed'] == n].sort_values(by= 'price',ascending=True)\n",
        "top100_info = rlst_df.iloc[0:25]\n",
        "top100_info['state'].value_counts()"
      ],
      "metadata": {
        "id": "BxUYrCxfiNzc",
        "outputId": "76d399af-8446-443d-b6af-bf77e6848b64",
        "colab": {
          "base_uri": "https://localhost:8080/"
        }
      },
      "execution_count": null,
      "outputs": [
        {
          "output_type": "execute_result",
          "data": {
            "text/plain": [
              "New Jersey       6\n",
              "New York         5\n",
              "Maine            4\n",
              "Delaware         4\n",
              "Pennsylvania     3\n",
              "Massachusetts    2\n",
              "Vermont          1\n",
              "Name: state, dtype: int64"
            ]
          },
          "metadata": {},
          "execution_count": 44
        }
      ]
    },
    {
      "cell_type": "code",
      "source": [
        "# States in the top ten of price per sqft, number of bedroom, number of bathrooms \n",
        "a = real_estate_data_copy.groupby('state')['price_sqft'].agg(np.mean).round(2).sort_values(ascending = True)[:8].index.tolist()\n",
        "b = real_estate_data_copy.groupby('state')['bed'].agg(np.mean).round(2).sort_values(ascending = False)[:8].index.tolist()\n",
        "c = real_estate_data_copy.groupby('state')['bath'].agg(np.mean).round(2).sort_values(ascending = False)[:8].index.tolist()\n",
        "common_elements = list(set.intersection(*map(set, [ a, b, c])))\n",
        "common_elements\n"
      ],
      "metadata": {
        "id": "MLC8GcBeJf--",
        "outputId": "09ab6990-9394-496a-cfb1-ff3229e1e5fc",
        "colab": {
          "base_uri": "https://localhost:8080/"
        }
      },
      "execution_count": null,
      "outputs": [
        {
          "output_type": "execute_result",
          "data": {
            "text/plain": [
              "['Vermont', 'Maine', 'Delaware', 'Connecticut', 'New Jersey', 'Rhode Island']"
            ]
          },
          "metadata": {},
          "execution_count": 45
        }
      ]
    },
    {
      "cell_type": "markdown",
      "source": [
        "# Find a home function (city)"
      ],
      "metadata": {
        "id": "zZoM3sBRnn6I"
      }
    },
    {
      "cell_type": "code",
      "source": [
        "real_estate_data_copy.groupby('state')['city'].nunique().sort_values()"
      ],
      "metadata": {
        "colab": {
          "base_uri": "https://localhost:8080/"
        },
        "id": "6oZuztuwoS3S",
        "outputId": "507f62c3-6515-4bb9-af3f-98bfaf22bbf5"
      },
      "execution_count": null,
      "outputs": [
        {
          "output_type": "execute_result",
          "data": {
            "text/plain": [
              "state\n",
              "Delaware          18\n",
              "Rhode Island      39\n",
              "Pennsylvania     147\n",
              "Connecticut      176\n",
              "New Hampshire    232\n",
              "Vermont          241\n",
              "Massachusetts    412\n",
              "New York         475\n",
              "Maine            523\n",
              "New Jersey       759\n",
              "Name: city, dtype: int64"
            ]
          },
          "metadata": {},
          "execution_count": 46
        }
      ]
    },
    {
      "cell_type": "code",
      "source": [
        "# best price per sqft, bed to bath ratio, and acreage in given state\n",
        "def city_finder(state):\n",
        "  state_data = real_estate_data_copy[real_estate_data_copy['state_abbrev'] == state]\n",
        "  a = state_data.groupby('city')['price_sqft'].agg(np.mean).round(2).sort_values(ascending = True)[:100].index.tolist()\n",
        "  b = state_data.groupby('city')['bed'].agg(np.mean).round(2).sort_values(ascending = False)[:100].index.tolist()\n",
        "  c = state_data.groupby('city')['bath'].agg(np.mean).round(2).sort_values(ascending = False)[:100].index.tolist()\n",
        "  common_elements = list(set.intersection(*map(set, [ a, b, c])))\n",
        "  return common_elements\n",
        "\n",
        "city_finder('NJ')"
      ],
      "metadata": {
        "id": "Ll8Nhe_gI79t",
        "outputId": "208160af-7562-4cb4-d821-5e50186c9a87",
        "colab": {
          "base_uri": "https://localhost:8080/"
        }
      },
      "execution_count": null,
      "outputs": [
        {
          "output_type": "execute_result",
          "data": {
            "text/plain": [
              "[]"
            ]
          },
          "metadata": {},
          "execution_count": 47
        }
      ]
    },
    {
      "cell_type": "code",
      "source": [
        "state_data = real_estate_data_copy[real_estate_data_copy['state_abbrev'] == 'NJ']\n",
        "a = state_data.groupby('city')['price_sqft'].agg(np.mean).round(2).sort_values(ascending = True)[:10].index.tolist()\n",
        "b = state_data.groupby('city')['bed'].agg(np.mean).round(2).sort_values(ascending = False)[:10].index.tolist()\n",
        "c = state_data.groupby('city')['bath'].agg(np.mean).round(2).sort_values(ascending = False)[:10].index.tolist()\n",
        "a"
      ],
      "metadata": {
        "id": "16WK9X75AtOK",
        "outputId": "0bed13c8-ed7a-4961-e74a-088c4f98966c",
        "colab": {
          "base_uri": "https://localhost:8080/"
        }
      },
      "execution_count": null,
      "outputs": [
        {
          "output_type": "execute_result",
          "data": {
            "text/plain": [
              "['Port Murray',\n",
              " 'Buena Vista',\n",
              " 'Devonshire',\n",
              " 'Elk Township',\n",
              " 'Berkeley Township',\n",
              " 'Rancocas',\n",
              " 'Upper Deerfield Township',\n",
              " 'Absecon Highlands',\n",
              " 'New Jersey',\n",
              " 'Annandale']"
            ]
          },
          "metadata": {},
          "execution_count": 48
        }
      ]
    },
    {
      "cell_type": "markdown",
      "source": [
        "# Find a home with a budget"
      ],
      "metadata": {
        "id": "GYsBcCrlyYKv"
      }
    },
    {
      "cell_type": "code",
      "source": [
        "\n",
        "# States in the top ten of price per sqft, number of bedroom, number of bathrooms \n",
        "def findhome_onbudget(state, budget):\n",
        "  state_data = real_estate_data_copy[real_estate_data_copy['state_abbrev'] == state]\n",
        "  within_budget = state_data[state_data['price'] <= budget]\n",
        "  a = within_budget.groupby('city')['price_sqft'].agg(np.mean).round(2).sort_values(ascending = True)[:100].index.tolist()\n",
        "  b = within_budget.groupby('city')['bed'].agg(np.mean).round(2).sort_values(ascending = False)[:100].index.tolist()\n",
        "  c = within_budget.groupby('city')['bath'].agg(np.mean).round(2).sort_values(ascending = False)[:100].index.tolist()\n",
        "  common_elements = list(set.intersection(*map(set, [ a, b, c])))\n",
        "  if len(common_elements) == 0:\n",
        "    return 'Nothing found'\n",
        "  else:\n",
        "    return common_elements\n",
        "\n",
        "findhome_onbudget('NY',1000000)"
      ],
      "metadata": {
        "colab": {
          "base_uri": "https://localhost:8080/"
        },
        "id": "Femu-x6tybSK",
        "outputId": "59d81a84-1ec6-4974-c602-545d6c258903"
      },
      "execution_count": null,
      "outputs": [
        {
          "output_type": "execute_result",
          "data": {
            "text/plain": [
              "['Morrisonville',\n",
              " 'White Lake',\n",
              " 'Essex',\n",
              " 'Milan',\n",
              " 'Chatham Village',\n",
              " 'Whitehall Village',\n",
              " 'Orangeburg']"
            ]
          },
          "metadata": {},
          "execution_count": 49
        }
      ]
    },
    {
      "cell_type": "markdown",
      "source": [
        "# Add the final notebook"
      ],
      "metadata": {
        "id": "eDOz77CMYkrf"
      }
    },
    {
      "cell_type": "markdown",
      "source": [
        "DATA DICTIONARY"
      ],
      "metadata": {
        "id": "vCBTZyvEk8Gz"
      }
    },
    {
      "cell_type": "markdown",
      "source": [
        "| Feature Name | Description | Data Types |\n",
        "| ------------ | ---------- | --- |\n",
        "| status | _For sale or not_ | string |\n",
        "| price | _Selling price in dollars_ | float |\n",
        "| bed | _Number of bedrooms_ | float | \n",
        "| bath | _Number of bathrooms_ | float |\n",
        "| acre_lot | _Acreage of property_ | float |\n",
        "| address | _Full address of property_ | string |\n",
        "| street | _Street of property_ | string |\n",
        "| city | _City of property_ | string |\n",
        "| state | _State of property_ | string |\n",
        "| zip_code | _Zipcode of property_ | float |\n",
        "| house_size | _Square footage of property_ | float | \n",
        "|sold_date | _Date of property sale_ | string |"
      ],
      "metadata": {
        "id": "3UVF6GPPY6fg"
      }
    },
    {
      "cell_type": "code",
      "source": [
        "sorted(real_estate_data_copy['state'].unique())"
      ],
      "metadata": {
        "colab": {
          "base_uri": "https://localhost:8080/"
        },
        "id": "gj1itf3qbVsa",
        "outputId": "5eb88a8a-16b3-45dd-eed6-9e3d75c945dd"
      },
      "execution_count": null,
      "outputs": [
        {
          "output_type": "execute_result",
          "data": {
            "text/plain": [
              "['Connecticut',\n",
              " 'Delaware',\n",
              " 'Maine',\n",
              " 'Massachusetts',\n",
              " 'New Hampshire',\n",
              " 'New Jersey',\n",
              " 'New York',\n",
              " 'Pennsylvania',\n",
              " 'Rhode Island',\n",
              " 'Vermont']"
            ]
          },
          "metadata": {},
          "execution_count": 50
        }
      ]
    },
    {
      "cell_type": "markdown",
      "source": [
        "STATE DICTIONARY"
      ],
      "metadata": {
        "id": "vUFxt0nprkg4"
      }
    },
    {
      "cell_type": "markdown",
      "source": [
        "| State Abbreviation | State | Removed | \n",
        "| ------------ | ---------- | -------- | \n",
        "| Connecticut | CT | |\n",
        "| Delaware | DE | |\n",
        "| Georgia | GA | _Removed due to lack of data_ |\n",
        "| Maine | ME | |\n",
        "| Massachusetts | MA | |\n",
        "| New Hampshire | NH | |\n",
        "| New Jersey | NJ | |\n",
        "| New York | NY | |\n",
        "| Pennsylvania |PA | |\n",
        "| Puerto Rico | PR | _Removed due irrelevance_ |\n",
        "| Rhode Island |RI | |\n",
        "| South Carolina | SC | _Removed due to lack of data_ |\n",
        "| Tennessee | TN | _Removed due to lack of data_ |\n",
        "| Vermont | VT | |\n",
        "| Virgin Islands | VI | _Removed due irrelevance_ |\n",
        "| Virginia | VA | _Removed due to lack of data_ |\n",
        "| West Virginia | WV | _Removed due to lack of data_ |\n",
        "| Wyoming | WY | _Removed due to lack of data_ |"
      ],
      "metadata": {
        "id": "5Ad6pvM8czsI"
      }
    },
    {
      "cell_type": "markdown",
      "source": [
        "What is best state/city by price per sqft?"
      ],
      "metadata": {
        "id": "xLtZFJwi3n7n"
      }
    },
    {
      "cell_type": "code",
      "source": [
        "# Comparing states, sub in whichever category \n",
        "real_estate_data_copy.groupby('state')['price_sqft'].agg(np.mean).round(2).sort_values().plot(kind='bar');\n",
        "# sort_value() to sort by numbers\n",
        "# sort_index() to sort by state"
      ],
      "metadata": {
        "colab": {
          "base_uri": "https://localhost:8080/",
          "height": 348
        },
        "id": "TwgWyJ9MahfK",
        "outputId": "b8ac4e03-9aee-480f-86c1-57d6c96f610f"
      },
      "execution_count": null,
      "outputs": [
        {
          "output_type": "display_data",
          "data": {
            "text/plain": [
              "<Figure size 432x288 with 1 Axes>"
            ],
            "image/png": "[encoded data removed]"
          },
          "metadata": {
            "needs_background": "light"
          }
        }
      ]
    },
    {
      "cell_type": "code",
      "source": [
        "real_estate_data_copy.groupby('state')['bed'].agg(np.mean).round(2).sort_values().plot(kind='bar');"
      ],
      "metadata": {
        "colab": {
          "base_uri": "https://localhost:8080/",
          "height": 348
        },
        "id": "eXSbeToy-Wcr",
        "outputId": "5595cc82-def0-42dc-8c5c-bd76f019a8ea"
      },
      "execution_count": null,
      "outputs": [
        {
          "output_type": "display_data",
          "data": {
            "text/plain": [
              "<Figure size 432x288 with 1 Axes>"
            ],
            "image/png": "[encoded data removed]"
          },
          "metadata": {
            "needs_background": "light"
          }
        }
      ]
    },
    {
      "cell_type": "code",
      "source": [
        "real_estate_data_copy.groupby('state')['bath'].agg(np.mean).round(2).sort_values().plot(kind='bar');"
      ],
      "metadata": {
        "colab": {
          "base_uri": "https://localhost:8080/",
          "height": 348
        },
        "id": "nqDL4s17-kR1",
        "outputId": "bfc0439c-3786-4d4b-ef82-1a6cd93fdcc8"
      },
      "execution_count": null,
      "outputs": [
        {
          "output_type": "display_data",
          "data": {
            "text/plain": [
              "<Figure size 432x288 with 1 Axes>"
            ],
            "image/png": "[encoded data removed]"
          },
          "metadata": {
            "needs_background": "light"
          }
        }
      ]
    },
    {
      "cell_type": "code",
      "source": [
        "real_estate_data_copy.groupby('state')['bed_bath_ratio'].agg(np.mean).round(2).sort_values().plot(kind='bar');"
      ],
      "metadata": {
        "colab": {
          "base_uri": "https://localhost:8080/",
          "height": 348
        },
        "id": "q3WQPQLo-m1L",
        "outputId": "dab152d1-d7f6-410c-82b6-f2907ca6d146"
      },
      "execution_count": null,
      "outputs": [
        {
          "output_type": "display_data",
          "data": {
            "text/plain": [
              "<Figure size 432x288 with 1 Axes>"
            ],
            "image/png": "[encoded data removed]"
          },
          "metadata": {
            "needs_background": "light"
          }
        }
      ]
    },
    {
      "cell_type": "code",
      "source": [
        "real_estate_data_copy.groupby('state')['acre_lot'].agg(np.mean).round(2).sort_values().plot(kind='bar');"
      ],
      "metadata": {
        "colab": {
          "base_uri": "https://localhost:8080/",
          "height": 348
        },
        "id": "xYcmIeRo-qUT",
        "outputId": "a1992a24-39fd-4674-93db-264867325346"
      },
      "execution_count": null,
      "outputs": [
        {
          "output_type": "display_data",
          "data": {
            "text/plain": [
              "<Figure size 432x288 with 1 Axes>"
            ],
            "image/png": "[encoded data removed]"
          },
          "metadata": {
            "needs_background": "light"
          }
        }
      ]
    },
    {
      "cell_type": "code",
      "source": [
        "real_estate_data_copy.groupby('state')['price_acre'].agg(np.mean).round(2).sort_values().plot(kind='bar');"
      ],
      "metadata": {
        "colab": {
          "base_uri": "https://localhost:8080/",
          "height": 359
        },
        "id": "IMQiKXjg_Qu7",
        "outputId": "0ec6c8d3-bc45-4ae3-80a4-f8088e8b02e8"
      },
      "execution_count": null,
      "outputs": [
        {
          "output_type": "display_data",
          "data": {
            "text/plain": [
              "<Figure size 432x288 with 1 Axes>"
            ],
            "image/png": "[encoded data removed]"
          },
          "metadata": {
            "needs_background": "light"
          }
        }
      ]
    },
    {
      "cell_type": "markdown",
      "source": [
        "What is best city by more than one feature?"
      ],
      "metadata": {
        "id": "cDzgSqKi3rCR"
      }
    },
    {
      "cell_type": "markdown",
      "source": [
        "What if our client has a budget?\n",
        "*   When searching for a new home most buyers have a budget\n",
        "\n",
        "The function below allows our client to find a city that is:\n",
        "1.   Within their budget\n",
        "2.   A below average price per square foot\n",
        "3.   An above average amount of bedrooms and bathrooms "
      ],
      "metadata": {
        "id": "rfXobBlQI0kB"
      }
    },
    {
      "cell_type": "code",
      "source": [
        "# States in the top ten of price per sqft, number of bedroom, number of bathrooms \n",
        "def findhome_onbudget(state, budget):\n",
        "  state_data = real_estate_data_copy[real_estate_data_copy['state_abbrev'] == state]\n",
        "  within_budget = state_data[state_data['price'] <= budget]\n",
        "  a = within_budget.groupby('city')['price_sqft'].agg(np.mean).round(2).sort_values(ascending = True)[:100].index.tolist()\n",
        "  b = within_budget.groupby('city')['bed'].agg(np.mean).round(2).sort_values(ascending = False)[:100].index.tolist()\n",
        "  c = within_budget.groupby('city')['bath'].agg(np.mean).round(2).sort_values(ascending = False)[:100].index.tolist()\n",
        "  common_elements = list(set.intersection(*map(set, [ a, b, c])))\n",
        "  if len(common_elements) == 0:\n",
        "    return 'Nothing found'\n",
        "  else:\n",
        "    return common_elements\n",
        "\n",
        "findhome_onbudget('NY',700000)"
      ],
      "metadata": {
        "colab": {
          "base_uri": "https://localhost:8080/"
        },
        "id": "pbN3XuuLJSrG",
        "outputId": "17fcb201-5813-4ec5-d6ff-1643768e1f90"
      },
      "execution_count": null,
      "outputs": [
        {
          "output_type": "execute_result",
          "data": {
            "text/plain": [
              "['Schodack Landing',\n",
              " 'Hillsdale',\n",
              " 'Morrisonville',\n",
              " 'White Lake',\n",
              " 'Essex',\n",
              " 'Milan',\n",
              " 'Kinderhook',\n",
              " 'Chatham Village',\n",
              " 'Stormville',\n",
              " 'Verbank',\n",
              " 'Nassau',\n",
              " 'Whitehall Village',\n",
              " 'Greenwich',\n",
              " 'Monticello',\n",
              " 'Peru']"
            ]
          },
          "metadata": {},
          "execution_count": 57
        }
      ]
    },
    {
      "cell_type": "markdown",
      "source": [
        "# regression "
      ],
      "metadata": {
        "id": "bKvlZnd9oZfa"
      }
    },
    {
      "cell_type": "code",
      "source": [
        "import pandas as pd\n",
        "from sklearn import linear_model\n",
        "import statsmodels.api as sm\n",
        "\n",
        "\n",
        "x = real_estate_data_copy[['price_sqft','bed_bath_ratio']]\n",
        "y = real_estate_data_copy['price']\n",
        " \n",
        "# with sklearn\n",
        "regr = linear_model.LinearRegression()\n",
        "regr.fit(x, y)\n",
        "\n",
        "print('Intercept: \\n', regr.intercept_)\n",
        "print('Coefficients: \\n', regr.coef_)\n",
        "\n",
        "# with statsmodels\n",
        "x = sm.add_constant(x) # adding a constant\n",
        " \n",
        "model = sm.OLS(y, x).fit()\n",
        "predictions = model.predict(x) \n",
        " \n",
        "print_model = model.summary()\n",
        "print(print_model)"
      ],
      "metadata": {
        "id": "GuYzV4EbodLv",
        "colab": {
          "base_uri": "https://localhost:8080/"
        },
        "outputId": "3161c020-e6ae-4924-dd2f-f8a731c3aeee"
      },
      "execution_count": null,
      "outputs": [
        {
          "output_type": "stream",
          "name": "stdout",
          "text": [
            "Intercept: \n",
            " 395699.9747873738\n",
            "Coefficients: \n",
            " [   1127.97967151 -114272.85010934]\n",
            "                            OLS Regression Results                            \n",
            "==============================================================================\n",
            "Dep. Variable:                  price   R-squared:                       0.551\n",
            "Model:                            OLS   Adj. R-squared:                  0.551\n",
            "Method:                 Least Squares   F-statistic:                 6.668e+04\n",
            "Date:                Thu, 15 Dec 2022   Prob (F-statistic):               0.00\n",
            "Time:                        15:31:11   Log-Likelihood:            -1.5332e+06\n",
            "No. Observations:              108842   AIC:                         3.066e+06\n",
            "Df Residuals:                  108839   BIC:                         3.066e+06\n",
            "Df Model:                           2                                         \n",
            "Covariance Type:            nonrobust                                         \n",
            "==================================================================================\n",
            "                     coef    std err          t      P>|t|      [0.025      0.975]\n",
            "----------------------------------------------------------------------------------\n",
            "const           3.957e+05   2738.785    144.480      0.000     3.9e+05    4.01e+05\n",
            "price_sqft      1127.9797      3.336    338.148      0.000    1121.442    1134.518\n",
            "bed_bath_ratio -1.143e+05   1445.290    -79.066      0.000   -1.17e+05   -1.11e+05\n",
            "==============================================================================\n",
            "Omnibus:                     6536.377   Durbin-Watson:                   1.604\n",
            "Prob(Omnibus):                  0.000   Jarque-Bera (JB):            18950.546\n",
            "Skew:                           0.309   Prob(JB):                         0.00\n",
            "Kurtosis:                       4.949   Cond. No.                     1.40e+03\n",
            "==============================================================================\n",
            "\n",
            "Notes:\n",
            "[1] Standard Errors assume that the covariance matrix of the errors is correctly specified.\n",
            "[2] The condition number is large, 1.4e+03. This might indicate that there are\n",
            "strong multicollinearity or other numerical problems.\n"
          ]
        },
        {
          "output_type": "stream",
          "name": "stderr",
          "text": [
            "/usr/local/lib/python3.8/dist-packages/statsmodels/tsa/tsatools.py:142: FutureWarning:\n",
            "\n",
            "In a future version of pandas all arguments of concat except for the argument 'objs' will be keyword-only\n",
            "\n"
          ]
        }
      ]
    },
    {
      "cell_type": "markdown",
      "source": [
        "# scrap"
      ],
      "metadata": {
        "id": "Xw0sS_R5Z1vt"
      }
    },
    {
      "cell_type": "code",
      "source": [
        "state_data = real_estate_data_copy[real_estate_data_copy['state_abbrev'] == 'NJ']\n",
        "state_data.groupby('city')['price'].agg(np.mean).round(2).sort_values()"
      ],
      "metadata": {
        "colab": {
          "base_uri": "https://localhost:8080/"
        },
        "id": "rsPPmnNvZ31q",
        "outputId": "ea44e09d-5227-40be-bdfc-d73916814406"
      },
      "execution_count": null,
      "outputs": [
        {
          "output_type": "execute_result",
          "data": {
            "text/plain": [
              "city\n",
              "Port Murray               9714.29\n",
              "Buena Vista              50000.00\n",
              "Devonshire               73500.00\n",
              "Elk Township             75000.00\n",
              "Berkeley Township        79900.00\n",
              "                          ...    \n",
              "Loch Arbour Village    1610168.00\n",
              "Allenhurst             1610168.00\n",
              "Deal                   1610168.00\n",
              "Normandy Beach         1610168.00\n",
              "Princeton Township     1610168.00\n",
              "Name: price, Length: 759, dtype: float64"
            ]
          },
          "metadata": {},
          "execution_count": 66
        }
      ]
    }
  ]
}
